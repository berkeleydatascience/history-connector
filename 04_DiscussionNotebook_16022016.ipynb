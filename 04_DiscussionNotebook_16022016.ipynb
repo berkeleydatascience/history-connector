{
 "cells": [
  {
   "cell_type": "code",
   "execution_count": null,
   "metadata": {
    "collapsed": true
   },
   "outputs": [],
   "source": [
    "from datascience import Table\n",
    "from datascience import *\n",
    "%matplotlib inline\n",
    "import matplotlib.pyplot as plots\n",
    "plots.style.use(\"fivethirtyeight\")\n",
    "import numpy as np"
   ]
  },
  {
   "cell_type": "markdown",
   "metadata": {},
   "source": [
    "# Discussion 4: Examining Fogel and Engerman's Data Further"
   ]
  },
  {
   "cell_type": "markdown",
   "metadata": {},
   "source": [
    "Last time, we looked at an example of a qualitative variable, namely gender (V15), and a qualitative one, namely recorded number of sales per year (V4). This time we will explore what seems at first a straight-forward variable, price (V14). One motivation for this is the still quite controversial claim about economic efficiency of slavery that Fogel outlines in \"Coming to Terms with the Economic Viability of Slavery.\"\n",
    "\n",
    "As an outline, here are the topics we will cover today: \n",
    "\n",
    "/1/ Thinking about prices\n",
    "\n",
    "/2/ Central tendencies\n",
    "\n",
    "/3/ Exploring the dataset further"
   ]
  },
  {
   "cell_type": "markdown",
   "metadata": {},
   "source": [
    "Let's start with reading in the data and doing a bit of exploration\n",
    "\n",
    "/a/ Exploring the data about price"
   ]
  },
  {
   "cell_type": "code",
   "execution_count": null,
   "metadata": {
    "collapsed": true
   },
   "outputs": [],
   "source": [
    "data = Table.read_table(\"https://github.com/data-8/history-connector/raw/gh-pages/Data1.csv\")\n",
    "data"
   ]
  },
  {
   "cell_type": "code",
   "execution_count": null,
   "metadata": {
    "collapsed": true
   },
   "outputs": [],
   "source": [
    "plots.hist(data[\"V14\"], bins=100)\n",
    "\n",
    "#Several alternatives exist, and see which you might, or not, prefer\n",
    "#data.hist('V14', bins=100)\n",
    "# plots.hist(data[\"V14\"], bins=np.arange(0, 100000, 1000))"
   ]
  },
  {
   "cell_type": "code",
   "execution_count": null,
   "metadata": {
    "collapsed": true
   },
   "outputs": [],
   "source": [
    "data.hist('V12', bins=np.arange(0,50,1))"
   ]
  },
  {
   "cell_type": "code",
   "execution_count": null,
   "metadata": {
    "collapsed": true
   },
   "outputs": [],
   "source": [
    "data.hist('V13', bins=np.arange(0,50,1))"
   ]
  },
  {
   "cell_type": "markdown",
   "metadata": {},
   "source": [
    "/b/  What does $350 in 1804 actually mean, or $1,000?\n",
    "\n",
    "Before talking further about price, let's examine several ways to think of historical prices:\n",
    "\n",
    "https://www.measuringworth.com/tutorial1.php \n",
    "\n",
    "Note, there are very, very high prices in the dateset. "
   ]
  },
  {
   "cell_type": "markdown",
   "metadata": {},
   "source": [
    "/c/ Simplification: limiting exploration of price, and inferences we can draw\n",
    "\n",
    "To get a rough sense of prices, three simplifications help: V14 !=99999, and V12=1 and V13=1. By doing this, we will see a trend, and we will see that the trend describes only a part of what the dataset records. Would you consider this a huge caveat, maybe a necessary one, or maybe both?"
   ]
  },
  {
   "cell_type": "code",
   "execution_count": null,
   "metadata": {
    "collapsed": true
   },
   "outputs": [],
   "source": [
    "PriceRecorded=data.where(data[\"V14\"] != 99999)\n",
    "PriceRecorded.sort(\"V14\", descending=True)"
   ]
  },
  {
   "cell_type": "code",
   "execution_count": null,
   "metadata": {
    "collapsed": true
   },
   "outputs": [],
   "source": [
    "PriceRecorded.hist('V14', bins=np.arange(0, 35000,100))\n",
    "\n",
    "#Your graph may look a bit nicer; I worked with an older version of Tables"
   ]
  },
  {
   "cell_type": "code",
   "execution_count": null,
   "metadata": {
    "collapsed": true
   },
   "outputs": [],
   "source": [
    "#To confirm, one option is: \n",
    "#PriceBins = PriceRecorded.bin('V14', bins=np.arange(0,31600,100))\n",
    "#PriceBins.sort(\"bin\", descending=True)\n",
    "#Note: this provides a useful view: PriceBins.sort(\"V14 count\", descending=True)"
   ]
  },
  {
   "cell_type": "code",
   "execution_count": null,
   "metadata": {
    "collapsed": true
   },
   "outputs": [],
   "source": [
    "PriceRecorded.where(PriceRecorded.column('V14')> 5000).sort('V14', descending=True).show()"
   ]
  },
  {
   "cell_type": "markdown",
   "metadata": {},
   "source": [
    "In class we saw the use of np.logical to subselect only certain values from a dataset(see below). We can do a similar thing in several steps:\n",
    "/i/set V12 to 1\n",
    "/ii/set V13 to 1\n",
    "/iii/sort V14 to confirm earlier findings re 999s\n",
    "\n",
    "\n",
    "Here is what I had in mind:\n",
    "\n",
    "both = census.where(census.column('SEX') != 0)\n",
    "both.where(np.logical_or(both.column('AGE') == 18, \n",
    "                         both.column('AGE') == 19))"
   ]
  },
  {
   "cell_type": "code",
   "execution_count": null,
   "metadata": {
    "collapsed": true
   },
   "outputs": [],
   "source": [
    "SingularRecord=PriceRecorded.where(np.logical_and(PriceRecorded.column('V12')==1, \n",
    "                                                PriceRecorded.column('V13')==1))\n",
    "SingularRecord.sort('V14', descending=True)"
   ]
  },
  {
   "cell_type": "code",
   "execution_count": null,
   "metadata": {
    "collapsed": true
   },
   "outputs": [],
   "source": [
    "SingularRecord.hist('V14', bins=np.arange(0,2501, 100))"
   ]
  },
  {
   "cell_type": "markdown",
   "metadata": {},
   "source": [
    "Does it seem like there is a central tendency? Does the visual from class, showing duration of bike rides, come to mind? What happens when chaning bins? Consider what this implies about prices. This brings us to a second topic, how migh prices differ?\n",
    "\n",
    "/2/ Central Tendencies: A Critical Step to Evaluation Differences between Values\n",
    "\n",
    "How do we know what price is really high, and not just high? The intuition we have is that those values far from the average value, the central tendency (or the mean, if you like), are unusual. In this context, those values way to th right of the average value are really high -- say, $2000 -- while those to the left are really low -- look at the first bin.\n",
    "\n",
    "To make this clearer, let's find the average price using the variable V15, Gender (or, in the original Codebook, Sex). One question to ask is, what are the average, and the really unusual prices given Gender.\n",
    "\n",
    "/a/Sub-selecting just the two variables, V15 and V14, may help to highlight the main findings:"
   ]
  },
  {
   "cell_type": "code",
   "execution_count": null,
   "metadata": {
    "collapsed": true
   },
   "outputs": [],
   "source": [
    "Gender_SR = SingularRecord.select([\"V15\", \"V14\"])\n",
    "Gender_SR"
   ]
  },
  {
   "cell_type": "code",
   "execution_count": null,
   "metadata": {
    "collapsed": true
   },
   "outputs": [],
   "source": [
    "Male_SR = Gender_SR.where('V15',1)\n",
    "Male_SR.sort('V14', descending=True)"
   ]
  },
  {
   "cell_type": "code",
   "execution_count": null,
   "metadata": {
    "collapsed": true
   },
   "outputs": [],
   "source": [
    "Male_SR.hist('V14', bins=np.arange(0, 2501,100))"
   ]
  },
  {
   "cell_type": "code",
   "execution_count": null,
   "metadata": {
    "collapsed": true
   },
   "outputs": [],
   "source": [
    "Female_SR = Gender_SR.where('V15', 2)\n",
    "Female_SR.sort('V14', descending=True)"
   ]
  },
  {
   "cell_type": "code",
   "execution_count": null,
   "metadata": {
    "collapsed": true
   },
   "outputs": [],
   "source": [
    "Female_SR.hist('V14', bins=np.arange(0, 2501, 100))"
   ]
  },
  {
   "cell_type": "markdown",
   "metadata": {},
   "source": [
    "/b/ Visual inspection leads to what tentative conclusions? Do you note an obvious difference in price?\n",
    "\n",
    "We can express numerically some of the quantities of interest, for instance the total value of all those prices as well as the average price. Comparing average prices across Gender begins to address the question of what prices mean, how they differ, or not. Of course, recall that we made several assumptions to permit us to do this analysis, and we came back to these assumptions in our discussion.\n",
    "\n",
    "First, we add-up, or sum the values for V14; second, we divide the total by the number of Singular Records. The result can be thought of as the average sale value among sales that have Singular Records.\n",
    "\n",
    "Doing the same process for the two Genders permits a comparison, and rises a host of questions, including whether the result is surprising given, for example, the so-called gender gap in pay you may have heard about."
   ]
  },
  {
   "cell_type": "code",
   "execution_count": null,
   "metadata": {
    "collapsed": true
   },
   "outputs": [],
   "source": [
    "sum(Female_SR ['V14'])"
   ]
  },
  {
   "cell_type": "code",
   "execution_count": null,
   "metadata": {
    "collapsed": true
   },
   "outputs": [],
   "source": [
    "sum(Female_SR ['V14'])/1402\n",
    "\n",
    "#another way to do this: \n",
    "#np.mean(Female_SR ['V14'])\n",
    "#np.std (Female_SR ['V14'])"
   ]
  },
  {
   "cell_type": "code",
   "execution_count": null,
   "metadata": {
    "collapsed": true
   },
   "outputs": [],
   "source": [
    "#Similar steps for Male;\n",
    "\n",
    "sum(Male_SR ['V14'])"
   ]
  },
  {
   "cell_type": "code",
   "execution_count": null,
   "metadata": {
    "collapsed": true
   },
   "outputs": [],
   "source": [
    "sum(Male_SR ['V14'])/1313"
   ]
  },
  {
   "cell_type": "markdown",
   "metadata": {},
   "source": [
    "Given the assumptions we have made, we can observe some difference in price across Gender, but this is a not a very firm conclusion. Over the next few classes we will explore whether it is possible to arrive at a firmer conclusion, or whether we can only sketch-out roughly what appears to be a difference. "
   ]
  },
  {
   "cell_type": "markdown",
   "metadata": {},
   "source": [
    "/3/ Some ideas for exploring the dataset further:\n",
    "\n",
    "/a/ V16 records the age. See the distribution of this variable, and note the description in the Codebook. Can you make some tentative conclusions? Is there other information you would like to have?\n",
    "\n",
    "/b/ V17 records what the dataset describes as skin color. Do you think this variable affects price? Make sure to check the Codebook carefully, and review last week’s Notebook. One suggestion would be to compare the average prices across what contemporaries regarded as very different skin colors."
   ]
  }
 ],
 "metadata": {
  "kernelspec": {
   "display_name": "Python 3",
   "language": "python",
   "name": "python3"
  },
  "language_info": {
   "codemirror_mode": {
    "name": "ipython",
    "version": 3
   },
   "file_extension": ".py",
   "mimetype": "text/x-python",
   "name": "python",
   "nbconvert_exporter": "python",
   "pygments_lexer": "ipython3",
   "version": "3.5.0"
  }
 },
 "nbformat": 4,
 "nbformat_minor": 0
}
