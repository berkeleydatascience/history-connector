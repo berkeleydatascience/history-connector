{
 "cells": [
  {
   "cell_type": "code",
   "execution_count": null,
   "metadata": {
    "collapsed": true
   },
   "outputs": [],
   "source": [
    "from datascience import Table\n",
    "%matplotlib inline\n",
    "import matplotlib.pyplot as plt\n",
    "import numpy as np\n",
    "plt.style.use('fivethirtyeight')\n",
    "\n",
    "import pandas as pd\n",
    "\n",
    "## Just for reference, since datasience is evolving rapidly\n",
    "import datascience as ds\n",
    "ds.__version__"
   ]
  },
  {
   "cell_type": "markdown",
   "metadata": {},
   "source": [
    "# Inequality and Poverty: How Confident are We about the Trends?\n",
    "\n",
    "We will first look at the famous findings by Thomas Piketty and Emanuel Saez, and then proceed to a discussion of confidence intervals. We will look at how confidence intervals have been calculated in more traditional classes, and then you will use what you have learned in DS8 to calculate confidence intervals on an example of historical poverty rates among the elderly in the US.\n",
    "\n",
    "/I/ Inequality in historical perspective \n",
    "\n",
    "/II/ Confidence intervals – the traditional approach\n",
    "\n",
    "/III/ Confidence intervals – the newer approach\n",
    "\n"
   ]
  },
  {
   "cell_type": "markdown",
   "metadata": {},
   "source": [
    "## /I/ Inequality\n",
    "\n",
    "We will use the Piketty Saez data-set. \n",
    "\n",
    "http://eml.berkeley.edu/~saez/ \n",
    "\n",
    "Note that this is real ‘teaching moment’: they got the data from archives to answer an empirical question. The Internal Revenue Service keeps the records, and it took until the late 1990s for someone to systematically analyze tax returns of top income earners. Note also, the analysis relies heavily on what we termed descriptive stats and on – visualization. \n",
    "\n",
    "Let’s make what has become known as the Golden Gate graph:"
   ]
  },
  {
   "cell_type": "code",
   "execution_count": null,
   "metadata": {
    "collapsed": true
   },
   "outputs": [],
   "source": [
    "ustopincome= Table.read_table(\"https://github.com/data-8/history-connector/raw/gh-pages/ustop10y.csv\")\n",
    "ustopincome"
   ]
  },
  {
   "cell_type": "markdown",
   "metadata": {},
   "source": [
    "One question that suggests itself is, what happened to poverty rates during this period. We will turn to the poverty rates in the elderly population in the US, and cover during our discussion the topic more broadly."
   ]
  },
  {
   "cell_type": "markdown",
   "metadata": {},
   "source": [
    "## /II/ Confidence Intervals\n",
    "\n",
    "BIG CAVEAT: ASSUME THAT THE DATA ARE A RAMDOM DRAW, which they are not, and we will see this next week in class with permutation tests.\n",
    "\n",
    "Below is an outline of what we will cover in discussion:\n",
    "The CI is a range (or interval) of values that is likely to contain the pop parameter, and the CI is associated with a degree of confidence (denoted by the Greek letter alpha)\n",
    "\n",
    "The procedure traditionally contains the following several steps:\n",
    "-Calculate the mean and the standard deviation of the sample\n",
    "-Determine the confidence level of interest, usually a 90%, 95%, and 99%, and the critical value associated with that level, 1.645, 1.96, 2.575, respectively\n",
    "-Calculate the margin of error\n"
   ]
  },
  {
   "cell_type": "code",
   "execution_count": null,
   "metadata": {
    "collapsed": true
   },
   "outputs": [],
   "source": [
    "pov= Table.read_table(\"https://github.com/data-8/history-connector/raw/gh-pages/us65pov.csv\")\n",
    "pov"
   ]
  },
  {
   "cell_type": "code",
   "execution_count": null,
   "metadata": {
    "collapsed": true
   },
   "outputs": [],
   "source": [
    "#Let's see the trends overall:\n",
    "\n",
    "(\n",
    "pov.\n",
    "select([\"year\", \"w65pc\" , \"b65pc\", \"h65pc\", \"65pc\", \"a65pc\"]).\n",
    "plot(\"year\", [\"w65pc\" , \"b65pc\", \"h65pc\", \"65pc\", \"a65pc\"])\n",
    "     )"
   ]
  },
  {
   "cell_type": "code",
   "execution_count": null,
   "metadata": {
    "collapsed": true
   },
   "outputs": [],
   "source": [
    "#Comparing the African American and white \"sample\"\n",
    "diffpov = pov.select([\"w65pc\", \"b65pc\"])\n",
    "diffpov"
   ]
  },
  {
   "cell_type": "code",
   "execution_count": null,
   "metadata": {
    "collapsed": true
   },
   "outputs": [],
   "source": [
    "#A visualization of the \"sample\" -- note again, this is Census data\n",
    "\n",
    "viz_uspov = diffpov.select([\"w65pc\"])\n",
    "viz_uspov.hist(bins=np.arange(0, 60, 1))"
   ]
  },
  {
   "cell_type": "code",
   "execution_count": null,
   "metadata": {
    "collapsed": true
   },
   "outputs": [],
   "source": [
    "viz_bpov = diffpov.select([\"b65pc\"])\n",
    "viz_bpov.hist(bins=np.arange(0, 60, 1))"
   ]
  },
  {
   "cell_type": "code",
   "execution_count": null,
   "metadata": {
    "collapsed": true
   },
   "outputs": [],
   "source": [
    "#The means\n",
    "bmean = np.mean(diffpov[\"b65pc\"])\n",
    "bmean"
   ]
  },
  {
   "cell_type": "code",
   "execution_count": null,
   "metadata": {
    "collapsed": true
   },
   "outputs": [],
   "source": [
    "wmean = np.mean(diffpov[\"w65pc\"])\n",
    "wmean"
   ]
  },
  {
   "cell_type": "code",
   "execution_count": null,
   "metadata": {
    "collapsed": true
   },
   "outputs": [],
   "source": [
    "# The STDs for \"samples\"\n",
    "\n",
    "stdb = diffpov [\"b65pc\"].std()\n",
    "stdb"
   ]
  },
  {
   "cell_type": "code",
   "execution_count": null,
   "metadata": {
    "collapsed": true
   },
   "outputs": [],
   "source": [
    "stdw = diffpov [\"w65pc\"].std()\n",
    "stdw"
   ]
  },
  {
   "cell_type": "code",
   "execution_count": null,
   "metadata": {
    "collapsed": true
   },
   "outputs": [],
   "source": [
    "# The CIs for the two \"samples\", and we cover the steps in discussion\n",
    "#Note, as in class, 95% is taken\n",
    "\n",
    "conf95b = (stdb/len(diffpov.rows)**0.5)*1.96\n",
    "conf95b"
   ]
  },
  {
   "cell_type": "code",
   "execution_count": null,
   "metadata": {
    "collapsed": true
   },
   "outputs": [],
   "source": [
    "# How would you change this to a 99% or a 90%"
   ]
  },
  {
   "cell_type": "code",
   "execution_count": null,
   "metadata": {
    "collapsed": true
   },
   "outputs": [],
   "source": [
    "conf95w = (stdw/len(diffpov.rows)**0.5)*1.96\n",
    "conf95w"
   ]
  },
  {
   "cell_type": "code",
   "execution_count": null,
   "metadata": {
    "collapsed": true
   },
   "outputs": [],
   "source": [
    "#If CIs do not overlap, then we can reject the hypothesis of equal poverty rates\n",
    "\n",
    "wmean + conf95w"
   ]
  },
  {
   "cell_type": "code",
   "execution_count": null,
   "metadata": {
    "collapsed": true
   },
   "outputs": [],
   "source": [
    "bmean - conf95b"
   ]
  },
  {
   "cell_type": "code",
   "execution_count": null,
   "metadata": {
    "collapsed": true
   },
   "outputs": [],
   "source": [
    "#What kind of conclusion can you draw? "
   ]
  },
  {
   "cell_type": "markdown",
   "metadata": {},
   "source": [
    "## /III/ Your Turn with CIs \n",
    "\n",
    "Here's the code from class:\n",
    "\n",
    "def average_ci(sample, label):\n",
    "    deviations = Table(['Resample #', 'Deviation'])\n",
    "    n = sample.num_rows\n",
    "    average = np.average(sample.column(label))\n",
    "    for i in np.arange(1000):\n",
    "        resample = sample.sample(n, with_replacement=True)\n",
    "        dev = np.average(resample.column(label)) - average\n",
    "        deviations.append([i, dev])\n",
    "    return (average - percentile(97.5, deviations.column(1)),\n",
    "            average - percentile(2.5, deviations.column(1)))\n",
    "\n",
    "average_ci(sample, 'Duration')\n",
    "\n",
    "Could you adapt it to construct a CI based on our \"sample\"?"
   ]
  }
 ],
 "metadata": {
  "kernelspec": {
   "display_name": "Python 3",
   "language": "python",
   "name": "python3"
  },
  "language_info": {
   "codemirror_mode": {
    "name": "ipython",
    "version": 3
   },
   "file_extension": ".py",
   "mimetype": "text/x-python",
   "name": "python",
   "nbconvert_exporter": "python",
   "pygments_lexer": "ipython3",
   "version": "3.5.1"
  }
 },
 "nbformat": 4,
 "nbformat_minor": 0
}
