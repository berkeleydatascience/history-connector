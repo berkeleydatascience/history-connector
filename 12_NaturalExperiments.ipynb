{
 "cells": [
  {
   "cell_type": "code",
   "execution_count": null,
   "metadata": {
    "collapsed": true
   },
   "outputs": [],
   "source": [
    "#Hidden\n",
    "from datascience import Table\n",
    "%matplotlib inline\n",
    "import matplotlib.pyplot as plots\n",
    "import numpy as np\n",
    "plots.style.use('fivethirtyeight')\n",
    "\n",
    "import pandas as pd\n",
    "\n",
    "## Just for reference, since datasience is evolving rapidly\n",
    "import datascience as ds\n",
    "ds.__version__"
   ]
  },
  {
   "cell_type": "markdown",
   "metadata": {},
   "source": [
    "# From Hypothesis Testing to Causality\n",
    "\n",
    "How do we know that a change in one variable actually causes a change in another? Natural experiments, like those that we saw at the start of class with the case of John Snow and cholera, are viewed as among the most convincing ways to argue for a causal relationships. We will look today at what is called a quasi-natural experiment, namely what happens to commercial activity when some banks are bailed out while others are not. We start with a recap of hypothesis testing.\n",
    "\n",
    "/I/ AB Testing\n",
    "\n",
    "/II/ Interpretation and Linear Regression"
   ]
  },
  {
   "cell_type": "markdown",
   "metadata": {},
   "source": [
    "## /I/ AB Testing, recap\n",
    "We will return to the slavery data from the start of the semester, and how much we have learned. The codebook is at: http://www.icpsr.umich.edu/icpsrweb/RCMD/studies/7423 , and you also have a copy in Bcourses. \n"
   ]
  },
  {
   "cell_type": "code",
   "execution_count": null,
   "metadata": {
    "collapsed": true
   },
   "outputs": [],
   "source": [
    "data = Table.read_table(\"https://github.com/data-8/history-connector/raw/gh-pages/Data1.csv\")"
   ]
  },
  {
   "cell_type": "markdown",
   "metadata": {},
   "source": [
    "Recall that some records contain multiple entries and, to simplify, we examined only a subgroup, where prices are known and refer to individual records: "
   ]
  },
  {
   "cell_type": "code",
   "execution_count": null,
   "metadata": {
    "collapsed": true
   },
   "outputs": [],
   "source": [
    "data = data.where(data[\"V14\"] != 99999)\n",
    "data = data.where(data[\"V12\"] == 1)\n",
    "data = data.where(data[\"V40\"]!=99)\n",
    "data"
   ]
  },
  {
   "cell_type": "markdown",
   "metadata": {},
   "source": [
    "Also, we will restrict data to a single year so that we can easily check the real value (or labor value, labor value, or income value; here is the web-site where we can check these figures:  https://www.measuringworth.com/uscompare/) "
   ]
  },
  {
   "cell_type": "code",
   "execution_count": null,
   "metadata": {
    "collapsed": true
   },
   "outputs": [],
   "source": [
    "#keep#\n",
    "data1850 = data.where(data[\"V4\"] == 1850)\n",
    "data1851 = data.where(data[\"V4\"] == 1851)\n",
    "data1852 = data.where(data[\"V4\"] == 1852)\n",
    "#data1850.show()#"
   ]
  },
  {
   "cell_type": "markdown",
   "metadata": {},
   "source": [
    "Prices of cotton tended to rise after the 1840s, so we can look at 1850. You can look at some other year, and recall that prices were very high after the War of 1812 and in the 1830s due to a boom in land prices (“internal improvements”); in contrast, the “Panic of 1837” had the opposite effect on prices.\n",
    "Keep in mind the following values:\n",
    "\n",
    "“If you want to compare the value of a $1.00 Commodity in 1850 there are three choices. \n",
    "In 2014 the relative:\n",
    "real price of that commodity is $31.30\n",
    "labor value of that commodity is $223.00 (using the unskilled wage) or $482.00 (using production worker compensation)\n",
    "income value of that commodity is $490.00”\n"
   ]
  },
  {
   "cell_type": "markdown",
   "metadata": {},
   "source": [
    "## Your turn\n",
    "\n",
    "Now Calculate the mean price for 1850, and express it in 2014 dollars."
   ]
  },
  {
   "cell_type": "code",
   "execution_count": null,
   "metadata": {
    "collapsed": true
   },
   "outputs": [],
   "source": [
    "mean..."
   ]
  },
  {
   "cell_type": "code",
   "execution_count": null,
   "metadata": {
    "collapsed": true
   },
   "outputs": [],
   "source": [
    "#sort gender where now male = 0, female = 1 for future AB test\n",
    "new_gender = []\n",
    "for i in data[\"V15\"]:\n",
    "    new_gender.append(i - 1)\n",
    "data.append_column(\"V15_new\", new_gender)\n",
    "\n",
    "#sort skill where now 0=Unlisted; 1=Listed and drop all 99 value for future AB test\n",
    "data = data.where(data[\"V40\"]!=99)\n",
    "new_skill = []\n",
    "for a in data[\"V40\"]:\n",
    "    new_skill.append(a - 1)\n",
    "data.append_column(\"V40_new\", new_skill)"
   ]
  },
  {
   "cell_type": "code",
   "execution_count": null,
   "metadata": {
    "collapsed": true
   },
   "outputs": [],
   "source": [
    "\"\"\"Bootstrap A/B test for the difference in the mean response\n",
    "Assumes A=0, B=1\"\"\"\n",
    "\n",
    "def bootstrap_AB_test(samp_table, response_label, ab_label, repetitions):\n",
    "    \n",
    "    # Sort the sample table according to the A/B column; \n",
    "    # then select only the column of effects.\n",
    "    response = samp_table.sort(ab_label).select(response_label)\n",
    "    \n",
    "    # Find the number of entries in Category A.\n",
    "    n_A = samp_table.where(samp_table[ab_label],0).num_rows\n",
    "      \n",
    "    # Calculate the observed value of the test statistic.\n",
    "    meanA = np.mean(response[response_label][:n_A])\n",
    "    meanB = np.mean(response[response_label][n_A:])\n",
    "    obs_diff = meanA - meanB\n",
    "    \n",
    "    # Run the bootstrap procedure and get a list of resampled differences in means\n",
    "    diffs = []\n",
    "    for i in range(repetitions):\n",
    "        resample = response.sample(with_replacement=True)\n",
    "        d = np.mean(resample[response_label][:n_A]) - np.mean(resample[response_label][n_A:])\n",
    "        diffs.append([d])\n",
    "    \n",
    "    # Compute the bootstrap empirical P-value\n",
    "    diff_array = np.array(diffs)\n",
    "    p_value = np.count_nonzero(abs(diff_array) >= abs(obs_diff))/repetitions\n",
    "    \n",
    "    # Display results\n",
    "    diffs = Table([diffs],['diff_in_means'])\n",
    "    diffs.hist(bins=20,normed=True)\n",
    "    plots.xlabel('Approx null distribution of difference in means')\n",
    "    plots.title('Bootstrap A-B Test')\n",
    "    print(\"Observed difference in means: \", obs_diff)\n",
    "    print(\"Bootstrap empirical P-value: \", p_value)"
   ]
  },
  {
   "cell_type": "code",
   "execution_count": null,
   "metadata": {
    "collapsed": true
   },
   "outputs": [],
   "source": [
    "bootstrap_AB_test(data1850, \"V15_new\", \"V14\", 1000)"
   ]
  },
  {
   "cell_type": "code",
   "execution_count": null,
   "metadata": {
    "collapsed": true
   },
   "outputs": [],
   "source": [
    "#keep#\n",
    "data1850 = data.where(data[\"V4\"] == 1850)\n",
    "data1851 = data.where(data[\"V4\"] == 1851)\n",
    "data1852 = data.where(data[\"V4\"] == 1852)\n",
    "#data1850.show()#"
   ]
  },
  {
   "cell_type": "code",
   "execution_count": null,
   "metadata": {
    "collapsed": true
   },
   "outputs": [],
   "source": [
    "#Your turn \n",
    "#For 1851, your turn\n",
    "#bootstrap_AB_test(..)"
   ]
  },
  {
   "cell_type": "markdown",
   "metadata": {},
   "source": [
    "## /II/ Interpretation and Linear Regression\n",
    "\n",
    "Let’s look again at the Kent, and unemployment and relief. Recall that just before the midterm, we noted that there seemed to be a positive association between the two – in counties with more unemployment, poor relief payments tended to be higher.\n"
   ]
  },
  {
   "cell_type": "code",
   "execution_count": null,
   "metadata": {
    "collapsed": true
   },
   "outputs": [],
   "source": [
    "data2 = Table.read_table(\"https://github.com/data-8/history-connector/raw/gh-pages/Data4.csv\")\n",
    "data2"
   ]
  },
  {
   "cell_type": "code",
   "execution_count": null,
   "metadata": {
    "collapsed": true
   },
   "outputs": [],
   "source": [
    "#To jot your memory, see the scatter plot:\n",
    "data2.scatter (\"UNEMP\", \"RELIEF\", s=10)"
   ]
  },
  {
   "cell_type": "code",
   "execution_count": null,
   "metadata": {
    "collapsed": true
   },
   "outputs": [],
   "source": [
    "#Let’s get rid of the outlier, creating a new table called URT, UnemploymentReliefTruncated:\n",
    "URT = data2.select([\"COUNTY\", \"UNEMP\", \"RELIEF\"]).where(data2.column(\"UNEMP\")<0.40)\n",
    "URT"
   ]
  },
  {
   "cell_type": "markdown",
   "metadata": {},
   "source": [
    "Last time, we considered health and wealth, nothing a strong positive relationship between increasing GDP and increasing life expectancy in the US during the twentieth century. Let’s do perform a similar analysis for Relief and Unemployment."
   ]
  },
  {
   "cell_type": "code",
   "execution_count": null,
   "metadata": {
    "collapsed": true
   },
   "outputs": [],
   "source": [
    "kent=URT.select([\"COUNTY\", \"UNEMP\", \"RELIEF\"]).where(URT.column(\"COUNTY\")==1)\n",
    "kent"
   ]
  },
  {
   "cell_type": "code",
   "execution_count": null,
   "metadata": {
    "collapsed": true
   },
   "outputs": [],
   "source": [
    "#First, to get some sense of the relationship:\n",
    "kent.scatter(\"UNEMP\", \"RELIEF\", fit_line=True)"
   ]
  },
  {
   "cell_type": "code",
   "execution_count": null,
   "metadata": {
    "collapsed": true
   },
   "outputs": [],
   "source": [
    "#Next, we get into Pandas\n",
    "\n",
    "import statsmodels.api as sm\n",
    "import pandas as pd "
   ]
  },
  {
   "cell_type": "code",
   "execution_count": null,
   "metadata": {
    "collapsed": true
   },
   "outputs": [],
   "source": [
    "#You should see this after running the command: pandas.core.frame.DataFrame#\n",
    "reg = kent.to_df()\n",
    "type(reg)"
   ]
  },
  {
   "cell_type": "code",
   "execution_count": null,
   "metadata": {
    "collapsed": true
   },
   "outputs": [],
   "source": [
    "#Next, given the approximately linear association, we can proceed with the OLS procedure:\n",
    "\n",
    "x = reg[['COUNTY','UNEMP']]\n",
    "y = reg['RELIEF']\n",
    "multiple_regress = sm.OLS(y, x).fit()\n",
    "multiple_regress.summary()"
   ]
  },
  {
   "cell_type": "markdown",
   "metadata": {},
   "source": [
    "How do we interpret the results? Let's recall how we interpreted Table 9 from Richardson and Troost:\n",
    "\n",
    "/1/ What is the *eXplanatory variable*?\n",
    "\n",
    "/2/ What is the *sign* (positive or negative)?\n",
    "\n",
    "/3/ What is the *'significance'*? Recall the \"tyranny of two\" -- divide the Coeff/SE\n",
    "\n",
    "Can you write out a sentence, stating the results as an argument?"
   ]
  },
  {
   "cell_type": "markdown",
   "metadata": {},
   "source": [
    "## Your Turn\n",
    "\n",
    "What happens if we add anothe variable? You would need to go back the original table, and take in a second eXplanatory variable.\n",
    "\n",
    "/1/ What is the sign?\n",
    "\n",
    "/2/ What is the significance?"
   ]
  }
 ],
 "metadata": {
  "kernelspec": {
   "display_name": "Python 3",
   "language": "python",
   "name": "python3"
  },
  "language_info": {
   "codemirror_mode": {
    "name": "ipython",
    "version": 3
   },
   "file_extension": ".py",
   "mimetype": "text/x-python",
   "name": "python",
   "nbconvert_exporter": "python",
   "pygments_lexer": "ipython3",
   "version": "3.5.1"
  }
 },
 "nbformat": 4,
 "nbformat_minor": 0
}
