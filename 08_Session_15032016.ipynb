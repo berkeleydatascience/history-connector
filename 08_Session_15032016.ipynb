{
 "cells": [
  {
   "cell_type": "markdown",
   "metadata": {},
   "source": [
    "# Regression, Focus on Kent"
   ]
  },
  {
   "cell_type": "markdown",
   "metadata": {},
   "source": [
    "Last session, we introduced regression. We will finish with the work from last time, and do a number of exercises, both to expand our understanding of regression and as a review. This time, let’s look at a subset of values, just focusing on Kent (County == 1, and it has 24 parishes).\n",
    "\n",
    "Let’s first look at UNEMP and RELIEF in just 24 parishes. An important thing to note is the difference with correlation – the regression coefficient changes depending on what is the explanatory (X-axis) variable, or the independent variable, and is the dependent (Y-axis) variable. We can see this by deriving the slope and the intercept.\n",
    "\n",
    "This is an important point, as you can see from these two images:\n",
    "\n",
    "Here is a scatter of Unemployment and Relief in Kent, a trand line is also included:\n",
    "\n",
    "<img src=\"Kent_UnempRelief.PNG\">\n",
    "\n",
    "Here is a scatter of Relief and Unemplomeny in Kent, a trand line is also included:\n",
    "\n",
    "<img src=\"Kent_ReliefUnemp.PNG\">\n",
    "\n",
    "/1/ Unemployment and Relief: What do coefficients mean? \n",
    "\n",
    "/2/ Relief and Unemployment: What do coefficients mean?\n",
    "\n"
   ]
  },
  {
   "cell_type": "code",
   "execution_count": null,
   "metadata": {
    "collapsed": true
   },
   "outputs": [],
   "source": [
    "from datascience import *\n",
    "import numpy as np\n",
    "%matplotlib inline\n",
    "import matplotlib.pyplot as plots\n",
    "plots.style.use('fivethirtyeight')"
   ]
  },
  {
   "cell_type": "code",
   "execution_count": null,
   "metadata": {
    "collapsed": true
   },
   "outputs": [],
   "source": [
    "def standard_units(any_numbers):\n",
    "    \"Convert any array of numbers to standard units.\"\n",
    "    return (any_numbers - np.mean(any_numbers))/np.std(any_numbers)  \n",
    "\n",
    "def correlation(t, x, y):\n",
    "    return np.mean(standard_units(t.column(x))*standard_units(t.column(y)))\n",
    "\n",
    "def slope(table, x, y):\n",
    "    r = correlation(table, x, y)\n",
    "    return r * np.std(table.column(y))/np.std(table.column(x))\n",
    "\n",
    "def intercept(table, x, y):\n",
    "    a = slope(table, x, y)\n",
    "    return np.mean(table.column(y)) - a * np.mean(table.column(x))\n",
    "\n",
    "def fit(table, x, y):\n",
    "    \"\"\"Return the height of the regression line at each x value.\"\"\"\n",
    "    a = slope(table, x, y)\n",
    "    b = intercept(table, x, y)\n",
    "    return a * table.column(x) + b\n",
    "\n",
    "def mean_squared_error(table, x, y):\n",
    "    def for_line(slope, intercept):\n",
    "        fitted = (slope * table.column(x) + intercept)\n",
    "        return np.average((table.column(y) - fitted) ** 2)\n",
    "    return for_line\n",
    "\n",
    "def residual_plot(table, x, y):\n",
    "    fitted = fit(table, x, y)\n",
    "    residuals = table.column(y) - fitted\n",
    "    res_table = Table().with_columns([\n",
    "            'fitted', fitted, \n",
    "            'residuals', residuals])\n",
    "    res_table.scatter(0, 1, fit_line=True)"
   ]
  },
  {
   "cell_type": "code",
   "execution_count": null,
   "metadata": {
    "collapsed": true
   },
   "outputs": [],
   "source": [
    "wholeData = Table.read_table(\"https://github.com/data-8/history-connector/raw/gh-pages/Data4.csv\")\n",
    "# Since we only focus on Kent this time, filter out all columns where COUNTY == 1.\n",
    "kentData = wholeData.where(wholeData.column(\"COUNTY\") .... 1)\n",
    "kentData.show()"
   ]
  },
  {
   "cell_type": "code",
   "execution_count": null,
   "metadata": {
    "collapsed": true
   },
   "outputs": [],
   "source": [
    "#As a review, what would a correlation matrix reveal?\n",
    "#kentData.to_df().corr()"
   ]
  },
  {
   "cell_type": "markdown",
   "metadata": {},
   "source": [
    "/1/ First, write out the equation with UNEMP as the eXplanatory var and RELIEF as the dependent var."
   ]
  },
  {
   "cell_type": "markdown",
   "metadata": {},
   "source": [
    "*(double-click to edit)*"
   ]
  },
  {
   "cell_type": "code",
   "execution_count": null,
   "metadata": {
    "collapsed": true
   },
   "outputs": [],
   "source": [
    "#Now, let's create a scatter with a trend line;\n",
    "kentData.scatter (\"UNEMP\", \"RELIEF\", fit_line=True, s=20)\n",
    "\n",
    "#Or alternatively(uncomment the next line)\n",
    "#plots.scatter(kentData.column(\"UNEMP\"), kentData.column(\"RELIEF\"))"
   ]
  },
  {
   "cell_type": "markdown",
   "metadata": {},
   "source": [
    "Question 1: Does it matter if we instead do a scatter of RELIEF and UNEMP?"
   ]
  },
  {
   "cell_type": "markdown",
   "metadata": {},
   "source": [
    "*(double-click to edit)*"
   ]
  },
  {
   "cell_type": "code",
   "execution_count": null,
   "metadata": {
    "collapsed": true
   },
   "outputs": [],
   "source": [
    "#Let's calculate the slope and intercept\n",
    "\n",
    "kentslope = slope(kentData, ...., ....)\n",
    "kentintercept = intercept(kentData, ...., .....)\n",
    "kentslope, kentintercept"
   ]
  },
  {
   "cell_type": "markdown",
   "metadata": {},
   "source": [
    "Question 2: If you had to summarize, how would you say that a unit increase in the eXplanatory variable affects the average value of the dependent variable? Consider writing this out as a statement."
   ]
  },
  {
   "cell_type": "markdown",
   "metadata": {},
   "source": [
    "*(double-click to edit)*"
   ]
  },
  {
   "cell_type": "code",
   "execution_count": null,
   "metadata": {
    "collapsed": true
   },
   "outputs": [],
   "source": [
    "#Optional: If you can, calculate the R^2; at least consider a residual plot, to test the linearity assumption.\n",
    "\n",
    "residual_plot(kentData, '....', '....')"
   ]
  },
  {
   "cell_type": "markdown",
   "metadata": {},
   "source": [
    "/2/ Now, let's write out the equation with RELIEF as the eXplanatory var and UNEMP as the dependent var."
   ]
  },
  {
   "cell_type": "code",
   "execution_count": null,
   "metadata": {
    "collapsed": true
   },
   "outputs": [],
   "source": [
    "#Again, let's do a scatter with a trend line\n",
    "kentData.scatter (\".....\", \".....\", ...)\n",
    "\n",
    "#Or alternatively(uncomment the next line)\n",
    "#plots.scatter(kentData.column(\"....\"), kentData.column(\".....\"))"
   ]
  },
  {
   "cell_type": "code",
   "execution_count": null,
   "metadata": {
    "collapsed": true
   },
   "outputs": [],
   "source": [
    "#calculate the slope and intercept\n",
    "kentslope2 = slope(kentData, \"....\", \"....\")\n",
    "kentintercept2 = intercept(kentData, \"....\", \"....\")\n",
    "kentslope2, kentintercept2"
   ]
  },
  {
   "cell_type": "markdown",
   "metadata": {},
   "source": [
    "Question 3: As we did above, If you had to summarize, how would you say that a unit increase in the eXplanatory variable affects the average value of the dependent variable? Consider writing this out as a statement."
   ]
  },
  {
   "cell_type": "code",
   "execution_count": null,
   "metadata": {
    "collapsed": true
   },
   "outputs": [],
   "source": [
    "#Optional: If you can, calculate the R^2\n"
   ]
  },
  {
   "cell_type": "markdown",
   "metadata": {},
   "source": [
    "Note that no matter how we set the explanatory var and the dependent var. The R^2 is the same, the slope and intercept take on different values, however."
   ]
  },
  {
   "cell_type": "markdown",
   "metadata": {},
   "source": [
    "Question 4: How about WEALTH and POP? Does it look like a linear regression would be a good fit here? How would you go about showing this?\n",
    "*(double-click to edit)* "
   ]
  }
 ],
 "metadata": {
  "kernelspec": {
   "display_name": "Python 3",
   "language": "python",
   "name": "python3"
  },
  "language_info": {
   "codemirror_mode": {
    "name": "ipython",
    "version": 3
   },
   "file_extension": ".py",
   "mimetype": "text/x-python",
   "name": "python",
   "nbconvert_exporter": "python",
   "pygments_lexer": "ipython3",
   "version": "3.5.1"
  }
 },
 "nbformat": 4,
 "nbformat_minor": 0
}
