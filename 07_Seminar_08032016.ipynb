{
 "cells": [
  {
   "cell_type": "code",
   "execution_count": null,
   "metadata": {
    "collapsed": true
   },
   "outputs": [],
   "source": [
    "from datascience import *\n",
    "%matplotlib inline\n",
    "import matplotlib.pyplot as plots\n",
    "plots.style.use('fivethirtyeight')\n",
    "import numpy as np\n",
    "from scipy import stats\n",
    "\n",
    "data = Table.read_table(\"https://github.com/data-8/history-connector/raw/gh-pages/Data4.csv\")\n",
    "\n",
    "def standard_units(any_numbers):\n",
    "    \"Convert any array of numbers to standard units.\"\n",
    "    return (any_numbers - np.mean(any_numbers))/np.std(any_numbers)"
   ]
  },
  {
   "cell_type": "markdown",
   "metadata": {},
   "source": [
    "# Regression"
   ]
  },
  {
   "cell_type": "markdown",
   "metadata": {},
   "source": [
    "Last time, we looked at the relationships between grain-workers and relief payments, and between wage-earners and relief payments.\n",
    "\n",
    "This time, we will continue our discussion about association by looking at:\n",
    "\n",
    "/1/ The effect of an outlier on the r value\n",
    "\n",
    "/2/ Deriving the regression line\n",
    "\n",
    "/3/ Interpreting the slope and the intercept\n"
   ]
  },
  {
   "cell_type": "markdown",
   "metadata": {},
   "source": [
    "##/1/ Outliers"
   ]
  },
  {
   "cell_type": "markdown",
   "metadata": {},
   "source": [
    "Remember from last class that we discovered that one parish has exceptionally high unemployment, around 60%, and several are around 30% (Greece's unemployment rate is about 25% nowadays, a figure typical during the Great Depression as the table below of US unemployment shows):\n",
    "\n",
    "Y\t1929\t1930\t1931\t1932\t1933\t1934\t1935\t1936\t1937\n",
    "%U\t3.1\t     8.7\t15.8\t23.5\t24.8\t21.6\t20\t    16.8\t14.2\n",
    " \n",
    "\n",
    "Y\t1938\t1939\t1940\t1941\n",
    "%U\t18.9\t17.1\t14.5\t9.7"
   ]
  },
  {
   "cell_type": "code",
   "execution_count": null,
   "metadata": {
    "collapsed": true
   },
   "outputs": [],
   "source": [
    "data.scatter (\"UNEMP\", \"RELIEF\", s=10)\n",
    "#plots.scatter(data.column(\"UNEMP\"), data.column(\"RELIEF\"))"
   ]
  },
  {
   "cell_type": "markdown",
   "metadata": {},
   "source": [
    "Last time, we also calculated the *r* with all 311 parishes. Let's compare that to the *r* *without* the outlier parish. There must be a very, very strong reason to do this in research, and we are doing it here as a learning exercise.\n",
    "\n",
    "For instance, we might have a strong theoretical reason for dropping exceptionally high and exceptionally low values -- some unemployment is, what economists call, natural (people changing jobs), and unemployment beyond a certain level signifies a process that goes beyond usual labor market fluctuations (natural disaster).\n",
    "\n",
    "URT3= data.select([\"UNEMP\", \"RELIEF\"]).where(np.logical_and(data.column(\"UNEMP\") >0.03, data.column(\"UNEMP\") <0.30))\n",
    "\n",
    "URT3.scatter(\"UNEMP\", \"RELIEF\", fit_line=True)\n",
    "URT3.hist(\"UNEMP\", bins=np.arange(0, 0.5, 0.01))\n",
    "\n",
    "\n",
    "We will use the function standard_units that we defined last class to do this, once again:"
   ]
  },
  {
   "cell_type": "code",
   "execution_count": null,
   "metadata": {
    "collapsed": true
   },
   "outputs": [],
   "source": [
    "#Step 0: Drop the outlier; for ease, Unemployment Relief Trimmed can just be shortened to URT\n",
    "#Another acronym may be more intuitive to you.\n",
    "\n",
    "#Question: How may rows do we expect?\n",
    "\n",
    "URT = data.select([\"UNEMP\", \"RELIEF\"])....\n",
    "URT"
   ]
  },
  {
   "cell_type": "code",
   "execution_count": null,
   "metadata": {
    "collapsed": true
   },
   "outputs": [],
   "source": [
    "#Check visually, and do you easily notice a difference?\n",
    "\n",
    "URT.scatter('UNEMP', 'RELIEF', s=10)\n",
    "\n",
    "#Alternative: plots.scatter(URT.column('UNEMP'), URT.column('RELIEF'))"
   ]
  },
  {
   "cell_type": "code",
   "execution_count": null,
   "metadata": {
    "collapsed": true
   },
   "outputs": [],
   "source": [
    "#Step 1: Get the data you're concerned with in standard units\n",
    "\n",
    "URT_su = URT.with_columns\n",
    "    ......\n",
    "    ]).select(['UNEMP', 'RELIEF', 'UNEMP (su)','RELIEF (su)'])\n",
    "URT_su\n"
   ]
  },
  {
   "cell_type": "code",
   "execution_count": null,
   "metadata": {
    "collapsed": true
   },
   "outputs": [],
   "source": [
    "#Step 3: Find the product of your SU columns\n",
    "\n",
    "URT_product = URT_su.column(\"UNEMP (su)\") * URT_su.column(\"RELIEF (su)\")\n",
    "URT_product"
   ]
  },
  {
   "cell_type": "code",
   "execution_count": null,
   "metadata": {
    "collapsed": true
   },
   "outputs": [],
   "source": [
    "#Step 4: Find the mean, which is your r\n",
    "r = np.mean(URT_product)\n",
    "r"
   ]
  },
  {
   "cell_type": "markdown",
   "metadata": {},
   "source": [
    "Recall that last time, the r we calculated (without trimming the outlier) was ~0.365 (or, more precisley, 0.36475785072022804).\n",
    "\n",
    "What does this difference between the two correlation coefficients tell you? What do you think happens if we drop other values? \n",
    "\n",
    "Try “dropping” some values, and justify your choice (you can do this in the cells above, by modifying your code - no need to re-do it all)."
   ]
  },
  {
   "cell_type": "markdown",
   "metadata": {},
   "source": [
    "##/2/ Regression Line"
   ]
  },
  {
   "cell_type": "markdown",
   "metadata": {},
   "source": [
    "Last time, we included a ‘fit_line=True’ to convince ourselves that the r was, in fact, positive, and in section 3 we will actually derive the line."
   ]
  },
  {
   "cell_type": "code",
   "execution_count": null,
   "metadata": {
    "collapsed": true
   },
   "outputs": [],
   "source": [
    "#Try several options with plots!\n",
    "\n",
    "URT_su.scatter(\"UNEMP (su)\", \"RELIEF (su)\", 0, fit_line=True, s=10)\n",
    "_ = plots.plot([...], [....], color='r', lw=3)"
   ]
  },
  {
   "cell_type": "code",
   "execution_count": null,
   "metadata": {
    "collapsed": true
   },
   "outputs": [],
   "source": [
    "# Compare to rounded standard units of UNEMP and RELIEF\n",
    "\n",
    "rounded = URT_su.with_columns([\"UNEMP SU rounded\", np.round(URT_su.column(\"UNEMP (su)\")),\n",
    "                              \"RELIEF SU rounded\", np.round(URT_su.column(\"RELIEF (su)\"))]).select([\"UNEMP SU rounded\", \"RELIEF (su)\"])\n",
    "\n",
    "rounded.scatter(0, fit_line=True, s=10)\n",
    "_ = plots.plot([-1, 3], [-1 * r, 3 * r], color='g', lw=2)\n"
   ]
  },
  {
   "cell_type": "markdown",
   "metadata": {},
   "source": [
    "What are the differences between these two plots, and how would the results change if you included the outlier, or dropped a different series of outliers? Dropping values go get a better fit requires a strong justification; you can see some of the manipulation of results, sometimes called 'p-hacking', that goes on in research:\n",
    "\n",
    "(http://fivethirtyeight.com/features/science-isnt-broken/#part2; and\n",
    "http://www.nature.com/news/scientific-method-statistical-errors-1.14700)"
   ]
  },
  {
   "cell_type": "markdown",
   "metadata": {},
   "source": [
    "##/3/ Interpreting the values of the slope and intercept"
   ]
  },
  {
   "cell_type": "markdown",
   "metadata": {},
   "source": [
    "In the social sciences, one way to describe relationships is in terms of so-called marginal effects – how much does Y change when X changes by 1? \n",
    "\n",
    "Since both UNEMP and RELIEF are quantitative variables, it makes sense to talk about how much does RELIEF change as, on average, proportion UNEMP increases by 1 percent or even 10 percent. To do this, we need to calculate the slope and the intercept:"
   ]
  },
  {
   "cell_type": "code",
   "execution_count": null,
   "metadata": {
    "collapsed": true
   },
   "outputs": [],
   "source": [
    "# Find the equation of the regression line. In standard units, r is the slope. What is the intercept in SU?\n",
    "\n",
    "intercept_su = np.mean(URT_su.column(\"RELIEF (su)\")) - r * np.mean(URT_su.column(\"UNEMP (su)\"))\n",
    "intercept_su"
   ]
  },
  {
   "cell_type": "markdown",
   "metadata": {},
   "source": [
    "Just write the equation, in terms of variables we have defined, for the best-fit line in standard units:\n",
    "\n",
    "y = r * x + intercept_su\n"
   ]
  },
  {
   "cell_type": "code",
   "execution_count": null,
   "metadata": {
    "collapsed": true
   },
   "outputs": [],
   "source": [
    "# Now, calculate these values for our original units:\n",
    "slope = r * np.std(URT.column(\"....\"))/np.std(URT.column(\"....\"))\n",
    "intercept = np.mean(URT.column(\"....\")) - slope * np.mean(URT.column(\"....\"))\n",
    "\n",
    "#Display the slope and the intercept in a list\n",
    "[slope, intercept]"
   ]
  },
  {
   "cell_type": "markdown",
   "metadata": {},
   "source": [
    "##Questions"
   ]
  },
  {
   "cell_type": "markdown",
   "metadata": {},
   "source": [
    "/1/ What does the intercept signify and how is it different from the mean/average? Does the intercept necessarily have a meaningul interpretation? Think of the examples discussed in class, namely Galton's findings about the heights of father's and son's."
   ]
  },
  {
   "cell_type": "markdown",
   "metadata": {},
   "source": [
    "*double-click and enter your answer here*"
   ]
  },
  {
   "cell_type": "markdown",
   "metadata": {},
   "source": [
    "/2/ Complete this statement: On average, a one-unit increase in the proportion of unemployed wage-laborers is associated with an increase in relief payments of ____ shillings.   \n",
    "\n",
    "*(double-click to edit)*"
   ]
  },
  {
   "cell_type": "markdown",
   "metadata": {},
   "source": [
    "/3/ Do the same as above, but for GRAIN and RELIEF. What intuition do you gain by thinking in terms of r, the slope and intercept?"
   ]
  },
  {
   "cell_type": "markdown",
   "metadata": {},
   "source": [
    "*(Add as many cells as you need!)* "
   ]
  },
  {
   "cell_type": "markdown",
   "metadata": {},
   "source": [
    "/4/ How about WEALTH and POP? Does it look like a linear regression would be a good fit here?"
   ]
  },
  {
   "cell_type": "markdown",
   "metadata": {},
   "source": [
    "*(Add as many cells as you need!)* "
   ]
  }
 ],
 "metadata": {
  "kernelspec": {
   "display_name": "Python 3",
   "language": "python",
   "name": "python3"
  },
  "language_info": {
   "codemirror_mode": {
    "name": "ipython",
    "version": 3
   },
   "file_extension": ".py",
   "mimetype": "text/x-python",
   "name": "python",
   "nbconvert_exporter": "python",
   "pygments_lexer": "ipython3",
   "version": "3.5.1"
  }
 },
 "nbformat": 4,
 "nbformat_minor": 0
}
