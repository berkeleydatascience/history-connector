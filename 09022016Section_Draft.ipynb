{
 "cells": [
  {
   "cell_type": "code",
   "execution_count": 1,
   "metadata": {
    "collapsed": true
   },
   "outputs": [],
   "source": [
    "from datascience import Table\n",
    "import matplotlib.pyplot as plots\n",
    "plots.style.use('fivethirtyeight')\n",
    "%matplotlib inline\n"
   ]
  },
  {
   "cell_type": "code",
   "execution_count": 2,
   "metadata": {
    "collapsed": false
   },
   "outputs": [
    {
     "data": {
      "text/html": [
       "<table border=\"1\" class=\"dataframe\">\n",
       "    <thead>\n",
       "        <tr>\n",
       "            <th>V1</th> <th>V2</th> <th>V3</th> <th>V4</th> <th>V5</th> <th>V6</th> <th>V7</th> <th>V8</th> <th>V9</th> <th>V10</th> <th>V11</th> <th>V12</th> <th>V13</th> <th>V14</th> <th>V15</th> <th>V16</th> <th>V17</th> <th>V18</th> <th>V19</th> <th>V20</th> <th>V21</th> <th>V22</th> <th>V23</th> <th>V24</th> <th>V25</th> <th>V26</th> <th>V27</th> <th>V28</th> <th>V29</th> <th>V30</th> <th>V31</th> <th>V32</th> <th>V33</th> <th>V34</th> <th>V35</th> <th>V36</th> <th>V37</th> <th>V38</th> <th>V39</th> <th>V40</th> <th>V41</th> <th>V42</th> <th>V43</th> <th>V44</th> <th>V45</th> <th>V46</th> <th>V47</th>\n",
       "        </tr>\n",
       "    </thead>\n",
       "    <tbody>\n",
       "        <tr>\n",
       "            <td>NO2 </td> <td>NB  </td> <td>2   </td> <td>1804</td> <td> PG </td> <td>VI  </td> <td>1   </td> <td>999 </td> <td>GA  </td> <td>9   </td> <td>999 </td> <td>1   </td> <td>1   </td> <td>350  </td> <td>1   </td> <td>11  </td> <td>4   </td> <td>0   </td> <td>9   </td> <td>99  </td> <td>9   </td> <td>99  </td> <td>9   </td> <td>99  </td> <td>9   </td> <td>99  </td> <td>9   </td> <td>99  </td> <td>9   </td> <td>99  </td> <td>9   </td> <td>99  </td> <td>9   </td> <td>99  </td> <td>0   </td> <td>1   </td> <td>9999</td> <td>99  </td> <td>99  </td> <td>1   </td> <td>99  </td> <td>0   </td> <td>0   </td> <td>0   </td> <td>201 </td> <td>1   </td> <td>1   </td>\n",
       "        </tr>\n",
       "    </tbody>\n",
       "        <tr>\n",
       "            <td>NO2 </td> <td>NB  </td> <td>3   </td> <td>1804</td> <td> PG </td> <td>BI  </td> <td>1   </td> <td>999 </td> <td>CO  </td> <td>1   </td> <td>999 </td> <td>1   </td> <td>1   </td> <td>1000 </td> <td>1   </td> <td>24  </td> <td>4   </td> <td>0   </td> <td>9   </td> <td>99  </td> <td>9   </td> <td>99  </td> <td>9   </td> <td>99  </td> <td>9   </td> <td>99  </td> <td>9   </td> <td>99  </td> <td>9   </td> <td>99  </td> <td>9   </td> <td>99  </td> <td>9   </td> <td>99  </td> <td>0   </td> <td>2   </td> <td>9999</td> <td>2   </td> <td>99  </td> <td>1   </td> <td>99  </td> <td>0   </td> <td>0   </td> <td>0   </td> <td>503 </td> <td>1   </td> <td>2   </td>\n",
       "        </tr>\n",
       "    </tbody>\n",
       "        <tr>\n",
       "            <td>NO2 </td> <td>NB  </td> <td>3   </td> <td>1804</td> <td> P  </td> <td>LA  </td> <td>1   </td> <td>999 </td> <td>DC  </td> <td>9   </td> <td>999 </td> <td>1   </td> <td>1   </td> <td>450  </td> <td>2   </td> <td>25  </td> <td>1   </td> <td>0   </td> <td>9   </td> <td>99  </td> <td>9   </td> <td>99  </td> <td>9   </td> <td>99  </td> <td>9   </td> <td>99  </td> <td>9   </td> <td>99  </td> <td>9   </td> <td>99  </td> <td>9   </td> <td>99  </td> <td>9   </td> <td>99  </td> <td>0   </td> <td>2   </td> <td>210 </td> <td>10  </td> <td>99  </td> <td>2   </td> <td>42  </td> <td>0   </td> <td>0   </td> <td>0   </td> <td>503 </td> <td>1   </td> <td>3   </td>\n",
       "        </tr>\n",
       "    </tbody>\n",
       "        <tr>\n",
       "            <td>NO2 </td> <td>NB  </td> <td>4   </td> <td>1804</td> <td> PG </td> <td>LA  </td> <td>9   </td> <td>999 </td> <td>CH  </td> <td>9   </td> <td>999 </td> <td>2   </td> <td>1   </td> <td>800  </td> <td>1   </td> <td>99  </td> <td>1   </td> <td>0   </td> <td>9   </td> <td>99  </td> <td>9   </td> <td>99  </td> <td>9   </td> <td>99  </td> <td>9   </td> <td>99  </td> <td>9   </td> <td>99  </td> <td>9   </td> <td>99  </td> <td>9   </td> <td>99  </td> <td>9   </td> <td>99  </td> <td>0   </td> <td>1   </td> <td>9999</td> <td>99  </td> <td>99  </td> <td>2   </td> <td>99  </td> <td>0   </td> <td>0   </td> <td>0   </td> <td>503 </td> <td>2   </td> <td>4   </td>\n",
       "        </tr>\n",
       "    </tbody>\n",
       "        <tr>\n",
       "            <td>NO2 </td> <td>NB  </td> <td>4   </td> <td>1804</td> <td> PG </td> <td>LA  </td> <td>9   </td> <td>999 </td> <td>CH  </td> <td>9   </td> <td>999 </td> <td>2   </td> <td>1   </td> <td>99999</td> <td>1   </td> <td>99  </td> <td>1   </td> <td>0   </td> <td>9   </td> <td>99  </td> <td>9   </td> <td>99  </td> <td>9   </td> <td>99  </td> <td>9   </td> <td>99  </td> <td>9   </td> <td>99  </td> <td>9   </td> <td>99  </td> <td>9   </td> <td>99  </td> <td>9   </td> <td>99  </td> <td>0   </td> <td>1   </td> <td>9999</td> <td>99  </td> <td>99  </td> <td>2   </td> <td>99  </td> <td>0   </td> <td>0   </td> <td>0   </td> <td>503 </td> <td>2   </td> <td>5   </td>\n",
       "        </tr>\n",
       "    </tbody>\n",
       "        <tr>\n",
       "            <td>NO2 </td> <td>NB  </td> <td>10  </td> <td>1804</td> <td> PG </td> <td>PE  </td> <td>1   </td> <td>999 </td> <td>LE  </td> <td>9   </td> <td>999 </td> <td>1   </td> <td>1   </td> <td>400  </td> <td>2   </td> <td>20  </td> <td>1   </td> <td>0   </td> <td>9   </td> <td>99  </td> <td>9   </td> <td>99  </td> <td>9   </td> <td>99  </td> <td>9   </td> <td>99  </td> <td>9   </td> <td>99  </td> <td>9   </td> <td>99  </td> <td>9   </td> <td>99  </td> <td>9   </td> <td>99  </td> <td>0   </td> <td>1   </td> <td>9999</td> <td>99  </td> <td>99  </td> <td>1   </td> <td>99  </td> <td>0   </td> <td>0   </td> <td>0   </td> <td>503 </td> <td>1   </td> <td>6   </td>\n",
       "        </tr>\n",
       "    </tbody>\n",
       "        <tr>\n",
       "            <td>NO2 </td> <td>PP  </td> <td>1   </td> <td>1804</td> <td> PG </td> <td>GA  </td> <td>1   </td> <td>999 </td> <td>MO  </td> <td>9   </td> <td>999 </td> <td>1   </td> <td>1   </td> <td>750  </td> <td>1   </td> <td>22  </td> <td>1   </td> <td>0   </td> <td>9   </td> <td>99  </td> <td>9   </td> <td>99  </td> <td>9   </td> <td>99  </td> <td>9   </td> <td>99  </td> <td>9   </td> <td>99  </td> <td>9   </td> <td>99  </td> <td>9   </td> <td>99  </td> <td>9   </td> <td>99  </td> <td>0   </td> <td>2   </td> <td>9999</td> <td>99  </td> <td>99  </td> <td>1   </td> <td>99  </td> <td>2   </td> <td>0   </td> <td>0   </td> <td>267 </td> <td>1   </td> <td>7   </td>\n",
       "        </tr>\n",
       "    </tbody>\n",
       "        <tr>\n",
       "            <td>NO2 </td> <td>PP  </td> <td>1   </td> <td>1804</td> <td> PG </td> <td>PO  </td> <td>1   </td> <td>999 </td> <td>BO  </td> <td>1   </td> <td>999 </td> <td>1   </td> <td>1   </td> <td>500  </td> <td>2   </td> <td>21  </td> <td>1   </td> <td>0   </td> <td>9   </td> <td>99  </td> <td>9   </td> <td>99  </td> <td>9   </td> <td>99  </td> <td>9   </td> <td>99  </td> <td>9   </td> <td>99  </td> <td>9   </td> <td>99  </td> <td>9   </td> <td>99  </td> <td>9   </td> <td>99  </td> <td>0   </td> <td>1   </td> <td>9999</td> <td>99  </td> <td>99  </td> <td>2   </td> <td>30  </td> <td>0   </td> <td>0   </td> <td>0   </td> <td>267 </td> <td>1   </td> <td>8   </td>\n",
       "        </tr>\n",
       "    </tbody>\n",
       "        <tr>\n",
       "            <td>NO2 </td> <td>PP  </td> <td>2   </td> <td>1804</td> <td> PG </td> <td>ME  </td> <td>1   </td> <td>999 </td> <td>SE  </td> <td>2   </td> <td>ORL </td> <td>2   </td> <td>1   </td> <td>900  </td> <td>1   </td> <td>18  </td> <td>1   </td> <td>0   </td> <td>9   </td> <td>99  </td> <td>9   </td> <td>99  </td> <td>9   </td> <td>99  </td> <td>9   </td> <td>99  </td> <td>9   </td> <td>99  </td> <td>9   </td> <td>99  </td> <td>9   </td> <td>99  </td> <td>9   </td> <td>99  </td> <td>0   </td> <td>1   </td> <td>9999</td> <td>99  </td> <td>99  </td> <td>2   </td> <td>99  </td> <td>0   </td> <td>7   </td> <td>8   </td> <td>117 </td> <td>2   </td> <td>9   </td>\n",
       "        </tr>\n",
       "    </tbody>\n",
       "        <tr>\n",
       "            <td>NO2 </td> <td>PP  </td> <td>2   </td> <td>1804</td> <td> PG </td> <td>ME  </td> <td>1   </td> <td>999 </td> <td>SE  </td> <td>2   </td> <td>ORL </td> <td>2   </td> <td>1   </td> <td>99999</td> <td>2   </td> <td>18  </td> <td>1   </td> <td>0   </td> <td>9   </td> <td>99  </td> <td>9   </td> <td>99  </td> <td>9   </td> <td>99  </td> <td>9   </td> <td>99  </td> <td>9   </td> <td>99  </td> <td>9   </td> <td>99  </td> <td>9   </td> <td>99  </td> <td>9   </td> <td>99  </td> <td>0   </td> <td>1   </td> <td>9999</td> <td>99  </td> <td>99  </td> <td>2   </td> <td>99  </td> <td>0   </td> <td>7   </td> <td>8   </td> <td>117 </td> <td>2   </td> <td>10  </td>\n",
       "        </tr>\n",
       "    </tbody>\n",
       "</table>\n",
       "<p>... (4999 rows omitted)</p"
      ],
      "text/plain": [
       "V1   | V2   | V3   | V4   | V5   | V6   | V7   | V8   | V9   | V10  | V11  | V12  | V13  | V14   | V15  | V16  | V17  | V18  | V19  | V20  | V21  | V22  | V23  | V24  | V25  | V26  | V27  | V28  | V29  | V30  | V31  | V32  | V33  | V34  | V35  | V36  | V37  | V38  | V39  | V40  | V41  | V42  | V43  | V44  | V45  | V46  | V47\n",
       "NO2  | NB   | 2    | 1804 |  PG  | VI   | 1    | 999  | GA   | 9    | 999  | 1    | 1    | 350   | 1    | 11   | 4    | 0    | 9    | 99   | 9    | 99   | 9    | 99   | 9    | 99   | 9    | 99   | 9    | 99   | 9    | 99   | 9    | 99   | 0    | 1    | 9999 | 99   | 99   | 1    | 99   | 0    | 0    | 0    | 201  | 1    | 1\n",
       "NO2  | NB   | 3    | 1804 |  PG  | BI   | 1    | 999  | CO   | 1    | 999  | 1    | 1    | 1000  | 1    | 24   | 4    | 0    | 9    | 99   | 9    | 99   | 9    | 99   | 9    | 99   | 9    | 99   | 9    | 99   | 9    | 99   | 9    | 99   | 0    | 2    | 9999 | 2    | 99   | 1    | 99   | 0    | 0    | 0    | 503  | 1    | 2\n",
       "NO2  | NB   | 3    | 1804 |  P   | LA   | 1    | 999  | DC   | 9    | 999  | 1    | 1    | 450   | 2    | 25   | 1    | 0    | 9    | 99   | 9    | 99   | 9    | 99   | 9    | 99   | 9    | 99   | 9    | 99   | 9    | 99   | 9    | 99   | 0    | 2    | 210  | 10   | 99   | 2    | 42   | 0    | 0    | 0    | 503  | 1    | 3\n",
       "NO2  | NB   | 4    | 1804 |  PG  | LA   | 9    | 999  | CH   | 9    | 999  | 2    | 1    | 800   | 1    | 99   | 1    | 0    | 9    | 99   | 9    | 99   | 9    | 99   | 9    | 99   | 9    | 99   | 9    | 99   | 9    | 99   | 9    | 99   | 0    | 1    | 9999 | 99   | 99   | 2    | 99   | 0    | 0    | 0    | 503  | 2    | 4\n",
       "NO2  | NB   | 4    | 1804 |  PG  | LA   | 9    | 999  | CH   | 9    | 999  | 2    | 1    | 99999 | 1    | 99   | 1    | 0    | 9    | 99   | 9    | 99   | 9    | 99   | 9    | 99   | 9    | 99   | 9    | 99   | 9    | 99   | 9    | 99   | 0    | 1    | 9999 | 99   | 99   | 2    | 99   | 0    | 0    | 0    | 503  | 2    | 5\n",
       "NO2  | NB   | 10   | 1804 |  PG  | PE   | 1    | 999  | LE   | 9    | 999  | 1    | 1    | 400   | 2    | 20   | 1    | 0    | 9    | 99   | 9    | 99   | 9    | 99   | 9    | 99   | 9    | 99   | 9    | 99   | 9    | 99   | 9    | 99   | 0    | 1    | 9999 | 99   | 99   | 1    | 99   | 0    | 0    | 0    | 503  | 1    | 6\n",
       "NO2  | PP   | 1    | 1804 |  PG  | GA   | 1    | 999  | MO   | 9    | 999  | 1    | 1    | 750   | 1    | 22   | 1    | 0    | 9    | 99   | 9    | 99   | 9    | 99   | 9    | 99   | 9    | 99   | 9    | 99   | 9    | 99   | 9    | 99   | 0    | 2    | 9999 | 99   | 99   | 1    | 99   | 2    | 0    | 0    | 267  | 1    | 7\n",
       "NO2  | PP   | 1    | 1804 |  PG  | PO   | 1    | 999  | BO   | 1    | 999  | 1    | 1    | 500   | 2    | 21   | 1    | 0    | 9    | 99   | 9    | 99   | 9    | 99   | 9    | 99   | 9    | 99   | 9    | 99   | 9    | 99   | 9    | 99   | 0    | 1    | 9999 | 99   | 99   | 2    | 30   | 0    | 0    | 0    | 267  | 1    | 8\n",
       "NO2  | PP   | 2    | 1804 |  PG  | ME   | 1    | 999  | SE   | 2    | ORL  | 2    | 1    | 900   | 1    | 18   | 1    | 0    | 9    | 99   | 9    | 99   | 9    | 99   | 9    | 99   | 9    | 99   | 9    | 99   | 9    | 99   | 9    | 99   | 0    | 1    | 9999 | 99   | 99   | 2    | 99   | 0    | 7    | 8    | 117  | 2    | 9\n",
       "NO2  | PP   | 2    | 1804 |  PG  | ME   | 1    | 999  | SE   | 2    | ORL  | 2    | 1    | 99999 | 2    | 18   | 1    | 0    | 9    | 99   | 9    | 99   | 9    | 99   | 9    | 99   | 9    | 99   | 9    | 99   | 9    | 99   | 9    | 99   | 0    | 1    | 9999 | 99   | 99   | 2    | 99   | 0    | 7    | 8    | 117  | 2    | 10\n",
       "... (4999 rows omitted)"
      ]
     },
     "execution_count": 2,
     "metadata": {},
     "output_type": "execute_result"
    }
   ],
   "source": [
    "data = Table.read_table('https://raw.githubusercontent.com/data-8/history-connector/gh-pages/Data1.csv')\n",
    "data\n",
    "            "
   ]
  },
  {
   "cell_type": "code",
   "execution_count": 9,
   "metadata": {
    "collapsed": false
   },
   "outputs": [
    {
     "data": {
      "text/plain": [
       "(array([ 2539.,  2457.,     0.,     0.,     0.,     0.,     0.,     0.,\n",
       "            0.,    13.]),\n",
       " array([ 1. ,  1.8,  2.6,  3.4,  4.2,  5. ,  5.8,  6.6,  7.4,  8.2,  9. ]),\n",
       " <a list of 10 Patch objects>)"
      ]
     },
     "execution_count": 9,
     "metadata": {},
     "output_type": "execute_result"
    },
    {
     "data": {
      "image/png": "[encoded data removed]",
      "text/plain": [
       "<matplotlib.figure.Figure at 0x2411bbdf9e8>"
      ]
     },
     "metadata": {},
     "output_type": "display_data"
    }
   ],
   "source": [
    "plots.hist(data['V15'])"
   ]
  },
  {
   "cell_type": "code",
   "execution_count": 4,
   "metadata": {
    "collapsed": false
   },
   "outputs": [
    {
     "data": {
      "text/html": [
       "<table border=\"1\" class=\"dataframe\">\n",
       "    <thead>\n",
       "        <tr>\n",
       "            <th>V1</th> <th>V2</th> <th>V3</th> <th>V4</th> <th>V5</th> <th>V6</th> <th>V7</th> <th>V8</th> <th>V9</th> <th>V10</th> <th>V11</th> <th>V12</th> <th>V13</th> <th>V14</th> <th>V15</th> <th>V16</th> <th>V17</th> <th>V18</th> <th>V19</th> <th>V20</th> <th>V21</th> <th>V22</th> <th>V23</th> <th>V24</th> <th>V25</th> <th>V26</th> <th>V27</th> <th>V28</th> <th>V29</th> <th>V30</th> <th>V31</th> <th>V32</th> <th>V33</th> <th>V34</th> <th>V35</th> <th>V36</th> <th>V37</th> <th>V38</th> <th>V39</th> <th>V40</th> <th>V41</th> <th>V42</th> <th>V43</th> <th>V44</th> <th>V45</th> <th>V46</th> <th>V47</th>\n",
       "        </tr>\n",
       "    </thead>\n",
       "    <tbody>\n",
       "        <tr>\n",
       "            <td>NO2 </td> <td>MD  </td> <td>1   </td> <td>1812</td> <td> P  </td> <td>MA  </td> <td>2   </td> <td>ORL </td> <td>BE  </td> <td>2   </td> <td>ORL </td> <td>39  </td> <td>1   </td> <td>99999</td> <td>9   </td> <td>14  </td> <td>9   </td> <td>0   </td> <td>9   </td> <td>99  </td> <td>9   </td> <td>99  </td> <td>9   </td> <td>99  </td> <td>9   </td> <td>99  </td> <td>9   </td> <td>99  </td> <td>9   </td> <td>99  </td> <td>9   </td> <td>99  </td> <td>9   </td> <td>99  </td> <td>0   </td> <td>1   </td> <td>9999</td> <td>99  </td> <td>99  </td> <td>2   </td> <td>99  </td> <td>0   </td> <td>0   </td> <td>0   </td> <td>402 </td> <td>2   </td> <td>440 </td>\n",
       "        </tr>\n",
       "    </tbody>\n",
       "        <tr>\n",
       "            <td>NO2 </td> <td>PP  </td> <td>3   </td> <td>1821</td> <td> P  </td> <td>ML  </td> <td>1   </td> <td>999 </td> <td>MA  </td> <td>1   </td> <td>999 </td> <td>7   </td> <td>1   </td> <td>99999</td> <td>9   </td> <td>6   </td> <td>99  </td> <td>0   </td> <td>9   </td> <td>99  </td> <td>9   </td> <td>99  </td> <td>9   </td> <td>99  </td> <td>9   </td> <td>99  </td> <td>9   </td> <td>99  </td> <td>9   </td> <td>99  </td> <td>9   </td> <td>99  </td> <td>9   </td> <td>99  </td> <td>0   </td> <td>1   </td> <td>9999</td> <td>99  </td> <td>99  </td> <td>1   </td> <td>99  </td> <td>0   </td> <td>6   </td> <td>1   </td> <td>417 </td> <td>2   </td> <td>1041</td>\n",
       "        </tr>\n",
       "    </tbody>\n",
       "        <tr>\n",
       "            <td>NO2 </td> <td>PP  </td> <td>3   </td> <td>1821</td> <td> P  </td> <td>ML  </td> <td>1   </td> <td>999 </td> <td>MA  </td> <td>1   </td> <td>999 </td> <td>7   </td> <td>1   </td> <td>99999</td> <td>9   </td> <td>9   </td> <td>99  </td> <td>0   </td> <td>9   </td> <td>99  </td> <td>9   </td> <td>99  </td> <td>9   </td> <td>99  </td> <td>9   </td> <td>99  </td> <td>9   </td> <td>99  </td> <td>9   </td> <td>99  </td> <td>9   </td> <td>99  </td> <td>9   </td> <td>99  </td> <td>0   </td> <td>1   </td> <td>9999</td> <td>99  </td> <td>99  </td> <td>1   </td> <td>99  </td> <td>0   </td> <td>6   </td> <td>1   </td> <td>417 </td> <td>2   </td> <td>1045</td>\n",
       "        </tr>\n",
       "    </tbody>\n",
       "        <tr>\n",
       "            <td>NO2 </td> <td>FG  </td> <td>3   </td> <td>1840</td> <td>999 </td> <td>MC  </td> <td>3   </td> <td>VIR </td> <td>DU  </td> <td>1   </td> <td>999 </td> <td>1   </td> <td>1   </td> <td>650  </td> <td>9   </td> <td>15  </td> <td>4   </td> <td>0   </td> <td>9   </td> <td>99  </td> <td>9   </td> <td>99  </td> <td>9   </td> <td>99  </td> <td>9   </td> <td>99  </td> <td>9   </td> <td>99  </td> <td>9   </td> <td>99  </td> <td>9   </td> <td>99  </td> <td>9   </td> <td>99  </td> <td>0   </td> <td>1   </td> <td>9999</td> <td>99  </td> <td>99  </td> <td>1   </td> <td>99  </td> <td>0   </td> <td>2   </td> <td>3   </td> <td>137 </td> <td>1   </td> <td>2733</td>\n",
       "        </tr>\n",
       "    </tbody>\n",
       "        <tr>\n",
       "            <td>NO2 </td> <td>JM  </td> <td>3   </td> <td>1845</td> <td>999 </td> <td>PA  </td> <td>3   </td> <td>MIS </td> <td>RO  </td> <td>1   </td> <td>999 </td> <td>1   </td> <td>1   </td> <td>260  </td> <td>9   </td> <td>25  </td> <td>99  </td> <td>0   </td> <td>9   </td> <td>99  </td> <td>9   </td> <td>99  </td> <td>9   </td> <td>99  </td> <td>9   </td> <td>99  </td> <td>9   </td> <td>99  </td> <td>9   </td> <td>99  </td> <td>9   </td> <td>99  </td> <td>9   </td> <td>99  </td> <td>0   </td> <td>1   </td> <td>9999</td> <td>99  </td> <td>99  </td> <td>1   </td> <td>99  </td> <td>0   </td> <td>5   </td> <td>4   </td> <td>201 </td> <td>1   </td> <td>3168</td>\n",
       "        </tr>\n",
       "    </tbody>\n",
       "        <tr>\n",
       "            <td>NO2 </td> <td>OD  </td> <td>10  </td> <td>1845</td> <td>999 </td> <td>ST  </td> <td>3   </td> <td>MIS </td> <td>RO  </td> <td>1   </td> <td>999 </td> <td>1   </td> <td>1   </td> <td>350  </td> <td>9   </td> <td>30  </td> <td>2   </td> <td>0   </td> <td>9   </td> <td>99  </td> <td>9   </td> <td>99  </td> <td>9   </td> <td>99  </td> <td>9   </td> <td>99  </td> <td>9   </td> <td>99  </td> <td>9   </td> <td>99  </td> <td>9   </td> <td>99  </td> <td>9   </td> <td>99  </td> <td>0   </td> <td>1   </td> <td>9999</td> <td>99  </td> <td>99  </td> <td>2   </td> <td>1   </td> <td>0   </td> <td>5   </td> <td>4   </td> <td>503 </td> <td>1   </td> <td>3262</td>\n",
       "        </tr>\n",
       "    </tbody>\n",
       "        <tr>\n",
       "            <td>NO2 </td> <td>MA  </td> <td>6   </td> <td>1852</td> <td>999 </td> <td>CR  </td> <td>1   </td> <td>999 </td> <td>SH  </td> <td>2   </td> <td>OAC </td> <td>38  </td> <td>36  </td> <td>50   </td> <td>9   </td> <td>0.1 </td> <td>99  </td> <td>0   </td> <td>9   </td> <td>99  </td> <td>9   </td> <td>99  </td> <td>9   </td> <td>99  </td> <td>9   </td> <td>99  </td> <td>9   </td> <td>99  </td> <td>9   </td> <td>99  </td> <td>9   </td> <td>99  </td> <td>9   </td> <td>99  </td> <td>0   </td> <td>2   </td> <td>9999</td> <td>20  </td> <td>99  </td> <td>2   </td> <td>99  </td> <td>0   </td> <td>0   </td> <td>0   </td> <td>911 </td> <td>2   </td> <td>4072</td>\n",
       "        </tr>\n",
       "    </tbody>\n",
       "        <tr>\n",
       "            <td>NO2 </td> <td>ST  </td> <td>1   </td> <td>1859</td> <td>999 </td> <td>KE  </td> <td>1   </td> <td>999 </td> <td>CO  </td> <td>1   </td> <td>999 </td> <td>1   </td> <td>1   </td> <td>1150 </td> <td>9   </td> <td>16  </td> <td>99  </td> <td>0   </td> <td>9   </td> <td>99  </td> <td>9   </td> <td>99  </td> <td>9   </td> <td>99  </td> <td>9   </td> <td>99  </td> <td>9   </td> <td>99  </td> <td>9   </td> <td>99  </td> <td>9   </td> <td>99  </td> <td>9   </td> <td>99  </td> <td>0   </td> <td>1   </td> <td>9999</td> <td>99  </td> <td>99  </td> <td>1   </td> <td>99  </td> <td>0   </td> <td>3   </td> <td>9   </td> <td>181 </td> <td>1   </td> <td>4786</td>\n",
       "        </tr>\n",
       "    </tbody>\n",
       "        <tr>\n",
       "            <td>NO2 </td> <td>BR  </td> <td>10  </td> <td>1859</td> <td>999 </td> <td>CO  </td> <td>1   </td> <td>999 </td> <td>RA  </td> <td>1   </td> <td>999 </td> <td>1   </td> <td>1   </td> <td>1550 </td> <td>9   </td> <td>24  </td> <td>1   </td> <td>0   </td> <td>9   </td> <td>99  </td> <td>9   </td> <td>99  </td> <td>9   </td> <td>99  </td> <td>9   </td> <td>99  </td> <td>9   </td> <td>99  </td> <td>9   </td> <td>99  </td> <td>9   </td> <td>99  </td> <td>9   </td> <td>99  </td> <td>0   </td> <td>2   </td> <td>9999</td> <td>6   </td> <td>99  </td> <td>1   </td> <td>99  </td> <td>0   </td> <td>0   </td> <td>0   </td> <td>267 </td> <td>1   </td> <td>4838</td>\n",
       "        </tr>\n",
       "    </tbody>\n",
       "        <tr>\n",
       "            <td>NO2 </td> <td>FP  </td> <td>3   </td> <td>1859</td> <td>999 </td> <td>ST  </td> <td>3   </td> <td>GRA </td> <td>LA  </td> <td>2   </td> <td>LAF </td> <td>1   </td> <td>1   </td> <td>1550 </td> <td>9   </td> <td>19  </td> <td>1   </td> <td>0   </td> <td>9   </td> <td>99  </td> <td>9   </td> <td>99  </td> <td>9   </td> <td>99  </td> <td>9   </td> <td>99  </td> <td>9   </td> <td>99  </td> <td>9   </td> <td>99  </td> <td>9   </td> <td>99  </td> <td>9   </td> <td>99  </td> <td>0   </td> <td>2   </td> <td>9999</td> <td>10  </td> <td>99  </td> <td>1   </td> <td>99  </td> <td>0   </td> <td>2   </td> <td>2   </td> <td>119 </td> <td>1   </td> <td>4840</td>\n",
       "        </tr>\n",
       "    </tbody>\n",
       "</table>\n",
       "<p>... (3 rows omitted)</p"
      ],
      "text/plain": [
       "V1   | V2   | V3   | V4   | V5   | V6   | V7   | V8   | V9   | V10  | V11  | V12  | V13  | V14   | V15  | V16  | V17  | V18  | V19  | V20  | V21  | V22  | V23  | V24  | V25  | V26  | V27  | V28  | V29  | V30  | V31  | V32  | V33  | V34  | V35  | V36  | V37  | V38  | V39  | V40  | V41  | V42  | V43  | V44  | V45  | V46  | V47\n",
       "NO2  | MD   | 1    | 1812 |  P   | MA   | 2    | ORL  | BE   | 2    | ORL  | 39   | 1    | 99999 | 9    | 14   | 9    | 0    | 9    | 99   | 9    | 99   | 9    | 99   | 9    | 99   | 9    | 99   | 9    | 99   | 9    | 99   | 9    | 99   | 0    | 1    | 9999 | 99   | 99   | 2    | 99   | 0    | 0    | 0    | 402  | 2    | 440\n",
       "NO2  | PP   | 3    | 1821 |  P   | ML   | 1    | 999  | MA   | 1    | 999  | 7    | 1    | 99999 | 9    | 6    | 99   | 0    | 9    | 99   | 9    | 99   | 9    | 99   | 9    | 99   | 9    | 99   | 9    | 99   | 9    | 99   | 9    | 99   | 0    | 1    | 9999 | 99   | 99   | 1    | 99   | 0    | 6    | 1    | 417  | 2    | 1041\n",
       "NO2  | PP   | 3    | 1821 |  P   | ML   | 1    | 999  | MA   | 1    | 999  | 7    | 1    | 99999 | 9    | 9    | 99   | 0    | 9    | 99   | 9    | 99   | 9    | 99   | 9    | 99   | 9    | 99   | 9    | 99   | 9    | 99   | 9    | 99   | 0    | 1    | 9999 | 99   | 99   | 1    | 99   | 0    | 6    | 1    | 417  | 2    | 1045\n",
       "NO2  | FG   | 3    | 1840 | 999  | MC   | 3    | VIR  | DU   | 1    | 999  | 1    | 1    | 650   | 9    | 15   | 4    | 0    | 9    | 99   | 9    | 99   | 9    | 99   | 9    | 99   | 9    | 99   | 9    | 99   | 9    | 99   | 9    | 99   | 0    | 1    | 9999 | 99   | 99   | 1    | 99   | 0    | 2    | 3    | 137  | 1    | 2733\n",
       "NO2  | JM   | 3    | 1845 | 999  | PA   | 3    | MIS  | RO   | 1    | 999  | 1    | 1    | 260   | 9    | 25   | 99   | 0    | 9    | 99   | 9    | 99   | 9    | 99   | 9    | 99   | 9    | 99   | 9    | 99   | 9    | 99   | 9    | 99   | 0    | 1    | 9999 | 99   | 99   | 1    | 99   | 0    | 5    | 4    | 201  | 1    | 3168\n",
       "NO2  | OD   | 10   | 1845 | 999  | ST   | 3    | MIS  | RO   | 1    | 999  | 1    | 1    | 350   | 9    | 30   | 2    | 0    | 9    | 99   | 9    | 99   | 9    | 99   | 9    | 99   | 9    | 99   | 9    | 99   | 9    | 99   | 9    | 99   | 0    | 1    | 9999 | 99   | 99   | 2    | 1    | 0    | 5    | 4    | 503  | 1    | 3262\n",
       "NO2  | MA   | 6    | 1852 | 999  | CR   | 1    | 999  | SH   | 2    | OAC  | 38   | 36   | 50    | 9    | 0.1  | 99   | 0    | 9    | 99   | 9    | 99   | 9    | 99   | 9    | 99   | 9    | 99   | 9    | 99   | 9    | 99   | 9    | 99   | 0    | 2    | 9999 | 20   | 99   | 2    | 99   | 0    | 0    | 0    | 911  | 2    | 4072\n",
       "NO2  | ST   | 1    | 1859 | 999  | KE   | 1    | 999  | CO   | 1    | 999  | 1    | 1    | 1150  | 9    | 16   | 99   | 0    | 9    | 99   | 9    | 99   | 9    | 99   | 9    | 99   | 9    | 99   | 9    | 99   | 9    | 99   | 9    | 99   | 0    | 1    | 9999 | 99   | 99   | 1    | 99   | 0    | 3    | 9    | 181  | 1    | 4786\n",
       "NO2  | BR   | 10   | 1859 | 999  | CO   | 1    | 999  | RA   | 1    | 999  | 1    | 1    | 1550  | 9    | 24   | 1    | 0    | 9    | 99   | 9    | 99   | 9    | 99   | 9    | 99   | 9    | 99   | 9    | 99   | 9    | 99   | 9    | 99   | 0    | 2    | 9999 | 6    | 99   | 1    | 99   | 0    | 0    | 0    | 267  | 1    | 4838\n",
       "NO2  | FP   | 3    | 1859 | 999  | ST   | 3    | GRA  | LA   | 2    | LAF  | 1    | 1    | 1550  | 9    | 19   | 1    | 0    | 9    | 99   | 9    | 99   | 9    | 99   | 9    | 99   | 9    | 99   | 9    | 99   | 9    | 99   | 9    | 99   | 0    | 2    | 9999 | 10   | 99   | 1    | 99   | 0    | 2    | 2    | 119  | 1    | 4840\n",
       "... (3 rows omitted)"
      ]
     },
     "execution_count": 4,
     "metadata": {},
     "output_type": "execute_result"
    }
   ],
   "source": [
    "data.where(data[\"V15\"]==9)"
   ]
  },
  {
   "cell_type": "code",
   "execution_count": 5,
   "metadata": {
    "collapsed": true
   },
   "outputs": [],
   "source": [
    "plots.bar?"
   ]
  },
  {
   "cell_type": "code",
   "execution_count": 6,
   "metadata": {
    "collapsed": false
   },
   "outputs": [
    {
     "ename": "TypeError",
     "evalue": "unorderable types: str() < int()",
     "output_type": "error",
     "traceback": [
      "\u001b[1;31m---------------------------------------------------------------------------\u001b[0m",
      "\u001b[1;31mTypeError\u001b[0m                                 Traceback (most recent call last)",
      "\u001b[1;32m<ipython-input-6-7d0ec84bff18>\u001b[0m in \u001b[0;36m<module>\u001b[1;34m()\u001b[0m\n\u001b[1;32m----> 1\u001b[1;33m \u001b[0mdata\u001b[0m\u001b[1;33m.\u001b[0m\u001b[0mbarh\u001b[0m\u001b[1;33m(\u001b[0m\u001b[1;34m'V17'\u001b[0m\u001b[1;33m)\u001b[0m\u001b[1;33m\u001b[0m\u001b[0m\n\u001b[0m",
      "\u001b[1;32mC:\\Users\\Anon\\Anaconda3\\lib\\site-packages\\datascience\\tables.py\u001b[0m in \u001b[0;36mbarh\u001b[1;34m(self, column_for_categories, overlay, **vargs)\u001b[0m\n\u001b[0;32m   1466\u001b[0m         \u001b[1;32mif\u001b[0m \u001b[1;34m'height'\u001b[0m \u001b[1;32min\u001b[0m \u001b[0mvargs\u001b[0m\u001b[1;33m:\u001b[0m\u001b[1;33m\u001b[0m\u001b[0m\n\u001b[0;32m   1467\u001b[0m             \u001b[0mheight\u001b[0m \u001b[1;33m=\u001b[0m \u001b[0mvargs\u001b[0m\u001b[1;33m.\u001b[0m\u001b[0mpop\u001b[0m\u001b[1;33m(\u001b[0m\u001b[1;34m'height'\u001b[0m\u001b[1;33m)\u001b[0m\u001b[1;33m\u001b[0m\u001b[0m\n\u001b[1;32m-> 1468\u001b[1;33m         \u001b[0mself\u001b[0m\u001b[1;33m.\u001b[0m\u001b[0m_visualize\u001b[0m\u001b[1;33m(\u001b[0m\u001b[0mcolumn_for_categories\u001b[0m\u001b[1;33m,\u001b[0m \u001b[0my_labels\u001b[0m\u001b[1;33m,\u001b[0m \u001b[0myticks\u001b[0m\u001b[1;33m,\u001b[0m \u001b[0moverlay\u001b[0m\u001b[1;33m,\u001b[0m \u001b[0mdraw\u001b[0m\u001b[1;33m,\u001b[0m \u001b[0mannotate\u001b[0m\u001b[1;33m,\u001b[0m \u001b[0mheight\u001b[0m\u001b[1;33m=\u001b[0m\u001b[0mheight\u001b[0m\u001b[1;33m)\u001b[0m\u001b[1;33m\u001b[0m\u001b[0m\n\u001b[0m\u001b[0;32m   1469\u001b[0m \u001b[1;33m\u001b[0m\u001b[0m\n\u001b[0;32m   1470\u001b[0m     \u001b[1;32mdef\u001b[0m \u001b[0m_split_by_column\u001b[0m\u001b[1;33m(\u001b[0m\u001b[0mself\u001b[0m\u001b[1;33m,\u001b[0m \u001b[0mcolumn_or_label\u001b[0m\u001b[1;33m)\u001b[0m\u001b[1;33m:\u001b[0m\u001b[1;33m\u001b[0m\u001b[0m\n",
      "\u001b[1;32mC:\\Users\\Anon\\Anaconda3\\lib\\site-packages\\datascience\\tables.py\u001b[0m in \u001b[0;36m_visualize\u001b[1;34m(self, x_label, y_labels, ticks, overlay, draw, annotate, width, height)\u001b[0m\n\u001b[0;32m   1281\u001b[0m                 \u001b[0maxes\u001b[0m\u001b[1;33m=\u001b[0m\u001b[1;33m[\u001b[0m\u001b[0maxes\u001b[0m\u001b[1;33m]\u001b[0m\u001b[1;33m\u001b[0m\u001b[0m\n\u001b[0;32m   1282\u001b[0m             \u001b[1;32mfor\u001b[0m \u001b[0maxis\u001b[0m\u001b[1;33m,\u001b[0m \u001b[0my_label\u001b[0m\u001b[1;33m,\u001b[0m \u001b[0mcolor\u001b[0m \u001b[1;32min\u001b[0m \u001b[0mzip\u001b[0m\u001b[1;33m(\u001b[0m\u001b[0maxes\u001b[0m\u001b[1;33m,\u001b[0m \u001b[0my_labels\u001b[0m\u001b[1;33m,\u001b[0m \u001b[0mcolors\u001b[0m\u001b[1;33m)\u001b[0m\u001b[1;33m:\u001b[0m\u001b[1;33m\u001b[0m\u001b[0m\n\u001b[1;32m-> 1283\u001b[1;33m                 \u001b[0mdraw\u001b[0m\u001b[1;33m(\u001b[0m\u001b[0maxis\u001b[0m\u001b[1;33m,\u001b[0m \u001b[0my_label\u001b[0m\u001b[1;33m,\u001b[0m \u001b[0mcolor\u001b[0m\u001b[1;33m)\u001b[0m\u001b[1;33m\u001b[0m\u001b[0m\n\u001b[0m\u001b[0;32m   1284\u001b[0m                 \u001b[0maxis\u001b[0m\u001b[1;33m.\u001b[0m\u001b[0mset_ylabel\u001b[0m\u001b[1;33m(\u001b[0m\u001b[0my_label\u001b[0m\u001b[1;33m,\u001b[0m \u001b[0mfontsize\u001b[0m\u001b[1;33m=\u001b[0m\u001b[1;36m16\u001b[0m\u001b[1;33m)\u001b[0m\u001b[1;33m\u001b[0m\u001b[0m\n\u001b[0;32m   1285\u001b[0m                 \u001b[0maxis\u001b[0m\u001b[1;33m.\u001b[0m\u001b[0mset_xlabel\u001b[0m\u001b[1;33m(\u001b[0m\u001b[0mx_label\u001b[0m\u001b[1;33m,\u001b[0m \u001b[0mfontsize\u001b[0m\u001b[1;33m=\u001b[0m\u001b[1;36m16\u001b[0m\u001b[1;33m)\u001b[0m\u001b[1;33m\u001b[0m\u001b[0m\n",
      "\u001b[1;32mC:\\Users\\Anon\\Anaconda3\\lib\\site-packages\\datascience\\tables.py\u001b[0m in \u001b[0;36mdraw\u001b[1;34m(axis, label, color)\u001b[0m\n\u001b[0;32m   1457\u001b[0m                 \u001b[0mypos\u001b[0m \u001b[1;33m=\u001b[0m \u001b[0mindex\u001b[0m\u001b[1;33m\u001b[0m\u001b[0m\n\u001b[0;32m   1458\u001b[0m             \u001b[1;31m# barh plots entries in reverse order from bottom to top\u001b[0m\u001b[1;33m\u001b[0m\u001b[1;33m\u001b[0m\u001b[0m\n\u001b[1;32m-> 1459\u001b[1;33m             \u001b[0maxis\u001b[0m\u001b[1;33m.\u001b[0m\u001b[0mbarh\u001b[0m\u001b[1;33m(\u001b[0m\u001b[0mypos\u001b[0m\u001b[1;33m,\u001b[0m \u001b[0mself\u001b[0m\u001b[1;33m[\u001b[0m\u001b[0mlabel\u001b[0m\u001b[1;33m]\u001b[0m\u001b[1;33m[\u001b[0m\u001b[1;33m:\u001b[0m\u001b[1;33m:\u001b[0m\u001b[1;33m-\u001b[0m\u001b[1;36m1\u001b[0m\u001b[1;33m]\u001b[0m\u001b[1;33m,\u001b[0m \u001b[0mwidth\u001b[0m\u001b[1;33m,\u001b[0m  \u001b[0mcolor\u001b[0m\u001b[1;33m=\u001b[0m\u001b[0mcolor\u001b[0m\u001b[1;33m,\u001b[0m \u001b[1;33m**\u001b[0m\u001b[0moptions\u001b[0m\u001b[1;33m)\u001b[0m\u001b[1;33m\u001b[0m\u001b[0m\n\u001b[0m\u001b[0;32m   1460\u001b[0m \u001b[1;33m\u001b[0m\u001b[0m\n\u001b[0;32m   1461\u001b[0m         \u001b[1;32mdef\u001b[0m \u001b[0mannotate\u001b[0m\u001b[1;33m(\u001b[0m\u001b[0maxis\u001b[0m\u001b[1;33m,\u001b[0m \u001b[0mticks\u001b[0m\u001b[1;33m)\u001b[0m\u001b[1;33m:\u001b[0m\u001b[1;33m\u001b[0m\u001b[0m\n",
      "\u001b[1;32mC:\\Users\\Anon\\Anaconda3\\lib\\site-packages\\matplotlib\\axes\\_axes.py\u001b[0m in \u001b[0;36mbarh\u001b[1;34m(self, bottom, width, height, left, **kwargs)\u001b[0m\n\u001b[0;32m   2183\u001b[0m \u001b[1;33m\u001b[0m\u001b[0m\n\u001b[0;32m   2184\u001b[0m         patches = self.bar(left=left, height=height, width=width,\n\u001b[1;32m-> 2185\u001b[1;33m                            bottom=bottom, orientation='horizontal', **kwargs)\n\u001b[0m\u001b[0;32m   2186\u001b[0m         \u001b[1;32mreturn\u001b[0m \u001b[0mpatches\u001b[0m\u001b[1;33m\u001b[0m\u001b[0m\n\u001b[0;32m   2187\u001b[0m \u001b[1;33m\u001b[0m\u001b[0m\n",
      "\u001b[1;32mC:\\Users\\Anon\\Anaconda3\\lib\\site-packages\\matplotlib\\axes\\_axes.py\u001b[0m in \u001b[0;36mbar\u001b[1;34m(self, left, height, width, bottom, **kwargs)\u001b[0m\n\u001b[0;32m   2030\u001b[0m                 \u001b[0mb\u001b[0m \u001b[1;33m+=\u001b[0m \u001b[0mh\u001b[0m\u001b[1;33m\u001b[0m\u001b[0m\n\u001b[0;32m   2031\u001b[0m                 \u001b[0mh\u001b[0m \u001b[1;33m=\u001b[0m \u001b[0mabs\u001b[0m\u001b[1;33m(\u001b[0m\u001b[0mh\u001b[0m\u001b[1;33m)\u001b[0m\u001b[1;33m\u001b[0m\u001b[0m\n\u001b[1;32m-> 2032\u001b[1;33m             \u001b[1;32mif\u001b[0m \u001b[0mw\u001b[0m \u001b[1;33m<\u001b[0m \u001b[1;36m0\u001b[0m\u001b[1;33m:\u001b[0m\u001b[1;33m\u001b[0m\u001b[0m\n\u001b[0m\u001b[0;32m   2033\u001b[0m                 \u001b[0ml\u001b[0m \u001b[1;33m+=\u001b[0m \u001b[0mw\u001b[0m\u001b[1;33m\u001b[0m\u001b[0m\n\u001b[0;32m   2034\u001b[0m                 \u001b[0mw\u001b[0m \u001b[1;33m=\u001b[0m \u001b[0mabs\u001b[0m\u001b[1;33m(\u001b[0m\u001b[0mw\u001b[0m\u001b[1;33m)\u001b[0m\u001b[1;33m\u001b[0m\u001b[0m\n",
      "\u001b[1;31mTypeError\u001b[0m: unorderable types: str() < int()"
     ]
    },
    {
     "ename": "ValueError",
     "evalue": "width and height must each be below 32768",
     "output_type": "error",
     "traceback": [
      "\u001b[1;31m---------------------------------------------------------------------------\u001b[0m",
      "\u001b[1;31mValueError\u001b[0m                                Traceback (most recent call last)",
      "\u001b[1;32mC:\\Users\\Anon\\Anaconda3\\lib\\site-packages\\IPython\\core\\formatters.py\u001b[0m in \u001b[0;36m__call__\u001b[1;34m(self, obj)\u001b[0m\n\u001b[0;32m    335\u001b[0m                 \u001b[1;32mpass\u001b[0m\u001b[1;33m\u001b[0m\u001b[0m\n\u001b[0;32m    336\u001b[0m             \u001b[1;32melse\u001b[0m\u001b[1;33m:\u001b[0m\u001b[1;33m\u001b[0m\u001b[0m\n\u001b[1;32m--> 337\u001b[1;33m                 \u001b[1;32mreturn\u001b[0m \u001b[0mprinter\u001b[0m\u001b[1;33m(\u001b[0m\u001b[0mobj\u001b[0m\u001b[1;33m)\u001b[0m\u001b[1;33m\u001b[0m\u001b[0m\n\u001b[0m\u001b[0;32m    338\u001b[0m             \u001b[1;31m# Finally look for special method names\u001b[0m\u001b[1;33m\u001b[0m\u001b[1;33m\u001b[0m\u001b[0m\n\u001b[0;32m    339\u001b[0m             \u001b[0mmethod\u001b[0m \u001b[1;33m=\u001b[0m \u001b[0m_safe_get_formatter_method\u001b[0m\u001b[1;33m(\u001b[0m\u001b[0mobj\u001b[0m\u001b[1;33m,\u001b[0m \u001b[0mself\u001b[0m\u001b[1;33m.\u001b[0m\u001b[0mprint_method\u001b[0m\u001b[1;33m)\u001b[0m\u001b[1;33m\u001b[0m\u001b[0m\n",
      "\u001b[1;32mC:\\Users\\Anon\\Anaconda3\\lib\\site-packages\\IPython\\core\\pylabtools.py\u001b[0m in \u001b[0;36m<lambda>\u001b[1;34m(fig)\u001b[0m\n\u001b[0;32m    205\u001b[0m \u001b[1;33m\u001b[0m\u001b[0m\n\u001b[0;32m    206\u001b[0m     \u001b[1;32mif\u001b[0m \u001b[1;34m'png'\u001b[0m \u001b[1;32min\u001b[0m \u001b[0mformats\u001b[0m\u001b[1;33m:\u001b[0m\u001b[1;33m\u001b[0m\u001b[0m\n\u001b[1;32m--> 207\u001b[1;33m         \u001b[0mpng_formatter\u001b[0m\u001b[1;33m.\u001b[0m\u001b[0mfor_type\u001b[0m\u001b[1;33m(\u001b[0m\u001b[0mFigure\u001b[0m\u001b[1;33m,\u001b[0m \u001b[1;32mlambda\u001b[0m \u001b[0mfig\u001b[0m\u001b[1;33m:\u001b[0m \u001b[0mprint_figure\u001b[0m\u001b[1;33m(\u001b[0m\u001b[0mfig\u001b[0m\u001b[1;33m,\u001b[0m \u001b[1;34m'png'\u001b[0m\u001b[1;33m,\u001b[0m \u001b[1;33m**\u001b[0m\u001b[0mkwargs\u001b[0m\u001b[1;33m)\u001b[0m\u001b[1;33m)\u001b[0m\u001b[1;33m\u001b[0m\u001b[0m\n\u001b[0m\u001b[0;32m    208\u001b[0m     \u001b[1;32mif\u001b[0m \u001b[1;34m'retina'\u001b[0m \u001b[1;32min\u001b[0m \u001b[0mformats\u001b[0m \u001b[1;32mor\u001b[0m \u001b[1;34m'png2x'\u001b[0m \u001b[1;32min\u001b[0m \u001b[0mformats\u001b[0m\u001b[1;33m:\u001b[0m\u001b[1;33m\u001b[0m\u001b[0m\n\u001b[0;32m    209\u001b[0m         \u001b[0mpng_formatter\u001b[0m\u001b[1;33m.\u001b[0m\u001b[0mfor_type\u001b[0m\u001b[1;33m(\u001b[0m\u001b[0mFigure\u001b[0m\u001b[1;33m,\u001b[0m \u001b[1;32mlambda\u001b[0m \u001b[0mfig\u001b[0m\u001b[1;33m:\u001b[0m \u001b[0mretina_figure\u001b[0m\u001b[1;33m(\u001b[0m\u001b[0mfig\u001b[0m\u001b[1;33m,\u001b[0m \u001b[1;33m**\u001b[0m\u001b[0mkwargs\u001b[0m\u001b[1;33m)\u001b[0m\u001b[1;33m)\u001b[0m\u001b[1;33m\u001b[0m\u001b[0m\n",
      "\u001b[1;32mC:\\Users\\Anon\\Anaconda3\\lib\\site-packages\\IPython\\core\\pylabtools.py\u001b[0m in \u001b[0;36mprint_figure\u001b[1;34m(fig, fmt, bbox_inches, **kwargs)\u001b[0m\n\u001b[0;32m    115\u001b[0m \u001b[1;33m\u001b[0m\u001b[0m\n\u001b[0;32m    116\u001b[0m     \u001b[0mbytes_io\u001b[0m \u001b[1;33m=\u001b[0m \u001b[0mBytesIO\u001b[0m\u001b[1;33m(\u001b[0m\u001b[1;33m)\u001b[0m\u001b[1;33m\u001b[0m\u001b[0m\n\u001b[1;32m--> 117\u001b[1;33m     \u001b[0mfig\u001b[0m\u001b[1;33m.\u001b[0m\u001b[0mcanvas\u001b[0m\u001b[1;33m.\u001b[0m\u001b[0mprint_figure\u001b[0m\u001b[1;33m(\u001b[0m\u001b[0mbytes_io\u001b[0m\u001b[1;33m,\u001b[0m \u001b[1;33m**\u001b[0m\u001b[0mkw\u001b[0m\u001b[1;33m)\u001b[0m\u001b[1;33m\u001b[0m\u001b[0m\n\u001b[0m\u001b[0;32m    118\u001b[0m     \u001b[0mdata\u001b[0m \u001b[1;33m=\u001b[0m \u001b[0mbytes_io\u001b[0m\u001b[1;33m.\u001b[0m\u001b[0mgetvalue\u001b[0m\u001b[1;33m(\u001b[0m\u001b[1;33m)\u001b[0m\u001b[1;33m\u001b[0m\u001b[0m\n\u001b[0;32m    119\u001b[0m     \u001b[1;32mif\u001b[0m \u001b[0mfmt\u001b[0m \u001b[1;33m==\u001b[0m \u001b[1;34m'svg'\u001b[0m\u001b[1;33m:\u001b[0m\u001b[1;33m\u001b[0m\u001b[0m\n",
      "\u001b[1;32mC:\\Users\\Anon\\Anaconda3\\lib\\site-packages\\matplotlib\\backend_bases.py\u001b[0m in \u001b[0;36mprint_figure\u001b[1;34m(self, filename, dpi, facecolor, edgecolor, orientation, format, **kwargs)\u001b[0m\n\u001b[0;32m   2156\u001b[0m                     \u001b[0morientation\u001b[0m\u001b[1;33m=\u001b[0m\u001b[0morientation\u001b[0m\u001b[1;33m,\u001b[0m\u001b[1;33m\u001b[0m\u001b[0m\n\u001b[0;32m   2157\u001b[0m                     \u001b[0mdryrun\u001b[0m\u001b[1;33m=\u001b[0m\u001b[1;32mTrue\u001b[0m\u001b[1;33m,\u001b[0m\u001b[1;33m\u001b[0m\u001b[0m\n\u001b[1;32m-> 2158\u001b[1;33m                     **kwargs)\n\u001b[0m\u001b[0;32m   2159\u001b[0m                 \u001b[0mrenderer\u001b[0m \u001b[1;33m=\u001b[0m \u001b[0mself\u001b[0m\u001b[1;33m.\u001b[0m\u001b[0mfigure\u001b[0m\u001b[1;33m.\u001b[0m\u001b[0m_cachedRenderer\u001b[0m\u001b[1;33m\u001b[0m\u001b[0m\n\u001b[0;32m   2160\u001b[0m                 \u001b[0mbbox_inches\u001b[0m \u001b[1;33m=\u001b[0m \u001b[0mself\u001b[0m\u001b[1;33m.\u001b[0m\u001b[0mfigure\u001b[0m\u001b[1;33m.\u001b[0m\u001b[0mget_tightbbox\u001b[0m\u001b[1;33m(\u001b[0m\u001b[0mrenderer\u001b[0m\u001b[1;33m)\u001b[0m\u001b[1;33m\u001b[0m\u001b[0m\n",
      "\u001b[1;32mC:\\Users\\Anon\\Anaconda3\\lib\\site-packages\\matplotlib\\backends\\backend_agg.py\u001b[0m in \u001b[0;36mprint_png\u001b[1;34m(self, filename_or_obj, *args, **kwargs)\u001b[0m\n\u001b[0;32m    519\u001b[0m \u001b[1;33m\u001b[0m\u001b[0m\n\u001b[0;32m    520\u001b[0m     \u001b[1;32mdef\u001b[0m \u001b[0mprint_png\u001b[0m\u001b[1;33m(\u001b[0m\u001b[0mself\u001b[0m\u001b[1;33m,\u001b[0m \u001b[0mfilename_or_obj\u001b[0m\u001b[1;33m,\u001b[0m \u001b[1;33m*\u001b[0m\u001b[0margs\u001b[0m\u001b[1;33m,\u001b[0m \u001b[1;33m**\u001b[0m\u001b[0mkwargs\u001b[0m\u001b[1;33m)\u001b[0m\u001b[1;33m:\u001b[0m\u001b[1;33m\u001b[0m\u001b[0m\n\u001b[1;32m--> 521\u001b[1;33m         \u001b[0mFigureCanvasAgg\u001b[0m\u001b[1;33m.\u001b[0m\u001b[0mdraw\u001b[0m\u001b[1;33m(\u001b[0m\u001b[0mself\u001b[0m\u001b[1;33m)\u001b[0m\u001b[1;33m\u001b[0m\u001b[0m\n\u001b[0m\u001b[0;32m    522\u001b[0m         \u001b[0mrenderer\u001b[0m \u001b[1;33m=\u001b[0m \u001b[0mself\u001b[0m\u001b[1;33m.\u001b[0m\u001b[0mget_renderer\u001b[0m\u001b[1;33m(\u001b[0m\u001b[1;33m)\u001b[0m\u001b[1;33m\u001b[0m\u001b[0m\n\u001b[0;32m    523\u001b[0m         \u001b[0moriginal_dpi\u001b[0m \u001b[1;33m=\u001b[0m \u001b[0mrenderer\u001b[0m\u001b[1;33m.\u001b[0m\u001b[0mdpi\u001b[0m\u001b[1;33m\u001b[0m\u001b[0m\n",
      "\u001b[1;32mC:\\Users\\Anon\\Anaconda3\\lib\\site-packages\\matplotlib\\backends\\backend_agg.py\u001b[0m in \u001b[0;36mdraw\u001b[1;34m(self)\u001b[0m\n\u001b[0;32m    462\u001b[0m         \u001b[1;32mif\u001b[0m \u001b[0m__debug__\u001b[0m\u001b[1;33m:\u001b[0m \u001b[0mverbose\u001b[0m\u001b[1;33m.\u001b[0m\u001b[0mreport\u001b[0m\u001b[1;33m(\u001b[0m\u001b[1;34m'FigureCanvasAgg.draw'\u001b[0m\u001b[1;33m,\u001b[0m \u001b[1;34m'debug-annoying'\u001b[0m\u001b[1;33m)\u001b[0m\u001b[1;33m\u001b[0m\u001b[0m\n\u001b[0;32m    463\u001b[0m \u001b[1;33m\u001b[0m\u001b[0m\n\u001b[1;32m--> 464\u001b[1;33m         \u001b[0mself\u001b[0m\u001b[1;33m.\u001b[0m\u001b[0mrenderer\u001b[0m \u001b[1;33m=\u001b[0m \u001b[0mself\u001b[0m\u001b[1;33m.\u001b[0m\u001b[0mget_renderer\u001b[0m\u001b[1;33m(\u001b[0m\u001b[0mcleared\u001b[0m\u001b[1;33m=\u001b[0m\u001b[1;32mTrue\u001b[0m\u001b[1;33m)\u001b[0m\u001b[1;33m\u001b[0m\u001b[0m\n\u001b[0m\u001b[0;32m    465\u001b[0m         \u001b[1;31m# acquire a lock on the shared font cache\u001b[0m\u001b[1;33m\u001b[0m\u001b[1;33m\u001b[0m\u001b[0m\n\u001b[0;32m    466\u001b[0m         \u001b[0mRendererAgg\u001b[0m\u001b[1;33m.\u001b[0m\u001b[0mlock\u001b[0m\u001b[1;33m.\u001b[0m\u001b[0macquire\u001b[0m\u001b[1;33m(\u001b[0m\u001b[1;33m)\u001b[0m\u001b[1;33m\u001b[0m\u001b[0m\n",
      "\u001b[1;32mC:\\Users\\Anon\\Anaconda3\\lib\\site-packages\\matplotlib\\backends\\backend_agg.py\u001b[0m in \u001b[0;36mget_renderer\u001b[1;34m(self, cleared)\u001b[0m\n\u001b[0;32m    479\u001b[0m \u001b[1;33m\u001b[0m\u001b[0m\n\u001b[0;32m    480\u001b[0m         \u001b[1;32mif\u001b[0m \u001b[0mneed_new_renderer\u001b[0m\u001b[1;33m:\u001b[0m\u001b[1;33m\u001b[0m\u001b[0m\n\u001b[1;32m--> 481\u001b[1;33m             \u001b[0mself\u001b[0m\u001b[1;33m.\u001b[0m\u001b[0mrenderer\u001b[0m \u001b[1;33m=\u001b[0m \u001b[0mRendererAgg\u001b[0m\u001b[1;33m(\u001b[0m\u001b[0mw\u001b[0m\u001b[1;33m,\u001b[0m \u001b[0mh\u001b[0m\u001b[1;33m,\u001b[0m \u001b[0mself\u001b[0m\u001b[1;33m.\u001b[0m\u001b[0mfigure\u001b[0m\u001b[1;33m.\u001b[0m\u001b[0mdpi\u001b[0m\u001b[1;33m)\u001b[0m\u001b[1;33m\u001b[0m\u001b[0m\n\u001b[0m\u001b[0;32m    482\u001b[0m             \u001b[0mself\u001b[0m\u001b[1;33m.\u001b[0m\u001b[0m_lastKey\u001b[0m \u001b[1;33m=\u001b[0m \u001b[0mkey\u001b[0m\u001b[1;33m\u001b[0m\u001b[0m\n\u001b[0;32m    483\u001b[0m         \u001b[1;32melif\u001b[0m \u001b[0mcleared\u001b[0m\u001b[1;33m:\u001b[0m\u001b[1;33m\u001b[0m\u001b[0m\n",
      "\u001b[1;32mC:\\Users\\Anon\\Anaconda3\\lib\\site-packages\\matplotlib\\backends\\backend_agg.py\u001b[0m in \u001b[0;36m__init__\u001b[1;34m(self, width, height, dpi)\u001b[0m\n\u001b[0;32m     92\u001b[0m         \u001b[0mself\u001b[0m\u001b[1;33m.\u001b[0m\u001b[0mheight\u001b[0m \u001b[1;33m=\u001b[0m \u001b[0mheight\u001b[0m\u001b[1;33m\u001b[0m\u001b[0m\n\u001b[0;32m     93\u001b[0m         \u001b[1;32mif\u001b[0m \u001b[0m__debug__\u001b[0m\u001b[1;33m:\u001b[0m \u001b[0mverbose\u001b[0m\u001b[1;33m.\u001b[0m\u001b[0mreport\u001b[0m\u001b[1;33m(\u001b[0m\u001b[1;34m'RendererAgg.__init__ width=%s, height=%s'\u001b[0m\u001b[1;33m%\u001b[0m\u001b[1;33m(\u001b[0m\u001b[0mwidth\u001b[0m\u001b[1;33m,\u001b[0m \u001b[0mheight\u001b[0m\u001b[1;33m)\u001b[0m\u001b[1;33m,\u001b[0m \u001b[1;34m'debug-annoying'\u001b[0m\u001b[1;33m)\u001b[0m\u001b[1;33m\u001b[0m\u001b[0m\n\u001b[1;32m---> 94\u001b[1;33m         \u001b[0mself\u001b[0m\u001b[1;33m.\u001b[0m\u001b[0m_renderer\u001b[0m \u001b[1;33m=\u001b[0m \u001b[0m_RendererAgg\u001b[0m\u001b[1;33m(\u001b[0m\u001b[0mint\u001b[0m\u001b[1;33m(\u001b[0m\u001b[0mwidth\u001b[0m\u001b[1;33m)\u001b[0m\u001b[1;33m,\u001b[0m \u001b[0mint\u001b[0m\u001b[1;33m(\u001b[0m\u001b[0mheight\u001b[0m\u001b[1;33m)\u001b[0m\u001b[1;33m,\u001b[0m \u001b[0mdpi\u001b[0m\u001b[1;33m,\u001b[0m \u001b[0mdebug\u001b[0m\u001b[1;33m=\u001b[0m\u001b[1;32mFalse\u001b[0m\u001b[1;33m)\u001b[0m\u001b[1;33m\u001b[0m\u001b[0m\n\u001b[0m\u001b[0;32m     95\u001b[0m         \u001b[0mself\u001b[0m\u001b[1;33m.\u001b[0m\u001b[0m_filter_renderers\u001b[0m \u001b[1;33m=\u001b[0m \u001b[1;33m[\u001b[0m\u001b[1;33m]\u001b[0m\u001b[1;33m\u001b[0m\u001b[0m\n\u001b[0;32m     96\u001b[0m \u001b[1;33m\u001b[0m\u001b[0m\n",
      "\u001b[1;31mValueError\u001b[0m: width and height must each be below 32768"
     ]
    },
    {
     "data": {
      "text/plain": [
       "<matplotlib.figure.Figure at 0x241172d7668>"
      ]
     },
     "metadata": {},
     "output_type": "display_data"
    }
   ],
   "source": [
    "data.barh('V17')"
   ]
  },
  {
   "cell_type": "code",
   "execution_count": 7,
   "metadata": {
    "collapsed": false
   },
   "outputs": [
    {
     "data": {
      "text/plain": [
       "(array([ 4667.,    81.,     0.,     0.,     0.,     0.,     0.,     0.,\n",
       "            0.,   261.]),\n",
       " array([  1. ,  10.8,  20.6,  30.4,  40.2,  50. ,  59.8,  69.6,  79.4,\n",
       "         89.2,  99. ]),\n",
       " <a list of 10 Patch objects>)"
      ]
     },
     "execution_count": 7,
     "metadata": {},
     "output_type": "execute_result"
    },
    {
     "data": {
      "image/png": "[encoded data removed]",
      "text/plain": [
       "<matplotlib.figure.Figure at 0x2411b8994a8>"
      ]
     },
     "metadata": {},
     "output_type": "display_data"
    }
   ],
   "source": [
    "plots.hist(data[\"V17\"])"
   ]
  },
  {
   "cell_type": "code",
   "execution_count": null,
   "metadata": {
    "collapsed": true
   },
   "outputs": [],
   "source": []
  }
 ],
 "metadata": {
  "kernelspec": {
   "display_name": "Python 3",
   "language": "python",
   "name": "python3"
  },
  "language_info": {
   "codemirror_mode": {
    "name": "ipython",
    "version": 3
   },
   "file_extension": ".py",
   "mimetype": "text/x-python",
   "name": "python",
   "nbconvert_exporter": "python",
   "pygments_lexer": "ipython3",
   "version": "3.5.0"
  }
 },
 "nbformat": 4,
 "nbformat_minor": 0
}
