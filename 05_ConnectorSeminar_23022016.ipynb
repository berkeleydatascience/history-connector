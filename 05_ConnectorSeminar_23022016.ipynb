{
 "cells": [
  {
   "cell_type": "code",
   "execution_count": 1,
   "metadata": {
    "collapsed": true
   },
   "outputs": [],
   "source": [
    "from datascience import *\n",
    "%matplotlib inline\n",
    "import matplotlib.pyplot as plots\n",
    "plots.style.use(\"fivethirtyeight\")\n",
    "import numpy as np\n",
    "import math"
   ]
  },
  {
   "cell_type": "code",
   "execution_count": 2,
   "metadata": {
    "collapsed": true
   },
   "outputs": [],
   "source": [
    "data = Table.read_table(\"https://github.com/data-8/history-connector/raw/gh-pages/Data1.csv\")"
   ]
  },
  {
   "cell_type": "markdown",
   "metadata": {},
   "source": [
    "# Exploring Averages and Dispersion"
   ]
  },
  {
   "cell_type": "markdown",
   "metadata": {},
   "source": [
    "There are several different ways to assess what values data tend to center around. In class, we saw two such measures of the central tendency, the mean and the median, and another two are sometimes used, the mode and the midrange (the latter is defined briefly below, but not part of the examples). \n",
    "\n",
    "The [mean], frequently referred to as by x-bar, and the median, referred to as x-tilde, are defined in the textbook. Briefly, the mean is the arithmetic average (sum all the scores and divide them by the total number of scores), and the [median] is the “half-way point” (rank all the scores, and if there are an odd number of scores, the middle one is the half-way point, and if there are an even number of scores, the half-way point is the mean of the middle two numbers).\n",
    "\n",
    "Two other measures of the central tendency to keep in mind include the mode and the midrange. The [mode], frequently referred to as M, is simply the most frequent score. Is it possible to have a set of scores without a mode, or with several? If no score is repeated, then there is no mode – by contrast, the mean and the median always exist; if two different scores are repeated the same, greatest frequency, then the data set is described as bimodal (and, yes, when more than two scores appear with the same greatest frequency, then the data set is multimodal). Finally, the [midrange], the least commonly used measure of the central tendency is the average of the highest and lowest score in the data set. \n",
    "\n",
    "Why so many measures? Each one has a use, for instance the midrange is sensitive to extreme values, and it can complement the median as a measure when the data set has extreme, or outlier scores. The mode is useful for nominal (“name only”) type data – in this election season, it is useful to note the mode of survey response answers yes, no, and undecided, and we saw that it was useful to note the slight gender disbalance in the data set.\n",
    "\n",
    "In the first part of the lab, we will look at the central tendency, and we will focus on age of the principle slave on the record and of the first child, V16 and V20, respectively. In the second part of the lab, we will look at a measure of variation of scores around the mean, the standard deviation. Specifically, we will calculate and compare the standard deviation of the ages, as these are captured by V16 and V20, and discuss the results. In the final part, you will be asked to look at different variable, and calculate the central tendency and the standard deviation. The purpose of these exercises is to be able to calculate the so-called [[standard units]], the z-score, the topic to which we turn to next. "
   ]
  },
  {
   "cell_type": "code",
   "execution_count": null,
   "metadata": {
    "collapsed": true
   },
   "outputs": [],
   "source": [
    "#Renaming variables, to begin. Relabel V16, the age of the \"principal slave\"; and V20, the age of first child.\n",
    "data.relabel(...)\n",
    "data.relabel(...)"
   ]
  },
  {
   "cell_type": "markdown",
   "metadata": {},
   "source": [
    "There is a numpy function available for the mean, but it's worth finding this \"by hand\" once or twice to make sure you know how. In the following cells, we'll find different statisitics about the Age of Principal Slave column.\n",
    "If you wish, create a variable to hold the column you're interested in to avoid typing data.column(...) all the time!"
   ]
  },
  {
   "cell_type": "code",
   "execution_count": null,
   "metadata": {
    "collapsed": true
   },
   "outputs": [],
   "source": [
    "# You may not notice something bizarre in the later cells if you don't take a look at the histogram of this column first!\n",
    "# Do that here.\n",
    "data.hist(...)"
   ]
  },
  {
   "cell_type": "code",
   "execution_count": null,
   "metadata": {
    "collapsed": true
   },
   "outputs": [],
   "source": [
    "# Use this cell to set the variable principal_age to a useful array, using .where and .column\n",
    "# You may want to refer to examples from previous discussions\n",
    "principal_age = data.where(...).column(...)"
   ]
  },
  {
   "cell_type": "code",
   "execution_count": null,
   "metadata": {
    "collapsed": true
   },
   "outputs": [],
   "source": [
    "#Find the mean without using np.mean\n"
   ]
  },
  {
   "cell_type": "code",
   "execution_count": null,
   "metadata": {
    "collapsed": true
   },
   "outputs": [],
   "source": [
    "#Find the median. You can use np.median!\n"
   ]
  },
  {
   "cell_type": "code",
   "execution_count": null,
   "metadata": {
    "collapsed": true
   },
   "outputs": [],
   "source": [
    "#Assess the mode visually by making a histogram. Think - how do you avoid the \"age\" of 99? There's a few ways!\n",
    "# Suggestion: create a variable called \"my_bins\" for convenience\n"
   ]
  },
  {
   "cell_type": "markdown",
   "metadata": {},
   "source": [
    "What do you notice? Do the mean and the mode look unusual, how does the histogram look? What might explain its shape? \n",
    "\n",
    "Let's see if similar patterns appear in V20."
   ]
  },
  {
   "cell_type": "code",
   "execution_count": null,
   "metadata": {
    "collapsed": true
   },
   "outputs": [],
   "source": [
    "# Again, notice anything strange first?\n",
    "data.hist(...)"
   ]
  },
  {
   "cell_type": "code",
   "execution_count": null,
   "metadata": {
    "collapsed": true
   },
   "outputs": [],
   "source": [
    "# Use this cell to set the variable child_age to a useful array, using .where and .column\n",
    "child_age = data.where(...).column(...)"
   ]
  },
  {
   "cell_type": "code",
   "execution_count": null,
   "metadata": {
    "collapsed": true
   },
   "outputs": [],
   "source": [
    "#Find the mean without using np.mean\n"
   ]
  },
  {
   "cell_type": "code",
   "execution_count": null,
   "metadata": {
    "collapsed": true
   },
   "outputs": [],
   "source": [
    "#Find the median\n"
   ]
  },
  {
   "cell_type": "code",
   "execution_count": null,
   "metadata": {
    "collapsed": true
   },
   "outputs": [],
   "source": [
    "#Assess the mode visually again. You can use almost the exact same code as in the last mode question!\n"
   ]
  },
  {
   "cell_type": "markdown",
   "metadata": {},
   "source": [
    "It'll be interesting to overlay these two distributions, but to do that, we have to consider that principal_age is much longer than child_age. To make a non-misleading histogram, we should sample from principal_age to make two distributions of the same length, and then compare these!"
   ]
  },
  {
   "cell_type": "code",
   "execution_count": null,
   "metadata": {
    "collapsed": true
   },
   "outputs": [],
   "source": [
    "#This is an old piece of code from last semester. They didn't expect us to come up up with this code - don't worry!\n",
    "def compare(t, conditions, values):\n",
    "    \"\"\"Overlay histograms of values for two conditions.\"\"\"\n",
    "    t['count'] = 1\n",
    "    e = t.pivot(conditions, values, 'count', sum)\n",
    "    for label in e.labels[1:]:\n",
    "        e[label] = e[label]/sum(e[label]) # Normalize each column of counts\n",
    "    e.hist(counts=values, normed=True, overlay=True)\n",
    "\n",
    "#Take a look at this line and find where we sample:\n",
    "ages = data.where(data.column(\"principal age\") != 99).select('principal age').sample(len(child_age)).with_column(\"category\", \"principal\")\n",
    "ages.relabel(\"principal age\", \"age\")\n",
    "\n",
    "child_ages = data.where(data.column(\"first child age\") != 99).select('first child age').with_column(\"category\", \"child\")\n",
    "child_ages.relabel(\"first child age\", \"age\")\n",
    "\n",
    "ages.append(child_ages)\n",
    "\n",
    "compare(ages, 'category', 'age')"
   ]
  },
  {
   "cell_type": "markdown",
   "metadata": {},
   "source": [
    "# Exploring Standard Deviation\n"
   ]
  },
  {
   "cell_type": "markdown",
   "metadata": {},
   "source": [
    "Variation is among the most important concepts in statistics, so this is among the most important exercises. First, to reiterate the concepts intuitively, and then we will work out examples that will let us calculate variation.\n",
    "\n",
    "Variation refers to the amount that scores vary among themselves. Intuitively, scores that are relatively close together have low measures of variation, whereas scores that are spread further apart have a larger measure of variation. The standard deviation is an especially useful measure of variation, and it is important to understand how to calculate the standard deviation and, of course, how to interpret what that calculation means. We derive the formula through a series of steps below; to begin with, think of the mean of a set of scores, something we calculated in the examples above, and the standard deviation as a measure of variation of scores around the mean. \n",
    "\n",
    "Like the mean, standard deviation has a numpy function available. However, let's avoid using that this time in order to understand what goes into the calculation of the standard deviation! Remember: \"root mean square of deviations from average\""
   ]
  },
  {
   "cell_type": "code",
   "execution_count": null,
   "metadata": {
    "collapsed": true
   },
   "outputs": [],
   "source": [
    "# Find the standard deviation of principal_age\n",
    "# First, find the mean:\n",
    "principal_mean = ...\n",
    "\n",
    "# Next, create an array of all the ages minus the mean (\"deviations\")\n",
    "principal_deviations = ...\n",
    "\n",
    "#Next, square the deviations:\n",
    "principal_squared = ...\n",
    "\n",
    "#Find the average of the squared deviations (\"variance\"):\n",
    "principal_variance = ...\n",
    "\n",
    "#Take the square root to get to the standard deviation.\n",
    "principal_std = ...\n",
    "principal_std"
   ]
  },
  {
   "cell_type": "code",
   "execution_count": null,
   "metadata": {
    "collapsed": true
   },
   "outputs": [],
   "source": [
    "# Compare your result to what numpy gives you. If they're different, what Python quirk could be causing this?\n",
    "np.std(principal_age)"
   ]
  },
  {
   "cell_type": "markdown",
   "metadata": {},
   "source": [
    "Now, the same process for the age of the first child."
   ]
  },
  {
   "cell_type": "code",
   "execution_count": null,
   "metadata": {
    "collapsed": true
   },
   "outputs": [],
   "source": [
    "# Find the standard deviation of child_age\n",
    "# First, find the mean:\n",
    "child_mean = ...\n",
    "\n",
    "# Next, create an array of all the ages minus the mean (\"deviations\")\n",
    "child_deviations = ...\n",
    "\n",
    "#Next, square the deviations:\n",
    "child_squared = ...\n",
    "\n",
    "#Find the average of the squared deviations (\"variance\"):\n",
    "child_variance = ...\n",
    "\n",
    "#Take the square root to get to the standard deviation.\n",
    "child_std = ...\n",
    "child_std"
   ]
  },
  {
   "cell_type": "code",
   "execution_count": null,
   "metadata": {
    "collapsed": true
   },
   "outputs": [],
   "source": [
    "#Again, compare your result:\n",
    "np.std(child_age)"
   ]
  },
  {
   "cell_type": "markdown",
   "metadata": {},
   "source": [
    "How would you compare the two standard deviations? How do these compare to the standard deviation calculated in the textbook, with height data, a similar type of variable as age?\n",
    "\n",
    "Exercises:\n",
    "\n",
    "/1/ Using the formula for the textbook for Chebychev's inequality -- the proportion in the range “average ± 2 SDs” is at least 1 - 1/4 = 0.75; the proportion in the range “average ± 3 SDs” is at least 1 - 1/9 ≈ 0.89 – would you say that this is insightful for the type of values we looked at in the examples above? Do we learn more about sales or about age? Put differently, what do we learn about the sales with information on the age of the principle slave, and what do we do with all those 99s?\n",
    "\n",
    "/2/ Pick a variable of interest that we have not explored together, and calculate the mean, median and standard deviation. Calculate the so-called z-score using the formula from the textbook, and consider what the score tells you. \n"
   ]
  },
  {
   "cell_type": "code",
   "execution_count": null,
   "metadata": {
    "collapsed": true
   },
   "outputs": [],
   "source": [
    "# Begin exercises here, feel free to use as many cells as you find useful."
   ]
  }
 ],
 "metadata": {
  "kernelspec": {
   "display_name": "Python 3",
   "language": "python",
   "name": "python3"
  },
  "language_info": {
   "codemirror_mode": {
    "name": "ipython",
    "version": 3
   },
   "file_extension": ".py",
   "mimetype": "text/x-python",
   "name": "python",
   "nbconvert_exporter": "python",
   "pygments_lexer": "ipython3",
   "version": "3.4.4"
  }
 },
 "nbformat": 4,
 "nbformat_minor": 0
}
