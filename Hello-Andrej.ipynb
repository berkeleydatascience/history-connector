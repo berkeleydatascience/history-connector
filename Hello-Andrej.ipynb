{
 "cells": [
  {
   "cell_type": "code",
   "execution_count": 1,
   "metadata": {
    "collapsed": false
   },
   "outputs": [
    {
     "name": "stdout",
     "output_type": "stream",
     "text": [
      "Hello world\n"
     ]
    }
   ],
   "source": [
    "print('Hello world')"
   ]
  },
  {
   "cell_type": "code",
   "execution_count": 1,
   "metadata": {
    "collapsed": false
   },
   "outputs": [
    {
     "data": {
      "text/html": [
       "<table border=\"1\" class=\"dataframe\">\n",
       "    <thead>\n",
       "        <tr>\n",
       "            <th>SEX</th> <th>AGE</th> <th>CENSUS2010POP</th> <th>ESTIMATESBASE2010</th> <th>POPESTIMATE2010</th> <th>POPESTIMATE2011</th> <th>POPESTIMATE2012</th> <th>POPESTIMATE2013</th> <th>POPESTIMATE2014</th>\n",
       "        </tr>\n",
       "    </thead>\n",
       "    <tbody>\n",
       "        <tr>\n",
       "            <td>0   </td> <td>0   </td> <td>3944153      </td> <td>3944160          </td> <td>3951330        </td> <td>3963071        </td> <td>3926665        </td> <td>3945610        </td> <td>3948350        </td>\n",
       "        </tr>\n",
       "    </tbody>\n",
       "        <tr>\n",
       "            <td>0   </td> <td>1   </td> <td>3978070      </td> <td>3978090          </td> <td>3957888        </td> <td>3966510        </td> <td>3978006        </td> <td>3943077        </td> <td>3962123        </td>\n",
       "        </tr>\n",
       "    </tbody>\n",
       "        <tr>\n",
       "            <td>0   </td> <td>2   </td> <td>4096929      </td> <td>4096939          </td> <td>4090862        </td> <td>3971573        </td> <td>3979952        </td> <td>3992690        </td> <td>3957772        </td>\n",
       "        </tr>\n",
       "    </tbody>\n",
       "        <tr>\n",
       "            <td>0   </td> <td>3   </td> <td>4119040      </td> <td>4119051          </td> <td>4111920        </td> <td>4102501        </td> <td>3983049        </td> <td>3992425        </td> <td>4005190        </td>\n",
       "        </tr>\n",
       "    </tbody>\n",
       "        <tr>\n",
       "            <td>0   </td> <td>4   </td> <td>4063170      </td> <td>4063186          </td> <td>4077552        </td> <td>4122303        </td> <td>4112638        </td> <td>3994047        </td> <td>4003448        </td>\n",
       "        </tr>\n",
       "    </tbody>\n",
       "        <tr>\n",
       "            <td>0   </td> <td>5   </td> <td>4056858      </td> <td>4056872          </td> <td>4064653        </td> <td>4087713        </td> <td>4132210        </td> <td>4123408        </td> <td>4004858        </td>\n",
       "        </tr>\n",
       "    </tbody>\n",
       "        <tr>\n",
       "            <td>0   </td> <td>6   </td> <td>4066381      </td> <td>4066412          </td> <td>4073013        </td> <td>4074979        </td> <td>4097780        </td> <td>4143094        </td> <td>4134352        </td>\n",
       "        </tr>\n",
       "    </tbody>\n",
       "        <tr>\n",
       "            <td>0   </td> <td>7   </td> <td>4030579      </td> <td>4030594          </td> <td>4043047        </td> <td>4083240        </td> <td>4084964        </td> <td>4108615        </td> <td>4154000        </td>\n",
       "        </tr>\n",
       "    </tbody>\n",
       "        <tr>\n",
       "            <td>0   </td> <td>8   </td> <td>4046486      </td> <td>4046497          </td> <td>4025604        </td> <td>4053206        </td> <td>4093213        </td> <td>4095827        </td> <td>4119524        </td>\n",
       "        </tr>\n",
       "    </tbody>\n",
       "        <tr>\n",
       "            <td>0   </td> <td>9   </td> <td>4148353      </td> <td>4148369          </td> <td>4125415        </td> <td>4035769        </td> <td>4063193        </td> <td>4104133        </td> <td>4106832        </td>\n",
       "        </tr>\n",
       "    </tbody>\n",
       "</table>\n",
       "<p>... (296 rows omitted)</p"
      ],
      "text/plain": [
       "SEX  | AGE  | CENSUS2010POP | ESTIMATESBASE2010 | POPESTIMATE2010 | POPESTIMATE2011 | POPESTIMATE2012 | POPESTIMATE2013 | POPESTIMATE2014\n",
       "0    | 0    | 3944153       | 3944160           | 3951330         | 3963071         | 3926665         | 3945610         | 3948350\n",
       "0    | 1    | 3978070       | 3978090           | 3957888         | 3966510         | 3978006         | 3943077         | 3962123\n",
       "0    | 2    | 4096929       | 4096939           | 4090862         | 3971573         | 3979952         | 3992690         | 3957772\n",
       "0    | 3    | 4119040       | 4119051           | 4111920         | 4102501         | 3983049         | 3992425         | 4005190\n",
       "0    | 4    | 4063170       | 4063186           | 4077552         | 4122303         | 4112638         | 3994047         | 4003448\n",
       "0    | 5    | 4056858       | 4056872           | 4064653         | 4087713         | 4132210         | 4123408         | 4004858\n",
       "0    | 6    | 4066381       | 4066412           | 4073013         | 4074979         | 4097780         | 4143094         | 4134352\n",
       "0    | 7    | 4030579       | 4030594           | 4043047         | 4083240         | 4084964         | 4108615         | 4154000\n",
       "0    | 8    | 4046486       | 4046497           | 4025604         | 4053206         | 4093213         | 4095827         | 4119524\n",
       "0    | 9    | 4148353       | 4148369           | 4125415         | 4035769         | 4063193         | 4104133         | 4106832\n",
       "... (296 rows omitted)"
      ]
     },
     "execution_count": 1,
     "metadata": {},
     "output_type": "execute_result"
    }
   ],
   "source": [
    "census_url = 'http://www.census.gov/popest/data/national/asrh/2014/files/NC-EST2014-AGESEX-RES.csv'\n",
    "full_table = Table.read_table(census_url)\n",
    "full_table"
   ]
  },
  {
   "cell_type": "code",
   "execution_count": 1,
   "metadata": {
    "collapsed": true
   },
   "outputs": [],
   "source": [
    "from datascience import Table\n",
    "import matplotlib.pyplot as plots\n",
    "plots.style.use('fivethirtyeight')\n",
    "%matplotlib inline\n"
   ]
  },
  {
   "cell_type": "code",
   "execution_count": 2,
   "metadata": {
    "collapsed": false
   },
   "outputs": [
    {
     "data": {
      "text/html": [
       "<table border=\"1\" class=\"dataframe\">\n",
       "    <thead>\n",
       "        <tr>\n",
       "            <th>SEX</th> <th>AGE</th> <th>CENSUS2010POP</th> <th>ESTIMATESBASE2010</th> <th>POPESTIMATE2010</th> <th>POPESTIMATE2011</th> <th>POPESTIMATE2012</th> <th>POPESTIMATE2013</th> <th>POPESTIMATE2014</th>\n",
       "        </tr>\n",
       "    </thead>\n",
       "    <tbody>\n",
       "        <tr>\n",
       "            <td>0   </td> <td>0   </td> <td>3944153      </td> <td>3944160          </td> <td>3951330        </td> <td>3963071        </td> <td>3926665        </td> <td>3945610        </td> <td>3948350        </td>\n",
       "        </tr>\n",
       "    </tbody>\n",
       "        <tr>\n",
       "            <td>0   </td> <td>1   </td> <td>3978070      </td> <td>3978090          </td> <td>3957888        </td> <td>3966510        </td> <td>3978006        </td> <td>3943077        </td> <td>3962123        </td>\n",
       "        </tr>\n",
       "    </tbody>\n",
       "        <tr>\n",
       "            <td>0   </td> <td>2   </td> <td>4096929      </td> <td>4096939          </td> <td>4090862        </td> <td>3971573        </td> <td>3979952        </td> <td>3992690        </td> <td>3957772        </td>\n",
       "        </tr>\n",
       "    </tbody>\n",
       "        <tr>\n",
       "            <td>0   </td> <td>3   </td> <td>4119040      </td> <td>4119051          </td> <td>4111920        </td> <td>4102501        </td> <td>3983049        </td> <td>3992425        </td> <td>4005190        </td>\n",
       "        </tr>\n",
       "    </tbody>\n",
       "        <tr>\n",
       "            <td>0   </td> <td>4   </td> <td>4063170      </td> <td>4063186          </td> <td>4077552        </td> <td>4122303        </td> <td>4112638        </td> <td>3994047        </td> <td>4003448        </td>\n",
       "        </tr>\n",
       "    </tbody>\n",
       "        <tr>\n",
       "            <td>0   </td> <td>5   </td> <td>4056858      </td> <td>4056872          </td> <td>4064653        </td> <td>4087713        </td> <td>4132210        </td> <td>4123408        </td> <td>4004858        </td>\n",
       "        </tr>\n",
       "    </tbody>\n",
       "        <tr>\n",
       "            <td>0   </td> <td>6   </td> <td>4066381      </td> <td>4066412          </td> <td>4073013        </td> <td>4074979        </td> <td>4097780        </td> <td>4143094        </td> <td>4134352        </td>\n",
       "        </tr>\n",
       "    </tbody>\n",
       "        <tr>\n",
       "            <td>0   </td> <td>7   </td> <td>4030579      </td> <td>4030594          </td> <td>4043047        </td> <td>4083240        </td> <td>4084964        </td> <td>4108615        </td> <td>4154000        </td>\n",
       "        </tr>\n",
       "    </tbody>\n",
       "        <tr>\n",
       "            <td>0   </td> <td>8   </td> <td>4046486      </td> <td>4046497          </td> <td>4025604        </td> <td>4053206        </td> <td>4093213        </td> <td>4095827        </td> <td>4119524        </td>\n",
       "        </tr>\n",
       "    </tbody>\n",
       "        <tr>\n",
       "            <td>0   </td> <td>9   </td> <td>4148353      </td> <td>4148369          </td> <td>4125415        </td> <td>4035769        </td> <td>4063193        </td> <td>4104133        </td> <td>4106832        </td>\n",
       "        </tr>\n",
       "    </tbody>\n",
       "</table>\n",
       "<p>... (296 rows omitted)</p"
      ],
      "text/plain": [
       "SEX  | AGE  | CENSUS2010POP | ESTIMATESBASE2010 | POPESTIMATE2010 | POPESTIMATE2011 | POPESTIMATE2012 | POPESTIMATE2013 | POPESTIMATE2014\n",
       "0    | 0    | 3944153       | 3944160           | 3951330         | 3963071         | 3926665         | 3945610         | 3948350\n",
       "0    | 1    | 3978070       | 3978090           | 3957888         | 3966510         | 3978006         | 3943077         | 3962123\n",
       "0    | 2    | 4096929       | 4096939           | 4090862         | 3971573         | 3979952         | 3992690         | 3957772\n",
       "0    | 3    | 4119040       | 4119051           | 4111920         | 4102501         | 3983049         | 3992425         | 4005190\n",
       "0    | 4    | 4063170       | 4063186           | 4077552         | 4122303         | 4112638         | 3994047         | 4003448\n",
       "0    | 5    | 4056858       | 4056872           | 4064653         | 4087713         | 4132210         | 4123408         | 4004858\n",
       "0    | 6    | 4066381       | 4066412           | 4073013         | 4074979         | 4097780         | 4143094         | 4134352\n",
       "0    | 7    | 4030579       | 4030594           | 4043047         | 4083240         | 4084964         | 4108615         | 4154000\n",
       "0    | 8    | 4046486       | 4046497           | 4025604         | 4053206         | 4093213         | 4095827         | 4119524\n",
       "0    | 9    | 4148353       | 4148369           | 4125415         | 4035769         | 4063193         | 4104133         | 4106832\n",
       "... (296 rows omitted)"
      ]
     },
     "execution_count": 2,
     "metadata": {},
     "output_type": "execute_result"
    }
   ],
   "source": [
    "census_url = 'http://www.census.gov/popest/data/national/asrh/2014/files/NC-EST2014-AGESEX-RES.csv'\n",
    "full_table = Table.read_table(census_url)\n",
    "full_table"
   ]
  },
  {
   "cell_type": "code",
   "execution_count": 6,
   "metadata": {
    "collapsed": false
   },
   "outputs": [
    {
     "ename": "CParserError",
     "evalue": "Error tokenizing data. C error: Expected 1 fields in line 12, saw 2\n",
     "output_type": "error",
     "traceback": [
      "\u001b[1;31m---------------------------------------------------------------------------\u001b[0m",
      "\u001b[1;31mCParserError\u001b[0m                              Traceback (most recent call last)",
      "\u001b[1;32m<ipython-input-6-e070b2237ea9>\u001b[0m in \u001b[0;36m<module>\u001b[1;34m()\u001b[0m\n\u001b[0;32m      1\u001b[0m \u001b[0mslavery_data\u001b[0m \u001b[1;33m=\u001b[0m \u001b[1;34m'https://data8.berkeley.edu/user/andrej/edit/history-connector/07423-0001-Data.csv'\u001b[0m\u001b[1;33m\u001b[0m\u001b[0m\n\u001b[1;32m----> 2\u001b[1;33m \u001b[0mfull_table\u001b[0m \u001b[1;33m=\u001b[0m \u001b[0mTable\u001b[0m\u001b[1;33m.\u001b[0m\u001b[0mread_table\u001b[0m\u001b[1;33m(\u001b[0m\u001b[0mslavery_data\u001b[0m\u001b[1;33m)\u001b[0m\u001b[1;33m\u001b[0m\u001b[0m\n\u001b[0m\u001b[0;32m      3\u001b[0m \u001b[0mfull_table\u001b[0m\u001b[1;33m\u001b[0m\u001b[0m\n\u001b[0;32m      4\u001b[0m \u001b[0mdata\u001b[0m \u001b[1;33m=\u001b[0m \u001b[0mTable\u001b[0m\u001b[1;33m.\u001b[0m\u001b[0mread_table\u001b[0m\u001b[1;33m(\u001b[0m\u001b[1;34m'07423-0001-Data.csv'\u001b[0m\u001b[1;33m)\u001b[0m\u001b[1;33m\u001b[0m\u001b[0m\n",
      "\u001b[1;32m/opt/conda/lib/python3.4/site-packages/datascience/tables.py\u001b[0m in \u001b[0;36mread_table\u001b[1;34m(cls, filepath_or_buffer, *args, **vargs)\u001b[0m\n\u001b[0;32m    323\u001b[0m         \u001b[1;32mexcept\u001b[0m \u001b[0mAttributeError\u001b[0m\u001b[1;33m:\u001b[0m\u001b[1;33m\u001b[0m\u001b[0m\n\u001b[0;32m    324\u001b[0m             \u001b[1;32mpass\u001b[0m\u001b[1;33m\u001b[0m\u001b[0m\n\u001b[1;32m--> 325\u001b[1;33m         \u001b[0mdf\u001b[0m \u001b[1;33m=\u001b[0m \u001b[0mpandas\u001b[0m\u001b[1;33m.\u001b[0m\u001b[0mread_table\u001b[0m\u001b[1;33m(\u001b[0m\u001b[0mfilepath_or_buffer\u001b[0m\u001b[1;33m,\u001b[0m \u001b[1;33m*\u001b[0m\u001b[0margs\u001b[0m\u001b[1;33m,\u001b[0m \u001b[1;33m**\u001b[0m\u001b[0mvargs\u001b[0m\u001b[1;33m)\u001b[0m\u001b[1;33m\u001b[0m\u001b[0m\n\u001b[0m\u001b[0;32m    326\u001b[0m         \u001b[1;32mreturn\u001b[0m \u001b[0mTable\u001b[0m\u001b[1;33m.\u001b[0m\u001b[0mfrom_df\u001b[0m\u001b[1;33m(\u001b[0m\u001b[0mdf\u001b[0m\u001b[1;33m)\u001b[0m\u001b[1;33m\u001b[0m\u001b[0m\n\u001b[0;32m    327\u001b[0m \u001b[1;33m\u001b[0m\u001b[0m\n",
      "\u001b[1;32m/opt/conda/lib/python3.4/site-packages/pandas/io/parsers.py\u001b[0m in \u001b[0;36mparser_f\u001b[1;34m(filepath_or_buffer, sep, dialect, compression, doublequote, escapechar, quotechar, quoting, skipinitialspace, lineterminator, header, index_col, names, prefix, skiprows, skipfooter, skip_footer, na_values, true_values, false_values, delimiter, converters, dtype, usecols, engine, delim_whitespace, as_recarray, na_filter, compact_ints, use_unsigned, low_memory, buffer_lines, warn_bad_lines, error_bad_lines, keep_default_na, thousands, comment, decimal, parse_dates, keep_date_col, dayfirst, date_parser, memory_map, float_precision, nrows, iterator, chunksize, verbose, encoding, squeeze, mangle_dupe_cols, tupleize_cols, infer_datetime_format, skip_blank_lines)\u001b[0m\n\u001b[0;32m    496\u001b[0m                     skip_blank_lines=skip_blank_lines)\n\u001b[0;32m    497\u001b[0m \u001b[1;33m\u001b[0m\u001b[0m\n\u001b[1;32m--> 498\u001b[1;33m         \u001b[1;32mreturn\u001b[0m \u001b[0m_read\u001b[0m\u001b[1;33m(\u001b[0m\u001b[0mfilepath_or_buffer\u001b[0m\u001b[1;33m,\u001b[0m \u001b[0mkwds\u001b[0m\u001b[1;33m)\u001b[0m\u001b[1;33m\u001b[0m\u001b[0m\n\u001b[0m\u001b[0;32m    499\u001b[0m \u001b[1;33m\u001b[0m\u001b[0m\n\u001b[0;32m    500\u001b[0m     \u001b[0mparser_f\u001b[0m\u001b[1;33m.\u001b[0m\u001b[0m__name__\u001b[0m \u001b[1;33m=\u001b[0m \u001b[0mname\u001b[0m\u001b[1;33m\u001b[0m\u001b[0m\n",
      "\u001b[1;32m/opt/conda/lib/python3.4/site-packages/pandas/io/parsers.py\u001b[0m in \u001b[0;36m_read\u001b[1;34m(filepath_or_buffer, kwds)\u001b[0m\n\u001b[0;32m    283\u001b[0m         \u001b[1;32mreturn\u001b[0m \u001b[0mparser\u001b[0m\u001b[1;33m\u001b[0m\u001b[0m\n\u001b[0;32m    284\u001b[0m \u001b[1;33m\u001b[0m\u001b[0m\n\u001b[1;32m--> 285\u001b[1;33m     \u001b[1;32mreturn\u001b[0m \u001b[0mparser\u001b[0m\u001b[1;33m.\u001b[0m\u001b[0mread\u001b[0m\u001b[1;33m(\u001b[0m\u001b[1;33m)\u001b[0m\u001b[1;33m\u001b[0m\u001b[0m\n\u001b[0m\u001b[0;32m    286\u001b[0m \u001b[1;33m\u001b[0m\u001b[0m\n\u001b[0;32m    287\u001b[0m _parser_defaults = {\n",
      "\u001b[1;32m/opt/conda/lib/python3.4/site-packages/pandas/io/parsers.py\u001b[0m in \u001b[0;36mread\u001b[1;34m(self, nrows)\u001b[0m\n\u001b[0;32m    745\u001b[0m                 \u001b[1;32mraise\u001b[0m \u001b[0mValueError\u001b[0m\u001b[1;33m(\u001b[0m\u001b[1;34m'skip_footer not supported for iteration'\u001b[0m\u001b[1;33m)\u001b[0m\u001b[1;33m\u001b[0m\u001b[0m\n\u001b[0;32m    746\u001b[0m \u001b[1;33m\u001b[0m\u001b[0m\n\u001b[1;32m--> 747\u001b[1;33m         \u001b[0mret\u001b[0m \u001b[1;33m=\u001b[0m \u001b[0mself\u001b[0m\u001b[1;33m.\u001b[0m\u001b[0m_engine\u001b[0m\u001b[1;33m.\u001b[0m\u001b[0mread\u001b[0m\u001b[1;33m(\u001b[0m\u001b[0mnrows\u001b[0m\u001b[1;33m)\u001b[0m\u001b[1;33m\u001b[0m\u001b[0m\n\u001b[0m\u001b[0;32m    748\u001b[0m \u001b[1;33m\u001b[0m\u001b[0m\n\u001b[0;32m    749\u001b[0m         \u001b[1;32mif\u001b[0m \u001b[0mself\u001b[0m\u001b[1;33m.\u001b[0m\u001b[0moptions\u001b[0m\u001b[1;33m.\u001b[0m\u001b[0mget\u001b[0m\u001b[1;33m(\u001b[0m\u001b[1;34m'as_recarray'\u001b[0m\u001b[1;33m)\u001b[0m\u001b[1;33m:\u001b[0m\u001b[1;33m\u001b[0m\u001b[0m\n",
      "\u001b[1;32m/opt/conda/lib/python3.4/site-packages/pandas/io/parsers.py\u001b[0m in \u001b[0;36mread\u001b[1;34m(self, nrows)\u001b[0m\n\u001b[0;32m   1195\u001b[0m     \u001b[1;32mdef\u001b[0m \u001b[0mread\u001b[0m\u001b[1;33m(\u001b[0m\u001b[0mself\u001b[0m\u001b[1;33m,\u001b[0m \u001b[0mnrows\u001b[0m\u001b[1;33m=\u001b[0m\u001b[1;32mNone\u001b[0m\u001b[1;33m)\u001b[0m\u001b[1;33m:\u001b[0m\u001b[1;33m\u001b[0m\u001b[0m\n\u001b[0;32m   1196\u001b[0m         \u001b[1;32mtry\u001b[0m\u001b[1;33m:\u001b[0m\u001b[1;33m\u001b[0m\u001b[0m\n\u001b[1;32m-> 1197\u001b[1;33m             \u001b[0mdata\u001b[0m \u001b[1;33m=\u001b[0m \u001b[0mself\u001b[0m\u001b[1;33m.\u001b[0m\u001b[0m_reader\u001b[0m\u001b[1;33m.\u001b[0m\u001b[0mread\u001b[0m\u001b[1;33m(\u001b[0m\u001b[0mnrows\u001b[0m\u001b[1;33m)\u001b[0m\u001b[1;33m\u001b[0m\u001b[0m\n\u001b[0m\u001b[0;32m   1198\u001b[0m         \u001b[1;32mexcept\u001b[0m \u001b[0mStopIteration\u001b[0m\u001b[1;33m:\u001b[0m\u001b[1;33m\u001b[0m\u001b[0m\n\u001b[0;32m   1199\u001b[0m             \u001b[1;32mif\u001b[0m \u001b[0mself\u001b[0m\u001b[1;33m.\u001b[0m\u001b[0m_first_chunk\u001b[0m\u001b[1;33m:\u001b[0m\u001b[1;33m\u001b[0m\u001b[0m\n",
      "\u001b[1;32mpandas/parser.pyx\u001b[0m in \u001b[0;36mpandas.parser.TextReader.read (pandas/parser.c:7988)\u001b[1;34m()\u001b[0m\n",
      "\u001b[1;32mpandas/parser.pyx\u001b[0m in \u001b[0;36mpandas.parser.TextReader._read_low_memory (pandas/parser.c:8244)\u001b[1;34m()\u001b[0m\n",
      "\u001b[1;32mpandas/parser.pyx\u001b[0m in \u001b[0;36mpandas.parser.TextReader._read_rows (pandas/parser.c:8970)\u001b[1;34m()\u001b[0m\n",
      "\u001b[1;32mpandas/parser.pyx\u001b[0m in \u001b[0;36mpandas.parser.TextReader._tokenize_rows (pandas/parser.c:8838)\u001b[1;34m()\u001b[0m\n",
      "\u001b[1;32mpandas/parser.pyx\u001b[0m in \u001b[0;36mpandas.parser.raise_parser_error (pandas/parser.c:22649)\u001b[1;34m()\u001b[0m\n",
      "\u001b[1;31mCParserError\u001b[0m: Error tokenizing data. C error: Expected 1 fields in line 12, saw 2\n"
     ]
    }
   ],
   "source": [
    "slavery_data = 'https://data8.berkeley.edu/user/andrej/edit/history-connector/07423-0001-Data.csv'\n",
    "full_table = Table.read_table(slavery_data)\n",
    "full_table\n",
    "data = Table.read_table('07423-0001-Data.csv')"
   ]
  },
  {
   "cell_type": "code",
   "execution_count": 2,
   "metadata": {
    "collapsed": false
   },
   "outputs": [
    {
     "data": {
      "text/html": [
       "<table border=\"1\" class=\"dataframe\">\n",
       "    <thead>\n",
       "        <tr>\n",
       "            <th>V1</th> <th>V2</th> <th>V3</th> <th>V4</th> <th>V5</th> <th>V6</th> <th>V7</th> <th>V8</th> <th>V9</th> <th>V10</th> <th>V11</th> <th>V12</th> <th>V13</th> <th>V14</th> <th>V15</th> <th>V16</th> <th>V17</th> <th>V18</th> <th>V19</th> <th>V20</th> <th>V21</th> <th>V22</th> <th>V23</th> <th>V24</th> <th>V25</th> <th>V26</th> <th>V27</th> <th>V28</th> <th>V29</th> <th>V30</th> <th>V31</th> <th>V32</th> <th>V33</th> <th>V34</th> <th>V35</th> <th>V36</th> <th>V37</th> <th>V38</th> <th>V39</th> <th>V40</th> <th>V41</th> <th>V42</th> <th>V43</th> <th>V44</th> <th>V45</th> <th>V46</th> <th>V47</th>\n",
       "        </tr>\n",
       "    </thead>\n",
       "    <tbody>\n",
       "        <tr>\n",
       "            <td>NO2 </td> <td>NB  </td> <td>2   </td> <td>1804</td> <td> PG </td> <td>VI  </td> <td>1   </td> <td>999 </td> <td>GA  </td> <td>9   </td> <td>999 </td> <td>1   </td> <td>1   </td> <td>350  </td> <td>1   </td> <td>11  </td> <td>4   </td> <td>0   </td> <td>9   </td> <td>99  </td> <td>9   </td> <td>99  </td> <td>9   </td> <td>99  </td> <td>9   </td> <td>99  </td> <td>9   </td> <td>99  </td> <td>9   </td> <td>99  </td> <td>9   </td> <td>99  </td> <td>9   </td> <td>99  </td> <td>0   </td> <td>1   </td> <td>9999</td> <td>99  </td> <td>99  </td> <td>1   </td> <td>99  </td> <td>0   </td> <td>0   </td> <td>0   </td> <td>201 </td> <td>1   </td> <td>1   </td>\n",
       "        </tr>\n",
       "    </tbody>\n",
       "        <tr>\n",
       "            <td>NO2 </td> <td>NB  </td> <td>3   </td> <td>1804</td> <td> PG </td> <td>BI  </td> <td>1   </td> <td>999 </td> <td>CO  </td> <td>1   </td> <td>999 </td> <td>1   </td> <td>1   </td> <td>1000 </td> <td>1   </td> <td>24  </td> <td>4   </td> <td>0   </td> <td>9   </td> <td>99  </td> <td>9   </td> <td>99  </td> <td>9   </td> <td>99  </td> <td>9   </td> <td>99  </td> <td>9   </td> <td>99  </td> <td>9   </td> <td>99  </td> <td>9   </td> <td>99  </td> <td>9   </td> <td>99  </td> <td>0   </td> <td>2   </td> <td>9999</td> <td>2   </td> <td>99  </td> <td>1   </td> <td>99  </td> <td>0   </td> <td>0   </td> <td>0   </td> <td>503 </td> <td>1   </td> <td>2   </td>\n",
       "        </tr>\n",
       "    </tbody>\n",
       "        <tr>\n",
       "            <td>NO2 </td> <td>NB  </td> <td>3   </td> <td>1804</td> <td> P  </td> <td>LA  </td> <td>1   </td> <td>999 </td> <td>DC  </td> <td>9   </td> <td>999 </td> <td>1   </td> <td>1   </td> <td>450  </td> <td>2   </td> <td>25  </td> <td>1   </td> <td>0   </td> <td>9   </td> <td>99  </td> <td>9   </td> <td>99  </td> <td>9   </td> <td>99  </td> <td>9   </td> <td>99  </td> <td>9   </td> <td>99  </td> <td>9   </td> <td>99  </td> <td>9   </td> <td>99  </td> <td>9   </td> <td>99  </td> <td>0   </td> <td>2   </td> <td>210 </td> <td>10  </td> <td>99  </td> <td>2   </td> <td>42  </td> <td>0   </td> <td>0   </td> <td>0   </td> <td>503 </td> <td>1   </td> <td>3   </td>\n",
       "        </tr>\n",
       "    </tbody>\n",
       "        <tr>\n",
       "            <td>NO2 </td> <td>NB  </td> <td>4   </td> <td>1804</td> <td> PG </td> <td>LA  </td> <td>9   </td> <td>999 </td> <td>CH  </td> <td>9   </td> <td>999 </td> <td>2   </td> <td>1   </td> <td>800  </td> <td>1   </td> <td>99  </td> <td>1   </td> <td>0   </td> <td>9   </td> <td>99  </td> <td>9   </td> <td>99  </td> <td>9   </td> <td>99  </td> <td>9   </td> <td>99  </td> <td>9   </td> <td>99  </td> <td>9   </td> <td>99  </td> <td>9   </td> <td>99  </td> <td>9   </td> <td>99  </td> <td>0   </td> <td>1   </td> <td>9999</td> <td>99  </td> <td>99  </td> <td>2   </td> <td>99  </td> <td>0   </td> <td>0   </td> <td>0   </td> <td>503 </td> <td>2   </td> <td>4   </td>\n",
       "        </tr>\n",
       "    </tbody>\n",
       "        <tr>\n",
       "            <td>NO2 </td> <td>NB  </td> <td>4   </td> <td>1804</td> <td> PG </td> <td>LA  </td> <td>9   </td> <td>999 </td> <td>CH  </td> <td>9   </td> <td>999 </td> <td>2   </td> <td>1   </td> <td>99999</td> <td>1   </td> <td>99  </td> <td>1   </td> <td>0   </td> <td>9   </td> <td>99  </td> <td>9   </td> <td>99  </td> <td>9   </td> <td>99  </td> <td>9   </td> <td>99  </td> <td>9   </td> <td>99  </td> <td>9   </td> <td>99  </td> <td>9   </td> <td>99  </td> <td>9   </td> <td>99  </td> <td>0   </td> <td>1   </td> <td>9999</td> <td>99  </td> <td>99  </td> <td>2   </td> <td>99  </td> <td>0   </td> <td>0   </td> <td>0   </td> <td>503 </td> <td>2   </td> <td>5   </td>\n",
       "        </tr>\n",
       "    </tbody>\n",
       "        <tr>\n",
       "            <td>NO2 </td> <td>NB  </td> <td>10  </td> <td>1804</td> <td> PG </td> <td>PE  </td> <td>1   </td> <td>999 </td> <td>LE  </td> <td>9   </td> <td>999 </td> <td>1   </td> <td>1   </td> <td>400  </td> <td>2   </td> <td>20  </td> <td>1   </td> <td>0   </td> <td>9   </td> <td>99  </td> <td>9   </td> <td>99  </td> <td>9   </td> <td>99  </td> <td>9   </td> <td>99  </td> <td>9   </td> <td>99  </td> <td>9   </td> <td>99  </td> <td>9   </td> <td>99  </td> <td>9   </td> <td>99  </td> <td>0   </td> <td>1   </td> <td>9999</td> <td>99  </td> <td>99  </td> <td>1   </td> <td>99  </td> <td>0   </td> <td>0   </td> <td>0   </td> <td>503 </td> <td>1   </td> <td>6   </td>\n",
       "        </tr>\n",
       "    </tbody>\n",
       "        <tr>\n",
       "            <td>NO2 </td> <td>PP  </td> <td>1   </td> <td>1804</td> <td> PG </td> <td>GA  </td> <td>1   </td> <td>999 </td> <td>MO  </td> <td>9   </td> <td>999 </td> <td>1   </td> <td>1   </td> <td>750  </td> <td>1   </td> <td>22  </td> <td>1   </td> <td>0   </td> <td>9   </td> <td>99  </td> <td>9   </td> <td>99  </td> <td>9   </td> <td>99  </td> <td>9   </td> <td>99  </td> <td>9   </td> <td>99  </td> <td>9   </td> <td>99  </td> <td>9   </td> <td>99  </td> <td>9   </td> <td>99  </td> <td>0   </td> <td>2   </td> <td>9999</td> <td>99  </td> <td>99  </td> <td>1   </td> <td>99  </td> <td>2   </td> <td>0   </td> <td>0   </td> <td>267 </td> <td>1   </td> <td>7   </td>\n",
       "        </tr>\n",
       "    </tbody>\n",
       "        <tr>\n",
       "            <td>NO2 </td> <td>PP  </td> <td>1   </td> <td>1804</td> <td> PG </td> <td>PO  </td> <td>1   </td> <td>999 </td> <td>BO  </td> <td>1   </td> <td>999 </td> <td>1   </td> <td>1   </td> <td>500  </td> <td>2   </td> <td>21  </td> <td>1   </td> <td>0   </td> <td>9   </td> <td>99  </td> <td>9   </td> <td>99  </td> <td>9   </td> <td>99  </td> <td>9   </td> <td>99  </td> <td>9   </td> <td>99  </td> <td>9   </td> <td>99  </td> <td>9   </td> <td>99  </td> <td>9   </td> <td>99  </td> <td>0   </td> <td>1   </td> <td>9999</td> <td>99  </td> <td>99  </td> <td>2   </td> <td>30  </td> <td>0   </td> <td>0   </td> <td>0   </td> <td>267 </td> <td>1   </td> <td>8   </td>\n",
       "        </tr>\n",
       "    </tbody>\n",
       "        <tr>\n",
       "            <td>NO2 </td> <td>PP  </td> <td>2   </td> <td>1804</td> <td> PG </td> <td>ME  </td> <td>1   </td> <td>999 </td> <td>SE  </td> <td>2   </td> <td>ORL </td> <td>2   </td> <td>1   </td> <td>900  </td> <td>1   </td> <td>18  </td> <td>1   </td> <td>0   </td> <td>9   </td> <td>99  </td> <td>9   </td> <td>99  </td> <td>9   </td> <td>99  </td> <td>9   </td> <td>99  </td> <td>9   </td> <td>99  </td> <td>9   </td> <td>99  </td> <td>9   </td> <td>99  </td> <td>9   </td> <td>99  </td> <td>0   </td> <td>1   </td> <td>9999</td> <td>99  </td> <td>99  </td> <td>2   </td> <td>99  </td> <td>0   </td> <td>7   </td> <td>8   </td> <td>117 </td> <td>2   </td> <td>9   </td>\n",
       "        </tr>\n",
       "    </tbody>\n",
       "        <tr>\n",
       "            <td>NO2 </td> <td>PP  </td> <td>2   </td> <td>1804</td> <td> PG </td> <td>ME  </td> <td>1   </td> <td>999 </td> <td>SE  </td> <td>2   </td> <td>ORL </td> <td>2   </td> <td>1   </td> <td>99999</td> <td>2   </td> <td>18  </td> <td>1   </td> <td>0   </td> <td>9   </td> <td>99  </td> <td>9   </td> <td>99  </td> <td>9   </td> <td>99  </td> <td>9   </td> <td>99  </td> <td>9   </td> <td>99  </td> <td>9   </td> <td>99  </td> <td>9   </td> <td>99  </td> <td>9   </td> <td>99  </td> <td>0   </td> <td>1   </td> <td>9999</td> <td>99  </td> <td>99  </td> <td>2   </td> <td>99  </td> <td>0   </td> <td>7   </td> <td>8   </td> <td>117 </td> <td>2   </td> <td>10  </td>\n",
       "        </tr>\n",
       "    </tbody>\n",
       "</table>\n",
       "<p>... (4999 rows omitted)</p"
      ],
      "text/plain": [
       "V1   | V2   | V3   | V4   | V5   | V6   | V7   | V8   | V9   | V10  | V11  | V12  | V13  | V14   | V15  | V16  | V17  | V18  | V19  | V20  | V21  | V22  | V23  | V24  | V25  | V26  | V27  | V28  | V29  | V30  | V31  | V32  | V33  | V34  | V35  | V36  | V37  | V38  | V39  | V40  | V41  | V42  | V43  | V44  | V45  | V46  | V47\n",
       "NO2  | NB   | 2    | 1804 |  PG  | VI   | 1    | 999  | GA   | 9    | 999  | 1    | 1    | 350   | 1    | 11   | 4    | 0    | 9    | 99   | 9    | 99   | 9    | 99   | 9    | 99   | 9    | 99   | 9    | 99   | 9    | 99   | 9    | 99   | 0    | 1    | 9999 | 99   | 99   | 1    | 99   | 0    | 0    | 0    | 201  | 1    | 1\n",
       "NO2  | NB   | 3    | 1804 |  PG  | BI   | 1    | 999  | CO   | 1    | 999  | 1    | 1    | 1000  | 1    | 24   | 4    | 0    | 9    | 99   | 9    | 99   | 9    | 99   | 9    | 99   | 9    | 99   | 9    | 99   | 9    | 99   | 9    | 99   | 0    | 2    | 9999 | 2    | 99   | 1    | 99   | 0    | 0    | 0    | 503  | 1    | 2\n",
       "NO2  | NB   | 3    | 1804 |  P   | LA   | 1    | 999  | DC   | 9    | 999  | 1    | 1    | 450   | 2    | 25   | 1    | 0    | 9    | 99   | 9    | 99   | 9    | 99   | 9    | 99   | 9    | 99   | 9    | 99   | 9    | 99   | 9    | 99   | 0    | 2    | 210  | 10   | 99   | 2    | 42   | 0    | 0    | 0    | 503  | 1    | 3\n",
       "NO2  | NB   | 4    | 1804 |  PG  | LA   | 9    | 999  | CH   | 9    | 999  | 2    | 1    | 800   | 1    | 99   | 1    | 0    | 9    | 99   | 9    | 99   | 9    | 99   | 9    | 99   | 9    | 99   | 9    | 99   | 9    | 99   | 9    | 99   | 0    | 1    | 9999 | 99   | 99   | 2    | 99   | 0    | 0    | 0    | 503  | 2    | 4\n",
       "NO2  | NB   | 4    | 1804 |  PG  | LA   | 9    | 999  | CH   | 9    | 999  | 2    | 1    | 99999 | 1    | 99   | 1    | 0    | 9    | 99   | 9    | 99   | 9    | 99   | 9    | 99   | 9    | 99   | 9    | 99   | 9    | 99   | 9    | 99   | 0    | 1    | 9999 | 99   | 99   | 2    | 99   | 0    | 0    | 0    | 503  | 2    | 5\n",
       "NO2  | NB   | 10   | 1804 |  PG  | PE   | 1    | 999  | LE   | 9    | 999  | 1    | 1    | 400   | 2    | 20   | 1    | 0    | 9    | 99   | 9    | 99   | 9    | 99   | 9    | 99   | 9    | 99   | 9    | 99   | 9    | 99   | 9    | 99   | 0    | 1    | 9999 | 99   | 99   | 1    | 99   | 0    | 0    | 0    | 503  | 1    | 6\n",
       "NO2  | PP   | 1    | 1804 |  PG  | GA   | 1    | 999  | MO   | 9    | 999  | 1    | 1    | 750   | 1    | 22   | 1    | 0    | 9    | 99   | 9    | 99   | 9    | 99   | 9    | 99   | 9    | 99   | 9    | 99   | 9    | 99   | 9    | 99   | 0    | 2    | 9999 | 99   | 99   | 1    | 99   | 2    | 0    | 0    | 267  | 1    | 7\n",
       "NO2  | PP   | 1    | 1804 |  PG  | PO   | 1    | 999  | BO   | 1    | 999  | 1    | 1    | 500   | 2    | 21   | 1    | 0    | 9    | 99   | 9    | 99   | 9    | 99   | 9    | 99   | 9    | 99   | 9    | 99   | 9    | 99   | 9    | 99   | 0    | 1    | 9999 | 99   | 99   | 2    | 30   | 0    | 0    | 0    | 267  | 1    | 8\n",
       "NO2  | PP   | 2    | 1804 |  PG  | ME   | 1    | 999  | SE   | 2    | ORL  | 2    | 1    | 900   | 1    | 18   | 1    | 0    | 9    | 99   | 9    | 99   | 9    | 99   | 9    | 99   | 9    | 99   | 9    | 99   | 9    | 99   | 9    | 99   | 0    | 1    | 9999 | 99   | 99   | 2    | 99   | 0    | 7    | 8    | 117  | 2    | 9\n",
       "NO2  | PP   | 2    | 1804 |  PG  | ME   | 1    | 999  | SE   | 2    | ORL  | 2    | 1    | 99999 | 2    | 18   | 1    | 0    | 9    | 99   | 9    | 99   | 9    | 99   | 9    | 99   | 9    | 99   | 9    | 99   | 9    | 99   | 9    | 99   | 0    | 1    | 9999 | 99   | 99   | 2    | 99   | 0    | 7    | 8    | 117  | 2    | 10\n",
       "... (4999 rows omitted)"
      ]
     },
     "execution_count": 2,
     "metadata": {},
     "output_type": "execute_result"
    }
   ],
   "source": [
    "slavery_data = 'https://data8.berkeley.edu/user/andrej/edit/history-connector/07423-0001-Data.csv'\n",
    "data = Table.read_table('07423-0001-Data.csv')\n",
    "data"
   ]
  },
  {
   "cell_type": "code",
   "execution_count": 3,
   "metadata": {
    "collapsed": false
   },
   "outputs": [
    {
     "ename": "TypeError",
     "evalue": "'Table' object is not callable",
     "output_type": "error",
     "traceback": [
      "\u001b[1;31m---------------------------------------------------------------------------\u001b[0m",
      "\u001b[1;31mTypeError\u001b[0m                                 Traceback (most recent call last)",
      "\u001b[1;32m<ipython-input-3-c9022e7d1b30>\u001b[0m in \u001b[0;36m<module>\u001b[1;34m()\u001b[0m\n\u001b[1;32m----> 1\u001b[1;33m \u001b[0mdata\u001b[0m \u001b[1;33m(\u001b[0m\u001b[1;34m\"V15\"\u001b[0m\u001b[1;33m)\u001b[0m\u001b[1;33m\u001b[0m\u001b[0m\n\u001b[0m",
      "\u001b[1;31mTypeError\u001b[0m: 'Table' object is not callable"
     ]
    }
   ],
   "source": [
    "data (\"V15\")"
   ]
  },
  {
   "cell_type": "code",
   "execution_count": 4,
   "metadata": {
    "collapsed": false
   },
   "outputs": [
    {
     "data": {
      "text/plain": [
       "array([1, 1, 2, ..., 1, 2, 2])"
      ]
     },
     "execution_count": 4,
     "metadata": {},
     "output_type": "execute_result"
    }
   ],
   "source": [
    "data [\"V15\"]"
   ]
  },
  {
   "cell_type": "code",
   "execution_count": 5,
   "metadata": {
    "collapsed": false
   },
   "outputs": [
    {
     "ename": "TypeError",
     "evalue": "barh() missing 1 required positional argument: 'width'",
     "output_type": "error",
     "traceback": [
      "\u001b[1;31m---------------------------------------------------------------------------\u001b[0m",
      "\u001b[1;31mTypeError\u001b[0m                                 Traceback (most recent call last)",
      "\u001b[1;32m<ipython-input-5-43c6390b77dc>\u001b[0m in \u001b[0;36m<module>\u001b[1;34m()\u001b[0m\n\u001b[1;32m----> 1\u001b[1;33m \u001b[0mplots\u001b[0m\u001b[1;33m.\u001b[0m\u001b[0mbarh\u001b[0m\u001b[1;33m(\u001b[0m\u001b[1;34m'V15'\u001b[0m\u001b[1;33m)\u001b[0m\u001b[1;33m\u001b[0m\u001b[0m\n\u001b[0m",
      "\u001b[1;31mTypeError\u001b[0m: barh() missing 1 required positional argument: 'width'"
     ]
    }
   ],
   "source": [
    "plots.barh('V15')"
   ]
  },
  {
   "cell_type": "code",
   "execution_count": 6,
   "metadata": {
    "collapsed": false
   },
   "outputs": [
    {
     "ename": "TypeError",
     "evalue": "unorderable types: str() < int()",
     "output_type": "error",
     "traceback": [
      "\u001b[1;31m---------------------------------------------------------------------------\u001b[0m",
      "\u001b[1;31mTypeError\u001b[0m                                 Traceback (most recent call last)",
      "\u001b[1;32m<ipython-input-6-bb921c540bda>\u001b[0m in \u001b[0;36m<module>\u001b[1;34m()\u001b[0m\n\u001b[1;32m----> 1\u001b[1;33m \u001b[0mdata\u001b[0m\u001b[1;33m.\u001b[0m\u001b[0mbarh\u001b[0m\u001b[1;33m(\u001b[0m\u001b[1;34m'V15'\u001b[0m\u001b[1;33m)\u001b[0m\u001b[1;33m\u001b[0m\u001b[0m\n\u001b[0m",
      "\u001b[1;32m/opt/conda/lib/python3.4/site-packages/datascience/tables.py\u001b[0m in \u001b[0;36mbarh\u001b[1;34m(self, column_for_categories, overlay, **vargs)\u001b[0m\n\u001b[0;32m   1587\u001b[0m         \u001b[1;32mif\u001b[0m \u001b[1;34m'height'\u001b[0m \u001b[1;32min\u001b[0m \u001b[0mvargs\u001b[0m\u001b[1;33m:\u001b[0m\u001b[1;33m\u001b[0m\u001b[0m\n\u001b[0;32m   1588\u001b[0m             \u001b[0mheight\u001b[0m \u001b[1;33m=\u001b[0m \u001b[0mvargs\u001b[0m\u001b[1;33m.\u001b[0m\u001b[0mpop\u001b[0m\u001b[1;33m(\u001b[0m\u001b[1;34m'height'\u001b[0m\u001b[1;33m)\u001b[0m\u001b[1;33m\u001b[0m\u001b[0m\n\u001b[1;32m-> 1589\u001b[1;33m         \u001b[0mself\u001b[0m\u001b[1;33m.\u001b[0m\u001b[0m_visualize\u001b[0m\u001b[1;33m(\u001b[0m\u001b[0mcolumn_for_categories\u001b[0m\u001b[1;33m,\u001b[0m \u001b[0my_labels\u001b[0m\u001b[1;33m,\u001b[0m \u001b[0myticks\u001b[0m\u001b[1;33m,\u001b[0m \u001b[0moverlay\u001b[0m\u001b[1;33m,\u001b[0m \u001b[0mdraw\u001b[0m\u001b[1;33m,\u001b[0m \u001b[0mannotate\u001b[0m\u001b[1;33m,\u001b[0m \u001b[0mheight\u001b[0m\u001b[1;33m=\u001b[0m\u001b[0mheight\u001b[0m\u001b[1;33m)\u001b[0m\u001b[1;33m\u001b[0m\u001b[0m\n\u001b[0m\u001b[0;32m   1590\u001b[0m \u001b[1;33m\u001b[0m\u001b[0m\n\u001b[0;32m   1591\u001b[0m     \u001b[1;32mdef\u001b[0m \u001b[0m_split_by_column\u001b[0m\u001b[1;33m(\u001b[0m\u001b[0mself\u001b[0m\u001b[1;33m,\u001b[0m \u001b[0mcolumn_or_label\u001b[0m\u001b[1;33m)\u001b[0m\u001b[1;33m:\u001b[0m\u001b[1;33m\u001b[0m\u001b[0m\n",
      "\u001b[1;32m/opt/conda/lib/python3.4/site-packages/datascience/tables.py\u001b[0m in \u001b[0;36m_visualize\u001b[1;34m(self, x_label, y_labels, ticks, overlay, draw, annotate, width, height)\u001b[0m\n\u001b[0;32m   1396\u001b[0m                 \u001b[0maxes\u001b[0m\u001b[1;33m=\u001b[0m\u001b[1;33m[\u001b[0m\u001b[0maxes\u001b[0m\u001b[1;33m]\u001b[0m\u001b[1;33m\u001b[0m\u001b[0m\n\u001b[0;32m   1397\u001b[0m             \u001b[1;32mfor\u001b[0m \u001b[0maxis\u001b[0m\u001b[1;33m,\u001b[0m \u001b[0my_label\u001b[0m\u001b[1;33m,\u001b[0m \u001b[0mcolor\u001b[0m \u001b[1;32min\u001b[0m \u001b[0mzip\u001b[0m\u001b[1;33m(\u001b[0m\u001b[0maxes\u001b[0m\u001b[1;33m,\u001b[0m \u001b[0my_labels\u001b[0m\u001b[1;33m,\u001b[0m \u001b[0mcolors\u001b[0m\u001b[1;33m)\u001b[0m\u001b[1;33m:\u001b[0m\u001b[1;33m\u001b[0m\u001b[0m\n\u001b[1;32m-> 1398\u001b[1;33m                 \u001b[0mdraw\u001b[0m\u001b[1;33m(\u001b[0m\u001b[0maxis\u001b[0m\u001b[1;33m,\u001b[0m \u001b[0my_label\u001b[0m\u001b[1;33m,\u001b[0m \u001b[0mcolor\u001b[0m\u001b[1;33m)\u001b[0m\u001b[1;33m\u001b[0m\u001b[0m\n\u001b[0m\u001b[0;32m   1399\u001b[0m                 \u001b[0maxis\u001b[0m\u001b[1;33m.\u001b[0m\u001b[0mset_ylabel\u001b[0m\u001b[1;33m(\u001b[0m\u001b[0my_label\u001b[0m\u001b[1;33m,\u001b[0m \u001b[0mfontsize\u001b[0m\u001b[1;33m=\u001b[0m\u001b[1;36m16\u001b[0m\u001b[1;33m)\u001b[0m\u001b[1;33m\u001b[0m\u001b[0m\n\u001b[0;32m   1400\u001b[0m                 \u001b[0maxis\u001b[0m\u001b[1;33m.\u001b[0m\u001b[0mset_xlabel\u001b[0m\u001b[1;33m(\u001b[0m\u001b[0mx_label\u001b[0m\u001b[1;33m,\u001b[0m \u001b[0mfontsize\u001b[0m\u001b[1;33m=\u001b[0m\u001b[1;36m16\u001b[0m\u001b[1;33m)\u001b[0m\u001b[1;33m\u001b[0m\u001b[0m\n",
      "\u001b[1;32m/opt/conda/lib/python3.4/site-packages/datascience/tables.py\u001b[0m in \u001b[0;36mdraw\u001b[1;34m(axis, label, color)\u001b[0m\n\u001b[0;32m   1578\u001b[0m                 \u001b[0mypos\u001b[0m \u001b[1;33m=\u001b[0m \u001b[0mindex\u001b[0m\u001b[1;33m\u001b[0m\u001b[0m\n\u001b[0;32m   1579\u001b[0m             \u001b[1;31m# barh plots entries in reverse order from bottom to top\u001b[0m\u001b[1;33m\u001b[0m\u001b[1;33m\u001b[0m\u001b[0m\n\u001b[1;32m-> 1580\u001b[1;33m             \u001b[0maxis\u001b[0m\u001b[1;33m.\u001b[0m\u001b[0mbarh\u001b[0m\u001b[1;33m(\u001b[0m\u001b[0mypos\u001b[0m\u001b[1;33m,\u001b[0m \u001b[0mself\u001b[0m\u001b[1;33m[\u001b[0m\u001b[0mlabel\u001b[0m\u001b[1;33m]\u001b[0m\u001b[1;33m[\u001b[0m\u001b[1;33m:\u001b[0m\u001b[1;33m:\u001b[0m\u001b[1;33m-\u001b[0m\u001b[1;36m1\u001b[0m\u001b[1;33m]\u001b[0m\u001b[1;33m,\u001b[0m \u001b[0mwidth\u001b[0m\u001b[1;33m,\u001b[0m  \u001b[0mcolor\u001b[0m\u001b[1;33m=\u001b[0m\u001b[0mcolor\u001b[0m\u001b[1;33m,\u001b[0m \u001b[1;33m**\u001b[0m\u001b[0moptions\u001b[0m\u001b[1;33m)\u001b[0m\u001b[1;33m\u001b[0m\u001b[0m\n\u001b[0m\u001b[0;32m   1581\u001b[0m \u001b[1;33m\u001b[0m\u001b[0m\n\u001b[0;32m   1582\u001b[0m         \u001b[1;32mdef\u001b[0m \u001b[0mannotate\u001b[0m\u001b[1;33m(\u001b[0m\u001b[0maxis\u001b[0m\u001b[1;33m,\u001b[0m \u001b[0mticks\u001b[0m\u001b[1;33m)\u001b[0m\u001b[1;33m:\u001b[0m\u001b[1;33m\u001b[0m\u001b[0m\n",
      "\u001b[1;32m/opt/conda/lib/python3.4/site-packages/matplotlib/axes/_axes.py\u001b[0m in \u001b[0;36mbarh\u001b[1;34m(self, bottom, width, height, left, **kwargs)\u001b[0m\n\u001b[0;32m   2183\u001b[0m \u001b[1;33m\u001b[0m\u001b[0m\n\u001b[0;32m   2184\u001b[0m         patches = self.bar(left=left, height=height, width=width,\n\u001b[1;32m-> 2185\u001b[1;33m                            bottom=bottom, orientation='horizontal', **kwargs)\n\u001b[0m\u001b[0;32m   2186\u001b[0m         \u001b[1;32mreturn\u001b[0m \u001b[0mpatches\u001b[0m\u001b[1;33m\u001b[0m\u001b[0m\n\u001b[0;32m   2187\u001b[0m \u001b[1;33m\u001b[0m\u001b[0m\n",
      "\u001b[1;32m/opt/conda/lib/python3.4/site-packages/matplotlib/axes/_axes.py\u001b[0m in \u001b[0;36mbar\u001b[1;34m(self, left, height, width, bottom, **kwargs)\u001b[0m\n\u001b[0;32m   2030\u001b[0m                 \u001b[0mb\u001b[0m \u001b[1;33m+=\u001b[0m \u001b[0mh\u001b[0m\u001b[1;33m\u001b[0m\u001b[0m\n\u001b[0;32m   2031\u001b[0m                 \u001b[0mh\u001b[0m \u001b[1;33m=\u001b[0m \u001b[0mabs\u001b[0m\u001b[1;33m(\u001b[0m\u001b[0mh\u001b[0m\u001b[1;33m)\u001b[0m\u001b[1;33m\u001b[0m\u001b[0m\n\u001b[1;32m-> 2032\u001b[1;33m             \u001b[1;32mif\u001b[0m \u001b[0mw\u001b[0m \u001b[1;33m<\u001b[0m \u001b[1;36m0\u001b[0m\u001b[1;33m:\u001b[0m\u001b[1;33m\u001b[0m\u001b[0m\n\u001b[0m\u001b[0;32m   2033\u001b[0m                 \u001b[0ml\u001b[0m \u001b[1;33m+=\u001b[0m \u001b[0mw\u001b[0m\u001b[1;33m\u001b[0m\u001b[0m\n\u001b[0;32m   2034\u001b[0m                 \u001b[0mw\u001b[0m \u001b[1;33m=\u001b[0m \u001b[0mabs\u001b[0m\u001b[1;33m(\u001b[0m\u001b[0mw\u001b[0m\u001b[1;33m)\u001b[0m\u001b[1;33m\u001b[0m\u001b[0m\n",
      "\u001b[1;31mTypeError\u001b[0m: unorderable types: str() < int()"
     ]
    },
    {
     "ename": "ValueError",
     "evalue": "width and height must each be below 32768",
     "output_type": "error",
     "traceback": [
      "\u001b[1;31m---------------------------------------------------------------------------\u001b[0m",
      "\u001b[1;31mValueError\u001b[0m                                Traceback (most recent call last)",
      "\u001b[1;32m/opt/conda/lib/python3.4/site-packages/IPython/core/formatters.py\u001b[0m in \u001b[0;36m__call__\u001b[1;34m(self, obj)\u001b[0m\n\u001b[0;32m    335\u001b[0m                 \u001b[1;32mpass\u001b[0m\u001b[1;33m\u001b[0m\u001b[0m\n\u001b[0;32m    336\u001b[0m             \u001b[1;32melse\u001b[0m\u001b[1;33m:\u001b[0m\u001b[1;33m\u001b[0m\u001b[0m\n\u001b[1;32m--> 337\u001b[1;33m                 \u001b[1;32mreturn\u001b[0m \u001b[0mprinter\u001b[0m\u001b[1;33m(\u001b[0m\u001b[0mobj\u001b[0m\u001b[1;33m)\u001b[0m\u001b[1;33m\u001b[0m\u001b[0m\n\u001b[0m\u001b[0;32m    338\u001b[0m             \u001b[1;31m# Finally look for special method names\u001b[0m\u001b[1;33m\u001b[0m\u001b[1;33m\u001b[0m\u001b[0m\n\u001b[0;32m    339\u001b[0m             \u001b[0mmethod\u001b[0m \u001b[1;33m=\u001b[0m \u001b[0m_safe_get_formatter_method\u001b[0m\u001b[1;33m(\u001b[0m\u001b[0mobj\u001b[0m\u001b[1;33m,\u001b[0m \u001b[0mself\u001b[0m\u001b[1;33m.\u001b[0m\u001b[0mprint_method\u001b[0m\u001b[1;33m)\u001b[0m\u001b[1;33m\u001b[0m\u001b[0m\n",
      "\u001b[1;32m/opt/conda/lib/python3.4/site-packages/IPython/core/pylabtools.py\u001b[0m in \u001b[0;36m<lambda>\u001b[1;34m(fig)\u001b[0m\n\u001b[0;32m    205\u001b[0m \u001b[1;33m\u001b[0m\u001b[0m\n\u001b[0;32m    206\u001b[0m     \u001b[1;32mif\u001b[0m \u001b[1;34m'png'\u001b[0m \u001b[1;32min\u001b[0m \u001b[0mformats\u001b[0m\u001b[1;33m:\u001b[0m\u001b[1;33m\u001b[0m\u001b[0m\n\u001b[1;32m--> 207\u001b[1;33m         \u001b[0mpng_formatter\u001b[0m\u001b[1;33m.\u001b[0m\u001b[0mfor_type\u001b[0m\u001b[1;33m(\u001b[0m\u001b[0mFigure\u001b[0m\u001b[1;33m,\u001b[0m \u001b[1;32mlambda\u001b[0m \u001b[0mfig\u001b[0m\u001b[1;33m:\u001b[0m \u001b[0mprint_figure\u001b[0m\u001b[1;33m(\u001b[0m\u001b[0mfig\u001b[0m\u001b[1;33m,\u001b[0m \u001b[1;34m'png'\u001b[0m\u001b[1;33m,\u001b[0m \u001b[1;33m**\u001b[0m\u001b[0mkwargs\u001b[0m\u001b[1;33m)\u001b[0m\u001b[1;33m)\u001b[0m\u001b[1;33m\u001b[0m\u001b[0m\n\u001b[0m\u001b[0;32m    208\u001b[0m     \u001b[1;32mif\u001b[0m \u001b[1;34m'retina'\u001b[0m \u001b[1;32min\u001b[0m \u001b[0mformats\u001b[0m \u001b[1;32mor\u001b[0m \u001b[1;34m'png2x'\u001b[0m \u001b[1;32min\u001b[0m \u001b[0mformats\u001b[0m\u001b[1;33m:\u001b[0m\u001b[1;33m\u001b[0m\u001b[0m\n\u001b[0;32m    209\u001b[0m         \u001b[0mpng_formatter\u001b[0m\u001b[1;33m.\u001b[0m\u001b[0mfor_type\u001b[0m\u001b[1;33m(\u001b[0m\u001b[0mFigure\u001b[0m\u001b[1;33m,\u001b[0m \u001b[1;32mlambda\u001b[0m \u001b[0mfig\u001b[0m\u001b[1;33m:\u001b[0m \u001b[0mretina_figure\u001b[0m\u001b[1;33m(\u001b[0m\u001b[0mfig\u001b[0m\u001b[1;33m,\u001b[0m \u001b[1;33m**\u001b[0m\u001b[0mkwargs\u001b[0m\u001b[1;33m)\u001b[0m\u001b[1;33m)\u001b[0m\u001b[1;33m\u001b[0m\u001b[0m\n",
      "\u001b[1;32m/opt/conda/lib/python3.4/site-packages/IPython/core/pylabtools.py\u001b[0m in \u001b[0;36mprint_figure\u001b[1;34m(fig, fmt, bbox_inches, **kwargs)\u001b[0m\n\u001b[0;32m    115\u001b[0m \u001b[1;33m\u001b[0m\u001b[0m\n\u001b[0;32m    116\u001b[0m     \u001b[0mbytes_io\u001b[0m \u001b[1;33m=\u001b[0m \u001b[0mBytesIO\u001b[0m\u001b[1;33m(\u001b[0m\u001b[1;33m)\u001b[0m\u001b[1;33m\u001b[0m\u001b[0m\n\u001b[1;32m--> 117\u001b[1;33m     \u001b[0mfig\u001b[0m\u001b[1;33m.\u001b[0m\u001b[0mcanvas\u001b[0m\u001b[1;33m.\u001b[0m\u001b[0mprint_figure\u001b[0m\u001b[1;33m(\u001b[0m\u001b[0mbytes_io\u001b[0m\u001b[1;33m,\u001b[0m \u001b[1;33m**\u001b[0m\u001b[0mkw\u001b[0m\u001b[1;33m)\u001b[0m\u001b[1;33m\u001b[0m\u001b[0m\n\u001b[0m\u001b[0;32m    118\u001b[0m     \u001b[0mdata\u001b[0m \u001b[1;33m=\u001b[0m \u001b[0mbytes_io\u001b[0m\u001b[1;33m.\u001b[0m\u001b[0mgetvalue\u001b[0m\u001b[1;33m(\u001b[0m\u001b[1;33m)\u001b[0m\u001b[1;33m\u001b[0m\u001b[0m\n\u001b[0;32m    119\u001b[0m     \u001b[1;32mif\u001b[0m \u001b[0mfmt\u001b[0m \u001b[1;33m==\u001b[0m \u001b[1;34m'svg'\u001b[0m\u001b[1;33m:\u001b[0m\u001b[1;33m\u001b[0m\u001b[0m\n",
      "\u001b[1;32m/opt/conda/lib/python3.4/site-packages/matplotlib/backend_bases.py\u001b[0m in \u001b[0;36mprint_figure\u001b[1;34m(self, filename, dpi, facecolor, edgecolor, orientation, format, **kwargs)\u001b[0m\n\u001b[0;32m   2156\u001b[0m                     \u001b[0morientation\u001b[0m\u001b[1;33m=\u001b[0m\u001b[0morientation\u001b[0m\u001b[1;33m,\u001b[0m\u001b[1;33m\u001b[0m\u001b[0m\n\u001b[0;32m   2157\u001b[0m                     \u001b[0mdryrun\u001b[0m\u001b[1;33m=\u001b[0m\u001b[1;32mTrue\u001b[0m\u001b[1;33m,\u001b[0m\u001b[1;33m\u001b[0m\u001b[0m\n\u001b[1;32m-> 2158\u001b[1;33m                     **kwargs)\n\u001b[0m\u001b[0;32m   2159\u001b[0m                 \u001b[0mrenderer\u001b[0m \u001b[1;33m=\u001b[0m \u001b[0mself\u001b[0m\u001b[1;33m.\u001b[0m\u001b[0mfigure\u001b[0m\u001b[1;33m.\u001b[0m\u001b[0m_cachedRenderer\u001b[0m\u001b[1;33m\u001b[0m\u001b[0m\n\u001b[0;32m   2160\u001b[0m                 \u001b[0mbbox_inches\u001b[0m \u001b[1;33m=\u001b[0m \u001b[0mself\u001b[0m\u001b[1;33m.\u001b[0m\u001b[0mfigure\u001b[0m\u001b[1;33m.\u001b[0m\u001b[0mget_tightbbox\u001b[0m\u001b[1;33m(\u001b[0m\u001b[0mrenderer\u001b[0m\u001b[1;33m)\u001b[0m\u001b[1;33m\u001b[0m\u001b[0m\n",
      "\u001b[1;32m/opt/conda/lib/python3.4/site-packages/matplotlib/backends/backend_agg.py\u001b[0m in \u001b[0;36mprint_png\u001b[1;34m(self, filename_or_obj, *args, **kwargs)\u001b[0m\n\u001b[0;32m    519\u001b[0m \u001b[1;33m\u001b[0m\u001b[0m\n\u001b[0;32m    520\u001b[0m     \u001b[1;32mdef\u001b[0m \u001b[0mprint_png\u001b[0m\u001b[1;33m(\u001b[0m\u001b[0mself\u001b[0m\u001b[1;33m,\u001b[0m \u001b[0mfilename_or_obj\u001b[0m\u001b[1;33m,\u001b[0m \u001b[1;33m*\u001b[0m\u001b[0margs\u001b[0m\u001b[1;33m,\u001b[0m \u001b[1;33m**\u001b[0m\u001b[0mkwargs\u001b[0m\u001b[1;33m)\u001b[0m\u001b[1;33m:\u001b[0m\u001b[1;33m\u001b[0m\u001b[0m\n\u001b[1;32m--> 521\u001b[1;33m         \u001b[0mFigureCanvasAgg\u001b[0m\u001b[1;33m.\u001b[0m\u001b[0mdraw\u001b[0m\u001b[1;33m(\u001b[0m\u001b[0mself\u001b[0m\u001b[1;33m)\u001b[0m\u001b[1;33m\u001b[0m\u001b[0m\n\u001b[0m\u001b[0;32m    522\u001b[0m         \u001b[0mrenderer\u001b[0m \u001b[1;33m=\u001b[0m \u001b[0mself\u001b[0m\u001b[1;33m.\u001b[0m\u001b[0mget_renderer\u001b[0m\u001b[1;33m(\u001b[0m\u001b[1;33m)\u001b[0m\u001b[1;33m\u001b[0m\u001b[0m\n\u001b[0;32m    523\u001b[0m         \u001b[0moriginal_dpi\u001b[0m \u001b[1;33m=\u001b[0m \u001b[0mrenderer\u001b[0m\u001b[1;33m.\u001b[0m\u001b[0mdpi\u001b[0m\u001b[1;33m\u001b[0m\u001b[0m\n",
      "\u001b[1;32m/opt/conda/lib/python3.4/site-packages/matplotlib/backends/backend_agg.py\u001b[0m in \u001b[0;36mdraw\u001b[1;34m(self)\u001b[0m\n\u001b[0;32m    462\u001b[0m         \u001b[1;32mif\u001b[0m \u001b[0m__debug__\u001b[0m\u001b[1;33m:\u001b[0m \u001b[0mverbose\u001b[0m\u001b[1;33m.\u001b[0m\u001b[0mreport\u001b[0m\u001b[1;33m(\u001b[0m\u001b[1;34m'FigureCanvasAgg.draw'\u001b[0m\u001b[1;33m,\u001b[0m \u001b[1;34m'debug-annoying'\u001b[0m\u001b[1;33m)\u001b[0m\u001b[1;33m\u001b[0m\u001b[0m\n\u001b[0;32m    463\u001b[0m \u001b[1;33m\u001b[0m\u001b[0m\n\u001b[1;32m--> 464\u001b[1;33m         \u001b[0mself\u001b[0m\u001b[1;33m.\u001b[0m\u001b[0mrenderer\u001b[0m \u001b[1;33m=\u001b[0m \u001b[0mself\u001b[0m\u001b[1;33m.\u001b[0m\u001b[0mget_renderer\u001b[0m\u001b[1;33m(\u001b[0m\u001b[0mcleared\u001b[0m\u001b[1;33m=\u001b[0m\u001b[1;32mTrue\u001b[0m\u001b[1;33m)\u001b[0m\u001b[1;33m\u001b[0m\u001b[0m\n\u001b[0m\u001b[0;32m    465\u001b[0m         \u001b[1;31m# acquire a lock on the shared font cache\u001b[0m\u001b[1;33m\u001b[0m\u001b[1;33m\u001b[0m\u001b[0m\n\u001b[0;32m    466\u001b[0m         \u001b[0mRendererAgg\u001b[0m\u001b[1;33m.\u001b[0m\u001b[0mlock\u001b[0m\u001b[1;33m.\u001b[0m\u001b[0macquire\u001b[0m\u001b[1;33m(\u001b[0m\u001b[1;33m)\u001b[0m\u001b[1;33m\u001b[0m\u001b[0m\n",
      "\u001b[1;32m/opt/conda/lib/python3.4/site-packages/matplotlib/backends/backend_agg.py\u001b[0m in \u001b[0;36mget_renderer\u001b[1;34m(self, cleared)\u001b[0m\n\u001b[0;32m    479\u001b[0m \u001b[1;33m\u001b[0m\u001b[0m\n\u001b[0;32m    480\u001b[0m         \u001b[1;32mif\u001b[0m \u001b[0mneed_new_renderer\u001b[0m\u001b[1;33m:\u001b[0m\u001b[1;33m\u001b[0m\u001b[0m\n\u001b[1;32m--> 481\u001b[1;33m             \u001b[0mself\u001b[0m\u001b[1;33m.\u001b[0m\u001b[0mrenderer\u001b[0m \u001b[1;33m=\u001b[0m \u001b[0mRendererAgg\u001b[0m\u001b[1;33m(\u001b[0m\u001b[0mw\u001b[0m\u001b[1;33m,\u001b[0m \u001b[0mh\u001b[0m\u001b[1;33m,\u001b[0m \u001b[0mself\u001b[0m\u001b[1;33m.\u001b[0m\u001b[0mfigure\u001b[0m\u001b[1;33m.\u001b[0m\u001b[0mdpi\u001b[0m\u001b[1;33m)\u001b[0m\u001b[1;33m\u001b[0m\u001b[0m\n\u001b[0m\u001b[0;32m    482\u001b[0m             \u001b[0mself\u001b[0m\u001b[1;33m.\u001b[0m\u001b[0m_lastKey\u001b[0m \u001b[1;33m=\u001b[0m \u001b[0mkey\u001b[0m\u001b[1;33m\u001b[0m\u001b[0m\n\u001b[0;32m    483\u001b[0m         \u001b[1;32melif\u001b[0m \u001b[0mcleared\u001b[0m\u001b[1;33m:\u001b[0m\u001b[1;33m\u001b[0m\u001b[0m\n",
      "\u001b[1;32m/opt/conda/lib/python3.4/site-packages/matplotlib/backends/backend_agg.py\u001b[0m in \u001b[0;36m__init__\u001b[1;34m(self, width, height, dpi)\u001b[0m\n\u001b[0;32m     92\u001b[0m         \u001b[0mself\u001b[0m\u001b[1;33m.\u001b[0m\u001b[0mheight\u001b[0m \u001b[1;33m=\u001b[0m \u001b[0mheight\u001b[0m\u001b[1;33m\u001b[0m\u001b[0m\n\u001b[0;32m     93\u001b[0m         \u001b[1;32mif\u001b[0m \u001b[0m__debug__\u001b[0m\u001b[1;33m:\u001b[0m \u001b[0mverbose\u001b[0m\u001b[1;33m.\u001b[0m\u001b[0mreport\u001b[0m\u001b[1;33m(\u001b[0m\u001b[1;34m'RendererAgg.__init__ width=%s, height=%s'\u001b[0m\u001b[1;33m%\u001b[0m\u001b[1;33m(\u001b[0m\u001b[0mwidth\u001b[0m\u001b[1;33m,\u001b[0m \u001b[0mheight\u001b[0m\u001b[1;33m)\u001b[0m\u001b[1;33m,\u001b[0m \u001b[1;34m'debug-annoying'\u001b[0m\u001b[1;33m)\u001b[0m\u001b[1;33m\u001b[0m\u001b[0m\n\u001b[1;32m---> 94\u001b[1;33m         \u001b[0mself\u001b[0m\u001b[1;33m.\u001b[0m\u001b[0m_renderer\u001b[0m \u001b[1;33m=\u001b[0m \u001b[0m_RendererAgg\u001b[0m\u001b[1;33m(\u001b[0m\u001b[0mint\u001b[0m\u001b[1;33m(\u001b[0m\u001b[0mwidth\u001b[0m\u001b[1;33m)\u001b[0m\u001b[1;33m,\u001b[0m \u001b[0mint\u001b[0m\u001b[1;33m(\u001b[0m\u001b[0mheight\u001b[0m\u001b[1;33m)\u001b[0m\u001b[1;33m,\u001b[0m \u001b[0mdpi\u001b[0m\u001b[1;33m,\u001b[0m \u001b[0mdebug\u001b[0m\u001b[1;33m=\u001b[0m\u001b[1;32mFalse\u001b[0m\u001b[1;33m)\u001b[0m\u001b[1;33m\u001b[0m\u001b[0m\n\u001b[0m\u001b[0;32m     95\u001b[0m         \u001b[0mself\u001b[0m\u001b[1;33m.\u001b[0m\u001b[0m_filter_renderers\u001b[0m \u001b[1;33m=\u001b[0m \u001b[1;33m[\u001b[0m\u001b[1;33m]\u001b[0m\u001b[1;33m\u001b[0m\u001b[0m\n\u001b[0;32m     96\u001b[0m \u001b[1;33m\u001b[0m\u001b[0m\n",
      "\u001b[1;31mValueError\u001b[0m: width and height must each be below 32768"
     ]
    },
    {
     "data": {
      "text/plain": [
       "<matplotlib.figure.Figure at 0x7fbf2492de10>"
      ]
     },
     "metadata": {},
     "output_type": "display_data"
    }
   ],
   "source": [
    "data.barh('V15')"
   ]
  },
  {
   "cell_type": "code",
   "execution_count": 7,
   "metadata": {
    "collapsed": false
   },
   "outputs": [
    {
     "ename": "TypeError",
     "evalue": "unorderable types: numpy.ndarray() > str()",
     "output_type": "error",
     "traceback": [
      "\u001b[1;31m---------------------------------------------------------------------------\u001b[0m",
      "\u001b[1;31mTypeError\u001b[0m                                 Traceback (most recent call last)",
      "\u001b[1;32m<ipython-input-7-44cb84c4664a>\u001b[0m in \u001b[0;36m<module>\u001b[1;34m()\u001b[0m\n\u001b[1;32m----> 1\u001b[1;33m \u001b[0mdata\u001b[0m\u001b[1;33m.\u001b[0m\u001b[0mhist\u001b[0m\u001b[1;33m(\u001b[0m\u001b[1;34m'V15'\u001b[0m\u001b[1;33m)\u001b[0m\u001b[1;33m\u001b[0m\u001b[0m\n\u001b[0m",
      "\u001b[1;32m/opt/conda/lib/python3.4/site-packages/datascience/tables.py\u001b[0m in \u001b[0;36mhist\u001b[1;34m(self, overlay, bins, counts, **vargs)\u001b[0m\n\u001b[0;32m   1712\u001b[0m             \u001b[0mvargs\u001b[0m\u001b[1;33m.\u001b[0m\u001b[0msetdefault\u001b[0m\u001b[1;33m(\u001b[0m\u001b[1;34m'histtype'\u001b[0m\u001b[1;33m,\u001b[0m \u001b[1;34m'stepfilled'\u001b[0m\u001b[1;33m)\u001b[0m\u001b[1;33m\u001b[0m\u001b[0m\n\u001b[0;32m   1713\u001b[0m             \u001b[0mplt\u001b[0m\u001b[1;33m.\u001b[0m\u001b[0mfigure\u001b[0m\u001b[1;33m(\u001b[0m\u001b[0mfigsize\u001b[0m\u001b[1;33m=\u001b[0m\u001b[1;33m(\u001b[0m\u001b[1;36m6\u001b[0m\u001b[1;33m,\u001b[0m \u001b[1;36m4\u001b[0m\u001b[1;33m)\u001b[0m\u001b[1;33m)\u001b[0m\u001b[1;33m\u001b[0m\u001b[0m\n\u001b[1;32m-> 1714\u001b[1;33m             \u001b[0mplt\u001b[0m\u001b[1;33m.\u001b[0m\u001b[0mhist\u001b[0m\u001b[1;33m(\u001b[0m\u001b[0mvalues\u001b[0m\u001b[1;33m,\u001b[0m \u001b[0mcolor\u001b[0m\u001b[1;33m=\u001b[0m\u001b[0mcolors\u001b[0m\u001b[1;33m,\u001b[0m \u001b[1;33m**\u001b[0m\u001b[0mvargs\u001b[0m\u001b[1;33m)\u001b[0m\u001b[1;33m\u001b[0m\u001b[0m\n\u001b[0m\u001b[0;32m   1715\u001b[0m             \u001b[0mplt\u001b[0m\u001b[1;33m.\u001b[0m\u001b[0mlegend\u001b[0m\u001b[1;33m(\u001b[0m\u001b[0mcolumns\u001b[0m\u001b[1;33m.\u001b[0m\u001b[0mkeys\u001b[0m\u001b[1;33m(\u001b[0m\u001b[1;33m)\u001b[0m\u001b[1;33m)\u001b[0m\u001b[1;33m\u001b[0m\u001b[0m\n\u001b[0;32m   1716\u001b[0m         \u001b[1;32melse\u001b[0m\u001b[1;33m:\u001b[0m\u001b[1;33m\u001b[0m\u001b[0m\n",
      "\u001b[1;32m/opt/conda/lib/python3.4/site-packages/matplotlib/pyplot.py\u001b[0m in \u001b[0;36mhist\u001b[1;34m(x, bins, range, normed, weights, cumulative, bottom, histtype, align, orientation, rwidth, log, color, label, stacked, hold, **kwargs)\u001b[0m\n\u001b[0;32m   2894\u001b[0m                       \u001b[0mhisttype\u001b[0m\u001b[1;33m=\u001b[0m\u001b[0mhisttype\u001b[0m\u001b[1;33m,\u001b[0m \u001b[0malign\u001b[0m\u001b[1;33m=\u001b[0m\u001b[0malign\u001b[0m\u001b[1;33m,\u001b[0m \u001b[0morientation\u001b[0m\u001b[1;33m=\u001b[0m\u001b[0morientation\u001b[0m\u001b[1;33m,\u001b[0m\u001b[1;33m\u001b[0m\u001b[0m\n\u001b[0;32m   2895\u001b[0m                       \u001b[0mrwidth\u001b[0m\u001b[1;33m=\u001b[0m\u001b[0mrwidth\u001b[0m\u001b[1;33m,\u001b[0m \u001b[0mlog\u001b[0m\u001b[1;33m=\u001b[0m\u001b[0mlog\u001b[0m\u001b[1;33m,\u001b[0m \u001b[0mcolor\u001b[0m\u001b[1;33m=\u001b[0m\u001b[0mcolor\u001b[0m\u001b[1;33m,\u001b[0m \u001b[0mlabel\u001b[0m\u001b[1;33m=\u001b[0m\u001b[0mlabel\u001b[0m\u001b[1;33m,\u001b[0m\u001b[1;33m\u001b[0m\u001b[0m\n\u001b[1;32m-> 2896\u001b[1;33m                       stacked=stacked, **kwargs)\n\u001b[0m\u001b[0;32m   2897\u001b[0m         \u001b[0mdraw_if_interactive\u001b[0m\u001b[1;33m(\u001b[0m\u001b[1;33m)\u001b[0m\u001b[1;33m\u001b[0m\u001b[0m\n\u001b[0;32m   2898\u001b[0m     \u001b[1;32mfinally\u001b[0m\u001b[1;33m:\u001b[0m\u001b[1;33m\u001b[0m\u001b[0m\n",
      "\u001b[1;32m/opt/conda/lib/python3.4/site-packages/matplotlib/axes/_axes.py\u001b[0m in \u001b[0;36mhist\u001b[1;34m(self, x, bins, range, normed, weights, cumulative, bottom, histtype, align, orientation, rwidth, log, color, label, stacked, **kwargs)\u001b[0m\n\u001b[0;32m   5662\u001b[0m             \u001b[1;32mfor\u001b[0m \u001b[0mxi\u001b[0m \u001b[1;32min\u001b[0m \u001b[0mx\u001b[0m\u001b[1;33m:\u001b[0m\u001b[1;33m\u001b[0m\u001b[0m\n\u001b[0;32m   5663\u001b[0m                 \u001b[1;32mif\u001b[0m \u001b[0mlen\u001b[0m\u001b[1;33m(\u001b[0m\u001b[0mxi\u001b[0m\u001b[1;33m)\u001b[0m \u001b[1;33m>\u001b[0m \u001b[1;36m0\u001b[0m\u001b[1;33m:\u001b[0m\u001b[1;33m\u001b[0m\u001b[0m\n\u001b[1;32m-> 5664\u001b[1;33m                     \u001b[0mxmin\u001b[0m \u001b[1;33m=\u001b[0m \u001b[0mmin\u001b[0m\u001b[1;33m(\u001b[0m\u001b[0mxmin\u001b[0m\u001b[1;33m,\u001b[0m \u001b[0mxi\u001b[0m\u001b[1;33m.\u001b[0m\u001b[0mmin\u001b[0m\u001b[1;33m(\u001b[0m\u001b[1;33m)\u001b[0m\u001b[1;33m)\u001b[0m\u001b[1;33m\u001b[0m\u001b[0m\n\u001b[0m\u001b[0;32m   5665\u001b[0m                     \u001b[0mxmax\u001b[0m \u001b[1;33m=\u001b[0m \u001b[0mmax\u001b[0m\u001b[1;33m(\u001b[0m\u001b[0mxmax\u001b[0m\u001b[1;33m,\u001b[0m \u001b[0mxi\u001b[0m\u001b[1;33m.\u001b[0m\u001b[0mmax\u001b[0m\u001b[1;33m(\u001b[0m\u001b[1;33m)\u001b[0m\u001b[1;33m)\u001b[0m\u001b[1;33m\u001b[0m\u001b[0m\n\u001b[0;32m   5666\u001b[0m             \u001b[0mbin_range\u001b[0m \u001b[1;33m=\u001b[0m \u001b[1;33m(\u001b[0m\u001b[0mxmin\u001b[0m\u001b[1;33m,\u001b[0m \u001b[0mxmax\u001b[0m\u001b[1;33m)\u001b[0m\u001b[1;33m\u001b[0m\u001b[0m\n",
      "\u001b[1;31mTypeError\u001b[0m: unorderable types: numpy.ndarray() > str()"
     ]
    },
    {
     "data": {
      "image/png": "[encoded data removed]",
      "text/plain": [
       "<matplotlib.figure.Figure at 0x7fbee8db4710>"
      ]
     },
     "metadata": {},
     "output_type": "display_data"
    }
   ],
   "source": [
    "data.hist('V15')"
   ]
  },
  {
   "cell_type": "code",
   "execution_count": 8,
   "metadata": {
    "collapsed": false
   },
   "outputs": [
    {
     "ename": "AttributeError",
     "evalue": "'numpy.ndarray' object has no attribute 'hist'",
     "output_type": "error",
     "traceback": [
      "\u001b[1;31m---------------------------------------------------------------------------\u001b[0m",
      "\u001b[1;31mAttributeError\u001b[0m                            Traceback (most recent call last)",
      "\u001b[1;32m<ipython-input-8-076009edbe17>\u001b[0m in \u001b[0;36m<module>\u001b[1;34m()\u001b[0m\n\u001b[1;32m----> 1\u001b[1;33m \u001b[0mdata\u001b[0m \u001b[1;33m[\u001b[0m\u001b[1;34m\"V15\"\u001b[0m\u001b[1;33m]\u001b[0m\u001b[1;33m.\u001b[0m\u001b[0mhist\u001b[0m\u001b[1;33m\u001b[0m\u001b[0m\n\u001b[0m",
      "\u001b[1;31mAttributeError\u001b[0m: 'numpy.ndarray' object has no attribute 'hist'"
     ]
    }
   ],
   "source": [
    "data [\"V15\"].hist"
   ]
  },
  {
   "cell_type": "code",
   "execution_count": 9,
   "metadata": {
    "collapsed": false
   },
   "outputs": [
    {
     "data": {
      "text/plain": [
       "(array([ 2539.,  2457.,     0.,     0.,     0.,     0.,     0.,     0.,\n",
       "            0.,    13.]),\n",
       " array([ 1. ,  1.8,  2.6,  3.4,  4.2,  5. ,  5.8,  6.6,  7.4,  8.2,  9. ]),\n",
       " <a list of 10 Patch objects>)"
      ]
     },
     "execution_count": 9,
     "metadata": {},
     "output_type": "execute_result"
    },
    {
     "data": {
      "image/png": "[encoded data removed]",
      "text/plain": [
       "<matplotlib.figure.Figure at 0x7fbee8c2def0>"
      ]
     },
     "metadata": {},
     "output_type": "display_data"
    }
   ],
   "source": [
    "plots.hist(data[\"V15\"])"
   ]
  },
  {
   "cell_type": "code",
   "execution_count": 10,
   "metadata": {
    "collapsed": false
   },
   "outputs": [
    {
     "data": {
      "text/plain": [
       "(array([  4.31100000e+03,   6.00000000e+00,   2.00000000e+00,\n",
       "          1.00000000e+00,   0.00000000e+00,   0.00000000e+00,\n",
       "          0.00000000e+00,   0.00000000e+00,   0.00000000e+00,\n",
       "          6.89000000e+02]),\n",
       " array([     0. ,   9999.9,  19999.8,  29999.7,  39999.6,  49999.5,\n",
       "         59999.4,  69999.3,  79999.2,  89999.1,  99999. ]),\n",
       " <a list of 10 Patch objects>)"
      ]
     },
     "execution_count": 10,
     "metadata": {},
     "output_type": "execute_result"
    },
    {
     "data": {
      "image/png": "[encoded data removed]",
      "text/plain": [
       "<matplotlib.figure.Figure at 0x7fbee87a7ba8>"
      ]
     },
     "metadata": {},
     "output_type": "display_data"
    }
   ],
   "source": [
    "plots.hist(data[\"V14\"])"
   ]
  },
  {
   "cell_type": "code",
   "execution_count": 11,
   "metadata": {
    "collapsed": false
   },
   "outputs": [
    {
     "data": {
      "text/plain": [
       "(array([  3.33100000e+03,   8.72000000e+02,   7.00000000e+01,\n",
       "          2.30000000e+01,   5.00000000e+00,   7.00000000e+00,\n",
       "          1.00000000e+00,   1.00000000e+00,   0.00000000e+00,\n",
       "          1.00000000e+00,   0.00000000e+00,   0.00000000e+00,\n",
       "          2.00000000e+00,   1.00000000e+00,   0.00000000e+00,\n",
       "          2.00000000e+00,   0.00000000e+00,   0.00000000e+00,\n",
       "          0.00000000e+00,   1.00000000e+00,   0.00000000e+00,\n",
       "          0.00000000e+00,   0.00000000e+00,   1.00000000e+00,\n",
       "          0.00000000e+00,   1.00000000e+00,   0.00000000e+00,\n",
       "          0.00000000e+00,   0.00000000e+00,   0.00000000e+00,\n",
       "          0.00000000e+00,   1.00000000e+00,   0.00000000e+00,\n",
       "          0.00000000e+00,   0.00000000e+00,   0.00000000e+00,\n",
       "          0.00000000e+00,   0.00000000e+00,   0.00000000e+00,\n",
       "          0.00000000e+00,   0.00000000e+00,   0.00000000e+00,\n",
       "          0.00000000e+00,   0.00000000e+00,   0.00000000e+00,\n",
       "          0.00000000e+00,   0.00000000e+00,   0.00000000e+00,\n",
       "          0.00000000e+00,   0.00000000e+00,   0.00000000e+00,\n",
       "          0.00000000e+00,   0.00000000e+00,   0.00000000e+00,\n",
       "          0.00000000e+00,   0.00000000e+00,   0.00000000e+00,\n",
       "          0.00000000e+00,   0.00000000e+00,   0.00000000e+00,\n",
       "          0.00000000e+00,   0.00000000e+00,   0.00000000e+00,\n",
       "          0.00000000e+00,   0.00000000e+00,   0.00000000e+00,\n",
       "          0.00000000e+00,   0.00000000e+00,   0.00000000e+00,\n",
       "          0.00000000e+00,   0.00000000e+00,   0.00000000e+00,\n",
       "          0.00000000e+00,   0.00000000e+00,   0.00000000e+00,\n",
       "          0.00000000e+00,   0.00000000e+00,   0.00000000e+00,\n",
       "          0.00000000e+00,   0.00000000e+00,   0.00000000e+00,\n",
       "          0.00000000e+00,   0.00000000e+00,   0.00000000e+00,\n",
       "          0.00000000e+00,   0.00000000e+00,   0.00000000e+00,\n",
       "          0.00000000e+00,   0.00000000e+00,   0.00000000e+00,\n",
       "          0.00000000e+00,   0.00000000e+00,   0.00000000e+00,\n",
       "          0.00000000e+00,   0.00000000e+00,   0.00000000e+00,\n",
       "          0.00000000e+00,   0.00000000e+00,   0.00000000e+00,\n",
       "          6.89000000e+02]),\n",
       " array([     0.  ,    999.99,   1999.98,   2999.97,   3999.96,   4999.95,\n",
       "          5999.94,   6999.93,   7999.92,   8999.91,   9999.9 ,  10999.89,\n",
       "         11999.88,  12999.87,  13999.86,  14999.85,  15999.84,  16999.83,\n",
       "         17999.82,  18999.81,  19999.8 ,  20999.79,  21999.78,  22999.77,\n",
       "         23999.76,  24999.75,  25999.74,  26999.73,  27999.72,  28999.71,\n",
       "         29999.7 ,  30999.69,  31999.68,  32999.67,  33999.66,  34999.65,\n",
       "         35999.64,  36999.63,  37999.62,  38999.61,  39999.6 ,  40999.59,\n",
       "         41999.58,  42999.57,  43999.56,  44999.55,  45999.54,  46999.53,\n",
       "         47999.52,  48999.51,  49999.5 ,  50999.49,  51999.48,  52999.47,\n",
       "         53999.46,  54999.45,  55999.44,  56999.43,  57999.42,  58999.41,\n",
       "         59999.4 ,  60999.39,  61999.38,  62999.37,  63999.36,  64999.35,\n",
       "         65999.34,  66999.33,  67999.32,  68999.31,  69999.3 ,  70999.29,\n",
       "         71999.28,  72999.27,  73999.26,  74999.25,  75999.24,  76999.23,\n",
       "         77999.22,  78999.21,  79999.2 ,  80999.19,  81999.18,  82999.17,\n",
       "         83999.16,  84999.15,  85999.14,  86999.13,  87999.12,  88999.11,\n",
       "         89999.1 ,  90999.09,  91999.08,  92999.07,  93999.06,  94999.05,\n",
       "         95999.04,  96999.03,  97999.02,  98999.01,  99999.  ]),\n",
       " <a list of 100 Patch objects>)"
      ]
     },
     "execution_count": 11,
     "metadata": {},
     "output_type": "execute_result"
    },
    {
     "data": {
      "image/png": "[encoded data removed]",
      "text/plain": [
       "<matplotlib.figure.Figure at 0x7fbee8746d68>"
      ]
     },
     "metadata": {},
     "output_type": "display_data"
    }
   ],
   "source": [
    "plots.hist(data[\"V14\"], bins=100)"
   ]
  },
  {
   "cell_type": "code",
   "execution_count": 12,
   "metadata": {
    "collapsed": false
   },
   "outputs": [
    {
     "ename": "TypeError",
     "evalue": "unhashable type: 'numpy.ndarray'",
     "output_type": "error",
     "traceback": [
      "\u001b[1;31m---------------------------------------------------------------------------\u001b[0m",
      "\u001b[1;31mTypeError\u001b[0m                                 Traceback (most recent call last)",
      "\u001b[1;32m<ipython-input-12-6cbc1641f666>\u001b[0m in \u001b[0;36m<module>\u001b[1;34m()\u001b[0m\n\u001b[1;32m----> 1\u001b[1;33m \u001b[0mdata\u001b[0m\u001b[1;33m[\u001b[0m\u001b[0mdata\u001b[0m\u001b[1;33m[\u001b[0m\u001b[1;34m\"V14\"\u001b[0m\u001b[1;33m]\u001b[0m \u001b[1;33m!=\u001b[0m \u001b[1;36m99999\u001b[0m\u001b[1;33m]\u001b[0m\u001b[1;33m\u001b[0m\u001b[0m\n\u001b[0m",
      "\u001b[1;32m/opt/conda/lib/python3.4/site-packages/datascience/tables.py\u001b[0m in \u001b[0;36m__getitem__\u001b[1;34m(self, label)\u001b[0m\n\u001b[0;32m    357\u001b[0m \u001b[1;33m\u001b[0m\u001b[0m\n\u001b[0;32m    358\u001b[0m     \u001b[1;32mdef\u001b[0m \u001b[0m__getitem__\u001b[0m\u001b[1;33m(\u001b[0m\u001b[0mself\u001b[0m\u001b[1;33m,\u001b[0m \u001b[0mlabel\u001b[0m\u001b[1;33m)\u001b[0m\u001b[1;33m:\u001b[0m\u001b[1;33m\u001b[0m\u001b[0m\n\u001b[1;32m--> 359\u001b[1;33m         \u001b[1;32mreturn\u001b[0m \u001b[0mself\u001b[0m\u001b[1;33m.\u001b[0m\u001b[0mvalues\u001b[0m\u001b[1;33m(\u001b[0m\u001b[0mlabel\u001b[0m\u001b[1;33m)\u001b[0m\u001b[1;33m\u001b[0m\u001b[0m\n\u001b[0m\u001b[0;32m    360\u001b[0m \u001b[1;33m\u001b[0m\u001b[0m\n\u001b[0;32m    361\u001b[0m     \u001b[1;32mdef\u001b[0m \u001b[0m__setitem__\u001b[0m\u001b[1;33m(\u001b[0m\u001b[0mself\u001b[0m\u001b[1;33m,\u001b[0m \u001b[0mlabel\u001b[0m\u001b[1;33m,\u001b[0m \u001b[0mvalues\u001b[0m\u001b[1;33m)\u001b[0m\u001b[1;33m:\u001b[0m\u001b[1;33m\u001b[0m\u001b[0m\n",
      "\u001b[1;32m/opt/conda/lib/python3.4/site-packages/datascience/tables.py\u001b[0m in \u001b[0;36mvalues\u001b[1;34m(self, label)\u001b[0m\n\u001b[0;32m    443\u001b[0m             \u001b[0mAn\u001b[0m \u001b[0minstance\u001b[0m \u001b[0mof\u001b[0m\u001b[0;31m \u001b[0m\u001b[0;31m`\u001b[0m\u001b[0;31m`\u001b[0m\u001b[0mnumpy\u001b[0m\u001b[1;33m.\u001b[0m\u001b[0marray\u001b[0m\u001b[0;31m`\u001b[0m\u001b[0;31m`\u001b[0m\u001b[1;33m.\u001b[0m\u001b[1;33m\u001b[0m\u001b[0m\n\u001b[0;32m    444\u001b[0m         \"\"\"\n\u001b[1;32m--> 445\u001b[1;33m         \u001b[1;32mreturn\u001b[0m \u001b[0mself\u001b[0m\u001b[1;33m.\u001b[0m\u001b[0m_columns\u001b[0m\u001b[1;33m[\u001b[0m\u001b[0mlabel\u001b[0m\u001b[1;33m]\u001b[0m\u001b[1;33m\u001b[0m\u001b[0m\n\u001b[0m\u001b[0;32m    446\u001b[0m \u001b[1;33m\u001b[0m\u001b[0m\n\u001b[0;32m    447\u001b[0m     \u001b[1;32mdef\u001b[0m \u001b[0mcolumn_index\u001b[0m\u001b[1;33m(\u001b[0m\u001b[0mself\u001b[0m\u001b[1;33m,\u001b[0m \u001b[0mcolumn_label\u001b[0m\u001b[1;33m)\u001b[0m\u001b[1;33m:\u001b[0m\u001b[1;33m\u001b[0m\u001b[0m\n",
      "\u001b[1;31mTypeError\u001b[0m: unhashable type: 'numpy.ndarray'"
     ]
    }
   ],
   "source": [
    "data[data[\"V14\"] != 99999]"
   ]
  },
  {
   "cell_type": "code",
   "execution_count": 14,
   "metadata": {
    "collapsed": false
   },
   "outputs": [
    {
     "data": {
      "text/html": [
       "<table border=\"1\" class=\"dataframe\">\n",
       "    <thead>\n",
       "        <tr>\n",
       "            <th>V1</th> <th>V2</th> <th>V3</th> <th>V4</th> <th>V5</th> <th>V6</th> <th>V7</th> <th>V8</th> <th>V9</th> <th>V10</th> <th>V11</th> <th>V12</th> <th>V13</th> <th>V14</th> <th>V15</th> <th>V16</th> <th>V17</th> <th>V18</th> <th>V19</th> <th>V20</th> <th>V21</th> <th>V22</th> <th>V23</th> <th>V24</th> <th>V25</th> <th>V26</th> <th>V27</th> <th>V28</th> <th>V29</th> <th>V30</th> <th>V31</th> <th>V32</th> <th>V33</th> <th>V34</th> <th>V35</th> <th>V36</th> <th>V37</th> <th>V38</th> <th>V39</th> <th>V40</th> <th>V41</th> <th>V42</th> <th>V43</th> <th>V44</th> <th>V45</th> <th>V46</th> <th>V47</th>\n",
       "        </tr>\n",
       "    </thead>\n",
       "    <tbody>\n",
       "        <tr>\n",
       "            <td>NO2 </td> <td>NB  </td> <td>2   </td> <td>1804</td> <td> PG </td> <td>VI  </td> <td>1   </td> <td>999 </td> <td>GA  </td> <td>9   </td> <td>999 </td> <td>1   </td> <td>1   </td> <td>350 </td> <td>1   </td> <td>11  </td> <td>4   </td> <td>0   </td> <td>9   </td> <td>99  </td> <td>9   </td> <td>99  </td> <td>9   </td> <td>99  </td> <td>9   </td> <td>99  </td> <td>9   </td> <td>99  </td> <td>9   </td> <td>99  </td> <td>9   </td> <td>99  </td> <td>9   </td> <td>99  </td> <td>0   </td> <td>1   </td> <td>9999</td> <td>99  </td> <td>99  </td> <td>1   </td> <td>99  </td> <td>0   </td> <td>0   </td> <td>0   </td> <td>201 </td> <td>1   </td> <td>1   </td>\n",
       "        </tr>\n",
       "    </tbody>\n",
       "        <tr>\n",
       "            <td>NO2 </td> <td>NB  </td> <td>3   </td> <td>1804</td> <td> PG </td> <td>BI  </td> <td>1   </td> <td>999 </td> <td>CO  </td> <td>1   </td> <td>999 </td> <td>1   </td> <td>1   </td> <td>1000</td> <td>1   </td> <td>24  </td> <td>4   </td> <td>0   </td> <td>9   </td> <td>99  </td> <td>9   </td> <td>99  </td> <td>9   </td> <td>99  </td> <td>9   </td> <td>99  </td> <td>9   </td> <td>99  </td> <td>9   </td> <td>99  </td> <td>9   </td> <td>99  </td> <td>9   </td> <td>99  </td> <td>0   </td> <td>2   </td> <td>9999</td> <td>2   </td> <td>99  </td> <td>1   </td> <td>99  </td> <td>0   </td> <td>0   </td> <td>0   </td> <td>503 </td> <td>1   </td> <td>2   </td>\n",
       "        </tr>\n",
       "    </tbody>\n",
       "        <tr>\n",
       "            <td>NO2 </td> <td>NB  </td> <td>3   </td> <td>1804</td> <td> P  </td> <td>LA  </td> <td>1   </td> <td>999 </td> <td>DC  </td> <td>9   </td> <td>999 </td> <td>1   </td> <td>1   </td> <td>450 </td> <td>2   </td> <td>25  </td> <td>1   </td> <td>0   </td> <td>9   </td> <td>99  </td> <td>9   </td> <td>99  </td> <td>9   </td> <td>99  </td> <td>9   </td> <td>99  </td> <td>9   </td> <td>99  </td> <td>9   </td> <td>99  </td> <td>9   </td> <td>99  </td> <td>9   </td> <td>99  </td> <td>0   </td> <td>2   </td> <td>210 </td> <td>10  </td> <td>99  </td> <td>2   </td> <td>42  </td> <td>0   </td> <td>0   </td> <td>0   </td> <td>503 </td> <td>1   </td> <td>3   </td>\n",
       "        </tr>\n",
       "    </tbody>\n",
       "        <tr>\n",
       "            <td>NO2 </td> <td>NB  </td> <td>4   </td> <td>1804</td> <td> PG </td> <td>LA  </td> <td>9   </td> <td>999 </td> <td>CH  </td> <td>9   </td> <td>999 </td> <td>2   </td> <td>1   </td> <td>800 </td> <td>1   </td> <td>99  </td> <td>1   </td> <td>0   </td> <td>9   </td> <td>99  </td> <td>9   </td> <td>99  </td> <td>9   </td> <td>99  </td> <td>9   </td> <td>99  </td> <td>9   </td> <td>99  </td> <td>9   </td> <td>99  </td> <td>9   </td> <td>99  </td> <td>9   </td> <td>99  </td> <td>0   </td> <td>1   </td> <td>9999</td> <td>99  </td> <td>99  </td> <td>2   </td> <td>99  </td> <td>0   </td> <td>0   </td> <td>0   </td> <td>503 </td> <td>2   </td> <td>4   </td>\n",
       "        </tr>\n",
       "    </tbody>\n",
       "        <tr>\n",
       "            <td>NO2 </td> <td>NB  </td> <td>10  </td> <td>1804</td> <td> PG </td> <td>PE  </td> <td>1   </td> <td>999 </td> <td>LE  </td> <td>9   </td> <td>999 </td> <td>1   </td> <td>1   </td> <td>400 </td> <td>2   </td> <td>20  </td> <td>1   </td> <td>0   </td> <td>9   </td> <td>99  </td> <td>9   </td> <td>99  </td> <td>9   </td> <td>99  </td> <td>9   </td> <td>99  </td> <td>9   </td> <td>99  </td> <td>9   </td> <td>99  </td> <td>9   </td> <td>99  </td> <td>9   </td> <td>99  </td> <td>0   </td> <td>1   </td> <td>9999</td> <td>99  </td> <td>99  </td> <td>1   </td> <td>99  </td> <td>0   </td> <td>0   </td> <td>0   </td> <td>503 </td> <td>1   </td> <td>6   </td>\n",
       "        </tr>\n",
       "    </tbody>\n",
       "        <tr>\n",
       "            <td>NO2 </td> <td>PP  </td> <td>1   </td> <td>1804</td> <td> PG </td> <td>GA  </td> <td>1   </td> <td>999 </td> <td>MO  </td> <td>9   </td> <td>999 </td> <td>1   </td> <td>1   </td> <td>750 </td> <td>1   </td> <td>22  </td> <td>1   </td> <td>0   </td> <td>9   </td> <td>99  </td> <td>9   </td> <td>99  </td> <td>9   </td> <td>99  </td> <td>9   </td> <td>99  </td> <td>9   </td> <td>99  </td> <td>9   </td> <td>99  </td> <td>9   </td> <td>99  </td> <td>9   </td> <td>99  </td> <td>0   </td> <td>2   </td> <td>9999</td> <td>99  </td> <td>99  </td> <td>1   </td> <td>99  </td> <td>2   </td> <td>0   </td> <td>0   </td> <td>267 </td> <td>1   </td> <td>7   </td>\n",
       "        </tr>\n",
       "    </tbody>\n",
       "        <tr>\n",
       "            <td>NO2 </td> <td>PP  </td> <td>1   </td> <td>1804</td> <td> PG </td> <td>PO  </td> <td>1   </td> <td>999 </td> <td>BO  </td> <td>1   </td> <td>999 </td> <td>1   </td> <td>1   </td> <td>500 </td> <td>2   </td> <td>21  </td> <td>1   </td> <td>0   </td> <td>9   </td> <td>99  </td> <td>9   </td> <td>99  </td> <td>9   </td> <td>99  </td> <td>9   </td> <td>99  </td> <td>9   </td> <td>99  </td> <td>9   </td> <td>99  </td> <td>9   </td> <td>99  </td> <td>9   </td> <td>99  </td> <td>0   </td> <td>1   </td> <td>9999</td> <td>99  </td> <td>99  </td> <td>2   </td> <td>30  </td> <td>0   </td> <td>0   </td> <td>0   </td> <td>267 </td> <td>1   </td> <td>8   </td>\n",
       "        </tr>\n",
       "    </tbody>\n",
       "        <tr>\n",
       "            <td>NO2 </td> <td>PP  </td> <td>2   </td> <td>1804</td> <td> PG </td> <td>ME  </td> <td>1   </td> <td>999 </td> <td>SE  </td> <td>2   </td> <td>ORL </td> <td>2   </td> <td>1   </td> <td>900 </td> <td>1   </td> <td>18  </td> <td>1   </td> <td>0   </td> <td>9   </td> <td>99  </td> <td>9   </td> <td>99  </td> <td>9   </td> <td>99  </td> <td>9   </td> <td>99  </td> <td>9   </td> <td>99  </td> <td>9   </td> <td>99  </td> <td>9   </td> <td>99  </td> <td>9   </td> <td>99  </td> <td>0   </td> <td>1   </td> <td>9999</td> <td>99  </td> <td>99  </td> <td>2   </td> <td>99  </td> <td>0   </td> <td>7   </td> <td>8   </td> <td>117 </td> <td>2   </td> <td>9   </td>\n",
       "        </tr>\n",
       "    </tbody>\n",
       "        <tr>\n",
       "            <td>NO2 </td> <td>PP  </td> <td>2   </td> <td>1804</td> <td> PG </td> <td>CR  </td> <td>1   </td> <td>999 </td> <td>LA  </td> <td>2   </td> <td>SLO </td> <td>1   </td> <td>1   </td> <td>200 </td> <td>2   </td> <td>2.5 </td> <td>1   </td> <td>0   </td> <td>9   </td> <td>99  </td> <td>9   </td> <td>99  </td> <td>9   </td> <td>99  </td> <td>9   </td> <td>99  </td> <td>9   </td> <td>99  </td> <td>9   </td> <td>99  </td> <td>9   </td> <td>99  </td> <td>9   </td> <td>99  </td> <td>0   </td> <td>1   </td> <td>9999</td> <td>99  </td> <td>99  </td> <td>2   </td> <td>99  </td> <td>0   </td> <td>0   </td> <td>0   </td> <td>999 </td> <td>1   </td> <td>11  </td>\n",
       "        </tr>\n",
       "    </tbody>\n",
       "        <tr>\n",
       "            <td>NO2 </td> <td>PP  </td> <td>3   </td> <td>1804</td> <td> PG </td> <td>ME  </td> <td>1   </td> <td>999 </td> <td>MA  </td> <td>9   </td> <td>999 </td> <td>1   </td> <td>1   </td> <td>450 </td> <td>2   </td> <td>14  </td> <td>1   </td> <td>0   </td> <td>9   </td> <td>99  </td> <td>9   </td> <td>99  </td> <td>9   </td> <td>99  </td> <td>9   </td> <td>99  </td> <td>9   </td> <td>99  </td> <td>9   </td> <td>99  </td> <td>9   </td> <td>99  </td> <td>9   </td> <td>99  </td> <td>0   </td> <td>1   </td> <td>9999</td> <td>99  </td> <td>99  </td> <td>2   </td> <td>99  </td> <td>0   </td> <td>7   </td> <td>8   </td> <td>117 </td> <td>1   </td> <td>12  </td>\n",
       "        </tr>\n",
       "    </tbody>\n",
       "</table>\n",
       "<p>... (4310 rows omitted)</p"
      ],
      "text/plain": [
       "V1   | V2   | V3   | V4   | V5   | V6   | V7   | V8   | V9   | V10  | V11  | V12  | V13  | V14  | V15  | V16  | V17  | V18  | V19  | V20  | V21  | V22  | V23  | V24  | V25  | V26  | V27  | V28  | V29  | V30  | V31  | V32  | V33  | V34  | V35  | V36  | V37  | V38  | V39  | V40  | V41  | V42  | V43  | V44  | V45  | V46  | V47\n",
       "NO2  | NB   | 2    | 1804 |  PG  | VI   | 1    | 999  | GA   | 9    | 999  | 1    | 1    | 350  | 1    | 11   | 4    | 0    | 9    | 99   | 9    | 99   | 9    | 99   | 9    | 99   | 9    | 99   | 9    | 99   | 9    | 99   | 9    | 99   | 0    | 1    | 9999 | 99   | 99   | 1    | 99   | 0    | 0    | 0    | 201  | 1    | 1\n",
       "NO2  | NB   | 3    | 1804 |  PG  | BI   | 1    | 999  | CO   | 1    | 999  | 1    | 1    | 1000 | 1    | 24   | 4    | 0    | 9    | 99   | 9    | 99   | 9    | 99   | 9    | 99   | 9    | 99   | 9    | 99   | 9    | 99   | 9    | 99   | 0    | 2    | 9999 | 2    | 99   | 1    | 99   | 0    | 0    | 0    | 503  | 1    | 2\n",
       "NO2  | NB   | 3    | 1804 |  P   | LA   | 1    | 999  | DC   | 9    | 999  | 1    | 1    | 450  | 2    | 25   | 1    | 0    | 9    | 99   | 9    | 99   | 9    | 99   | 9    | 99   | 9    | 99   | 9    | 99   | 9    | 99   | 9    | 99   | 0    | 2    | 210  | 10   | 99   | 2    | 42   | 0    | 0    | 0    | 503  | 1    | 3\n",
       "NO2  | NB   | 4    | 1804 |  PG  | LA   | 9    | 999  | CH   | 9    | 999  | 2    | 1    | 800  | 1    | 99   | 1    | 0    | 9    | 99   | 9    | 99   | 9    | 99   | 9    | 99   | 9    | 99   | 9    | 99   | 9    | 99   | 9    | 99   | 0    | 1    | 9999 | 99   | 99   | 2    | 99   | 0    | 0    | 0    | 503  | 2    | 4\n",
       "NO2  | NB   | 10   | 1804 |  PG  | PE   | 1    | 999  | LE   | 9    | 999  | 1    | 1    | 400  | 2    | 20   | 1    | 0    | 9    | 99   | 9    | 99   | 9    | 99   | 9    | 99   | 9    | 99   | 9    | 99   | 9    | 99   | 9    | 99   | 0    | 1    | 9999 | 99   | 99   | 1    | 99   | 0    | 0    | 0    | 503  | 1    | 6\n",
       "NO2  | PP   | 1    | 1804 |  PG  | GA   | 1    | 999  | MO   | 9    | 999  | 1    | 1    | 750  | 1    | 22   | 1    | 0    | 9    | 99   | 9    | 99   | 9    | 99   | 9    | 99   | 9    | 99   | 9    | 99   | 9    | 99   | 9    | 99   | 0    | 2    | 9999 | 99   | 99   | 1    | 99   | 2    | 0    | 0    | 267  | 1    | 7\n",
       "NO2  | PP   | 1    | 1804 |  PG  | PO   | 1    | 999  | BO   | 1    | 999  | 1    | 1    | 500  | 2    | 21   | 1    | 0    | 9    | 99   | 9    | 99   | 9    | 99   | 9    | 99   | 9    | 99   | 9    | 99   | 9    | 99   | 9    | 99   | 0    | 1    | 9999 | 99   | 99   | 2    | 30   | 0    | 0    | 0    | 267  | 1    | 8\n",
       "NO2  | PP   | 2    | 1804 |  PG  | ME   | 1    | 999  | SE   | 2    | ORL  | 2    | 1    | 900  | 1    | 18   | 1    | 0    | 9    | 99   | 9    | 99   | 9    | 99   | 9    | 99   | 9    | 99   | 9    | 99   | 9    | 99   | 9    | 99   | 0    | 1    | 9999 | 99   | 99   | 2    | 99   | 0    | 7    | 8    | 117  | 2    | 9\n",
       "NO2  | PP   | 2    | 1804 |  PG  | CR   | 1    | 999  | LA   | 2    | SLO  | 1    | 1    | 200  | 2    | 2.5  | 1    | 0    | 9    | 99   | 9    | 99   | 9    | 99   | 9    | 99   | 9    | 99   | 9    | 99   | 9    | 99   | 9    | 99   | 0    | 1    | 9999 | 99   | 99   | 2    | 99   | 0    | 0    | 0    | 999  | 1    | 11\n",
       "NO2  | PP   | 3    | 1804 |  PG  | ME   | 1    | 999  | MA   | 9    | 999  | 1    | 1    | 450  | 2    | 14   | 1    | 0    | 9    | 99   | 9    | 99   | 9    | 99   | 9    | 99   | 9    | 99   | 9    | 99   | 9    | 99   | 9    | 99   | 0    | 1    | 9999 | 99   | 99   | 2    | 99   | 0    | 7    | 8    | 117  | 1    | 12\n",
       "... (4310 rows omitted)"
      ]
     },
     "execution_count": 14,
     "metadata": {},
     "output_type": "execute_result"
    }
   ],
   "source": [
    "data.where(data[\"V14\"] != 99999)\n",
    "PriceRecorded=data.where(data[\"V14\"] != 99999)\n",
    "PriceRecorded"
   ]
  },
  {
   "cell_type": "code",
   "execution_count": null,
   "metadata": {
    "collapsed": true
   },
   "outputs": [],
   "source": []
  },
  {
   "cell_type": "code",
   "execution_count": 15,
   "metadata": {
    "collapsed": false
   },
   "outputs": [
    {
     "data": {
      "text/plain": [
       "(array([  3.33100000e+03,   8.72000000e+02,   7.00000000e+01,\n",
       "          2.30000000e+01,   5.00000000e+00,   7.00000000e+00,\n",
       "          1.00000000e+00,   1.00000000e+00,   0.00000000e+00,\n",
       "          1.00000000e+00,   0.00000000e+00,   0.00000000e+00,\n",
       "          2.00000000e+00,   1.00000000e+00,   0.00000000e+00,\n",
       "          2.00000000e+00,   0.00000000e+00,   0.00000000e+00,\n",
       "          0.00000000e+00,   1.00000000e+00,   0.00000000e+00,\n",
       "          0.00000000e+00,   0.00000000e+00,   1.00000000e+00,\n",
       "          0.00000000e+00,   1.00000000e+00,   0.00000000e+00,\n",
       "          0.00000000e+00,   0.00000000e+00,   0.00000000e+00,\n",
       "          0.00000000e+00,   1.00000000e+00,   0.00000000e+00,\n",
       "          0.00000000e+00,   0.00000000e+00,   0.00000000e+00,\n",
       "          0.00000000e+00,   0.00000000e+00,   0.00000000e+00,\n",
       "          0.00000000e+00,   0.00000000e+00,   0.00000000e+00,\n",
       "          0.00000000e+00,   0.00000000e+00,   0.00000000e+00,\n",
       "          0.00000000e+00,   0.00000000e+00,   0.00000000e+00,\n",
       "          0.00000000e+00,   0.00000000e+00,   0.00000000e+00,\n",
       "          0.00000000e+00,   0.00000000e+00,   0.00000000e+00,\n",
       "          0.00000000e+00,   0.00000000e+00,   0.00000000e+00,\n",
       "          0.00000000e+00,   0.00000000e+00,   0.00000000e+00,\n",
       "          0.00000000e+00,   0.00000000e+00,   0.00000000e+00,\n",
       "          0.00000000e+00,   0.00000000e+00,   0.00000000e+00,\n",
       "          0.00000000e+00,   0.00000000e+00,   0.00000000e+00,\n",
       "          0.00000000e+00,   0.00000000e+00,   0.00000000e+00,\n",
       "          0.00000000e+00,   0.00000000e+00,   0.00000000e+00,\n",
       "          0.00000000e+00,   0.00000000e+00,   0.00000000e+00,\n",
       "          0.00000000e+00,   0.00000000e+00,   0.00000000e+00,\n",
       "          0.00000000e+00,   0.00000000e+00,   0.00000000e+00,\n",
       "          0.00000000e+00,   0.00000000e+00,   0.00000000e+00,\n",
       "          0.00000000e+00,   0.00000000e+00,   0.00000000e+00,\n",
       "          0.00000000e+00,   0.00000000e+00,   0.00000000e+00,\n",
       "          0.00000000e+00,   0.00000000e+00,   0.00000000e+00,\n",
       "          0.00000000e+00,   0.00000000e+00,   0.00000000e+00,\n",
       "          6.89000000e+02]),\n",
       " array([     0.  ,    999.99,   1999.98,   2999.97,   3999.96,   4999.95,\n",
       "          5999.94,   6999.93,   7999.92,   8999.91,   9999.9 ,  10999.89,\n",
       "         11999.88,  12999.87,  13999.86,  14999.85,  15999.84,  16999.83,\n",
       "         17999.82,  18999.81,  19999.8 ,  20999.79,  21999.78,  22999.77,\n",
       "         23999.76,  24999.75,  25999.74,  26999.73,  27999.72,  28999.71,\n",
       "         29999.7 ,  30999.69,  31999.68,  32999.67,  33999.66,  34999.65,\n",
       "         35999.64,  36999.63,  37999.62,  38999.61,  39999.6 ,  40999.59,\n",
       "         41999.58,  42999.57,  43999.56,  44999.55,  45999.54,  46999.53,\n",
       "         47999.52,  48999.51,  49999.5 ,  50999.49,  51999.48,  52999.47,\n",
       "         53999.46,  54999.45,  55999.44,  56999.43,  57999.42,  58999.41,\n",
       "         59999.4 ,  60999.39,  61999.38,  62999.37,  63999.36,  64999.35,\n",
       "         65999.34,  66999.33,  67999.32,  68999.31,  69999.3 ,  70999.29,\n",
       "         71999.28,  72999.27,  73999.26,  74999.25,  75999.24,  76999.23,\n",
       "         77999.22,  78999.21,  79999.2 ,  80999.19,  81999.18,  82999.17,\n",
       "         83999.16,  84999.15,  85999.14,  86999.13,  87999.12,  88999.11,\n",
       "         89999.1 ,  90999.09,  91999.08,  92999.07,  93999.06,  94999.05,\n",
       "         95999.04,  96999.03,  97999.02,  98999.01,  99999.  ]),\n",
       " <a list of 100 Patch objects>)"
      ]
     },
     "execution_count": 15,
     "metadata": {},
     "output_type": "execute_result"
    },
    {
     "data": {
      "image/png": "[encoded data removed]",
      "text/plain": [
       "<matplotlib.figure.Figure at 0x7fbee865bf60>"
      ]
     },
     "metadata": {},
     "output_type": "display_data"
    }
   ],
   "source": [
    "plots.hist(data[\"V14\"], bins=100)"
   ]
  },
  {
   "cell_type": "code",
   "execution_count": 16,
   "metadata": {
    "collapsed": false
   },
   "outputs": [
    {
     "data": {
      "text/plain": [
       "(array([  3.56000000e+02,   1.72200000e+03,   1.19000000e+03,\n",
       "          6.12000000e+02,   2.43000000e+02,   7.20000000e+01,\n",
       "          4.10000000e+01,   2.20000000e+01,   1.20000000e+01,\n",
       "          1.00000000e+01,   1.10000000e+01,   4.00000000e+00,\n",
       "          2.00000000e+00,   0.00000000e+00,   1.00000000e+00,\n",
       "          5.00000000e+00,   3.00000000e+00,   2.00000000e+00,\n",
       "          0.00000000e+00,   1.00000000e+00,   0.00000000e+00,\n",
       "          0.00000000e+00,   0.00000000e+00,   1.00000000e+00,\n",
       "          0.00000000e+00,   0.00000000e+00,   0.00000000e+00,\n",
       "          0.00000000e+00,   0.00000000e+00,   0.00000000e+00,\n",
       "          1.00000000e+00,   0.00000000e+00,   0.00000000e+00,\n",
       "          0.00000000e+00,   0.00000000e+00,   0.00000000e+00,\n",
       "          0.00000000e+00,   0.00000000e+00,   1.00000000e+00,\n",
       "          0.00000000e+00,   1.00000000e+00,   0.00000000e+00,\n",
       "          0.00000000e+00,   1.00000000e+00,   0.00000000e+00,\n",
       "          0.00000000e+00,   0.00000000e+00,   2.00000000e+00,\n",
       "          0.00000000e+00,   0.00000000e+00,   0.00000000e+00,\n",
       "          0.00000000e+00,   0.00000000e+00,   0.00000000e+00,\n",
       "          0.00000000e+00,   0.00000000e+00,   0.00000000e+00,\n",
       "          0.00000000e+00,   0.00000000e+00,   0.00000000e+00,\n",
       "          0.00000000e+00,   0.00000000e+00,   1.00000000e+00,\n",
       "          0.00000000e+00,   0.00000000e+00,   0.00000000e+00,\n",
       "          0.00000000e+00,   0.00000000e+00,   0.00000000e+00,\n",
       "          0.00000000e+00,   0.00000000e+00,   0.00000000e+00,\n",
       "          0.00000000e+00,   0.00000000e+00,   1.00000000e+00,\n",
       "          0.00000000e+00,   0.00000000e+00,   0.00000000e+00,\n",
       "          0.00000000e+00,   0.00000000e+00,   1.00000000e+00,\n",
       "          0.00000000e+00,   0.00000000e+00,   0.00000000e+00,\n",
       "          0.00000000e+00,   0.00000000e+00,   0.00000000e+00,\n",
       "          0.00000000e+00,   0.00000000e+00,   0.00000000e+00,\n",
       "          0.00000000e+00,   0.00000000e+00,   0.00000000e+00,\n",
       "          0.00000000e+00,   0.00000000e+00,   0.00000000e+00,\n",
       "          0.00000000e+00,   0.00000000e+00,   0.00000000e+00,\n",
       "          1.00000000e+00]),\n",
       " array([     0.,    315.,    630.,    945.,   1260.,   1575.,   1890.,\n",
       "          2205.,   2520.,   2835.,   3150.,   3465.,   3780.,   4095.,\n",
       "          4410.,   4725.,   5040.,   5355.,   5670.,   5985.,   6300.,\n",
       "          6615.,   6930.,   7245.,   7560.,   7875.,   8190.,   8505.,\n",
       "          8820.,   9135.,   9450.,   9765.,  10080.,  10395.,  10710.,\n",
       "         11025.,  11340.,  11655.,  11970.,  12285.,  12600.,  12915.,\n",
       "         13230.,  13545.,  13860.,  14175.,  14490.,  14805.,  15120.,\n",
       "         15435.,  15750.,  16065.,  16380.,  16695.,  17010.,  17325.,\n",
       "         17640.,  17955.,  18270.,  18585.,  18900.,  19215.,  19530.,\n",
       "         19845.,  20160.,  20475.,  20790.,  21105.,  21420.,  21735.,\n",
       "         22050.,  22365.,  22680.,  22995.,  23310.,  23625.,  23940.,\n",
       "         24255.,  24570.,  24885.,  25200.,  25515.,  25830.,  26145.,\n",
       "         26460.,  26775.,  27090.,  27405.,  27720.,  28035.,  28350.,\n",
       "         28665.,  28980.,  29295.,  29610.,  29925.,  30240.,  30555.,\n",
       "         30870.,  31185.,  31500.]),\n",
       " <a list of 100 Patch objects>)"
      ]
     },
     "execution_count": 16,
     "metadata": {},
     "output_type": "execute_result"
    },
    {
     "data": {
      "image/png": "[encoded data removed]",
      "text/plain": [
       "<matplotlib.figure.Figure at 0x7fbee874d0b8>"
      ]
     },
     "metadata": {},
     "output_type": "display_data"
    }
   ],
   "source": [
    "plots.hist(PriceRecorded[\"V14\"], bins=100)"
   ]
  }
 ],
 "metadata": {
  "kernelspec": {
   "display_name": "Python 3",
   "language": "python",
   "name": "python3"
  },
  "language_info": {
   "codemirror_mode": {
    "name": "ipython",
    "version": 3
   },
   "file_extension": ".py",
   "mimetype": "text/x-python",
   "name": "python",
   "nbconvert_exporter": "python",
   "pygments_lexer": "ipython3",
   "version": "3.4.4"
  }
 },
 "nbformat": 4,
 "nbformat_minor": 0
}
