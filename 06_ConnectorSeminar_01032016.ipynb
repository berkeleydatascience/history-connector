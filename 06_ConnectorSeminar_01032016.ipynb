{
 "cells": [
  {
   "cell_type": "markdown",
   "metadata": {},
   "source": [
    "# Comparing several variables - to each other!"
   ]
  },
  {
   "cell_type": "code",
   "execution_count": null,
   "metadata": {
    "collapsed": true
   },
   "outputs": [],
   "source": [
    "from datascience import *\n",
    "%matplotlib inline\n",
    "import matplotlib.pyplot as plots\n",
    "plots.style.use('fivethirtyeight')\n",
    "import numpy as np\n",
    "from scipy import stats"
   ]
  },
  {
   "cell_type": "markdown",
   "metadata": {},
   "source": [
    "Does giving aid to the unemployed have the perverse effect of increasing unemployment? This is a longstanding debate, and we will look at some data from an 1831 investigation of relief payments in England. \n",
    "\n",
    "One question that does not have an immediately obvious answer is what causes what: an argument could be made that as unemployment increases, so do relief payments, and of course a counterargument would be that the more generous the relief payments, the more people will be opt out of work (or, high benefits “induce” unemployment). We will not settle this today, but we will look an interesting relationships: the relationship between unemployment and relief payments, and the relationship between relief payments and workers in the grain sector.\n",
    "\n",
    "/1/ Starting with scatter plots\n",
    "\n",
    "/2/ From standard units to the correlation coefficient\n",
    "\n",
    "/3/ Questions\n"
   ]
  },
  {
   "cell_type": "markdown",
   "metadata": {},
   "source": [
    "## Starting with scatter plots\n",
    "\n",
    "Scatter plots are an excellent way to visualize these relationships, although we must consider that there are limitations to their usefulness.\n",
    "\n",
    "We'll begin by looking at UNEMP and RELIEF in our dataset. \n",
    "--UNEMP refers to unemployment, represented as the ratio of unemployed people to wage laborers in each parish.\n",
    "--RELIEF refers to welfare relief payments, represented by expenditure per person, in shillings, in each parish.\n"
   ]
  },
  {
   "cell_type": "code",
   "execution_count": null,
   "metadata": {
    "collapsed": true
   },
   "outputs": [],
   "source": [
    "data = Table.read_table(\"https://github.com/data-8/history-connector/raw/gh-pages/Data4.csv\")\n",
    "data"
   ]
  },
  {
   "cell_type": "code",
   "execution_count": null,
   "metadata": {
    "collapsed": true
   },
   "outputs": [],
   "source": [
    "plots.scatter(data.column(\"UNEMP\"), data.column(\"RELIEF\")) #you could also use data.scatter(\"UNEMP\", \"RELIEF\")"
   ]
  },
  {
   "cell_type": "markdown",
   "metadata": {},
   "source": [
    "What looks unusual? Two things to wonder about are:\n",
    "--How different do the distributions look? \n",
    "--Are there any especially unusual values?\n",
    "\n",
    "Note also there is an outlier, one parish has 60+% UNEMP -- how different is the analysis with and without the outlier, should we include the parish in our analysis? We will come back to the question of outliers."
   ]
  },
  {
   "cell_type": "code",
   "execution_count": null,
   "metadata": {
    "collapsed": true
   },
   "outputs": [],
   "source": [
    "#Question: Draw historams of UNEMP and RELIEF and what would you comment on about the distributions?\n",
    "\n",
    "data.hist..."
   ]
  },
  {
   "cell_type": "markdown",
   "metadata": {},
   "source": [
    "### Scatter plot of two variables with (more) similar distributions"
   ]
  },
  {
   "cell_type": "markdown",
   "metadata": {},
   "source": [
    "Let's look at two variables with what appear like similar distributions: RELIEF and GRAIN\n",
    "--GRAIN is percent adult males employed in grain production in each parish "
   ]
  },
  {
   "cell_type": "code",
   "execution_count": null,
   "metadata": {
    "collapsed": true
   },
   "outputs": [],
   "source": [
    "data.hist(\"RELIEF\", bins=np.arange(0, 101, 1))\n",
    "data.hist(\"GRAIN\", bins=np.arange(0, 101, 1))"
   ]
  },
  {
   "cell_type": "code",
   "execution_count": null,
   "metadata": {
    "collapsed": true
   },
   "outputs": [],
   "source": [
    "#Question: how would you make the scatter plot that looks like the ones with hybrid cars that we saw during lecture? \n",
    "\n",
    "data.scatter(....)"
   ]
  },
  {
   "cell_type": "markdown",
   "metadata": {},
   "source": [
    "What is the interpretation? Is it surprising that relief payments appear to be higher in parishes where more of the population works in grain production? Consider the nature of grain production, or what we might call seasonality in agricultural labor."
   ]
  },
  {
   "cell_type": "markdown",
   "metadata": {},
   "source": [
    "## From Standard Units to the Correlation Coefficient"
   ]
  },
  {
   "cell_type": "markdown",
   "metadata": {},
   "source": [
    "To get a sense of the association between RELIEF and GRAIN, we can convert both variables to what we described last time as standard units. \n",
    "\n",
    "Question: what are standard units, and why bother calculating them? Hint: look at the previous lab!\n",
    "\n",
    "Following the three step process we saw in lecture, first we transform the variable to standard units, next we multiply each pair of standard units, and finally we calculate the correlation coefficient.\n",
    "\n",
    "Let’s first focus on GRAIN and RELIEF, and note that to plot in standard units, we make a table with the variables we're interested in, converted to standard units. Here's a handy function to convert an array of numbers into standard units:"
   ]
  },
  {
   "cell_type": "code",
   "execution_count": null,
   "metadata": {
    "collapsed": true
   },
   "outputs": [],
   "source": [
    "def standard_units(any_numbers):\n",
    "    \"Convert any array of numbers to standard units.\"\n",
    "    return (any_numbers - np.mean(any_numbers))/np.std(any_numbers)"
   ]
  },
  {
   "cell_type": "code",
   "execution_count": null,
   "metadata": {
    "collapsed": true
   },
   "outputs": [],
   "source": [
    "partial_data = data.select(['INCOME', 'WEALTH'])\n",
    "partial_data"
   ]
  },
  {
   "cell_type": "code",
   "execution_count": null,
   "metadata": {
    "collapsed": true
   },
   "outputs": [],
   "source": [
    "#Step 1: Caluculating standard units for GRAIN and RELIEF\n",
    "\n",
    "partial = data.select(['GRAIN', 'RELIEF'])\n",
    "partial\n",
    "\n",
    "su_partial= partial.with_columns([\n",
    "     'GRAIN (standard units)', standard_units(partial.column('GRAIN')),\n",
    "     'RELIEF (standard units)', standard_units(partial.column('RELIEF'))   \n",
    "    ])\n",
    "su_partial"
   ]
  },
  {
   "cell_type": "code",
   "execution_count": null,
   "metadata": {
    "collapsed": true
   },
   "outputs": [],
   "source": [
    "#Step 2: Calculating the product of pairs of standard units\n",
    "\n",
    "su_product = su_partial.with_column ('product of standard units', su_partial.column(2)*su_partial.column(3))\n",
    "su_product"
   ]
  },
  {
   "cell_type": "code",
   "execution_count": null,
   "metadata": {
    "collapsed": true
   },
   "outputs": [],
   "source": [
    "#Step 3: calculating the r\n",
    "\n",
    "r = np.mean(su_product.column(4))\n",
    "r"
   ]
  },
  {
   "cell_type": "markdown",
   "metadata": {},
   "source": [
    "Question: So, is the r small or large, does its sign matter? Are we closer to getting at the question why does it seem that the grain labor in a parish, the more relief?\n",
    "\n",
    "Let’s look at scatter plots of standard units, and see how they affect our discussion."
   ]
  },
  {
   "cell_type": "code",
   "execution_count": null,
   "metadata": {
    "collapsed": true
   },
   "outputs": [],
   "source": [
    "Table().with_columns([\n",
    "    'GRAIN (standard units)',  standard_units(data.column('GRAIN')), \n",
    "    'RELIEF (standard units)', standard_units(data.column('RELIEF'))\n",
    "]).scatter(0,1)\n",
    "plots.xlim([-4, 4])\n",
    "plots.ylim([-4, 4])\n",
    "\n",
    "#Note another approach:\n",
    "\n",
    "#su_partial.scatter(\"GRAIN (standard units)\", \"RELIEF (standard units)\", s=20)\n",
    "#plots.xlim([-5, 5])\n",
    "#plots.ylim([-5, 5])"
   ]
  },
  {
   "cell_type": "code",
   "execution_count": null,
   "metadata": {
    "collapsed": true
   },
   "outputs": [],
   "source": [
    "#Question: How would you add a trend-line? Would that help?"
   ]
  },
  {
   "cell_type": "markdown",
   "metadata": {},
   "source": [
    "Now, back to examining UNEMP and RELIEF. You could draw a scatter of UNEMP and RELIEF using standard units, and one thing to keep in mind is – the outlier. Check to make sure it is included on the scatter plot, and you may have to try several times."
   ]
  },
  {
   "cell_type": "code",
   "execution_count": null,
   "metadata": {
    "collapsed": true
   },
   "outputs": [],
   "source": [
    "# After running the code, you see the outlier? What could you do to check?\n",
    "\n",
    "Table().with_columns([\n",
    "    'UNEMP (standard units)',  standard_units(data.column('UNEMP')), \n",
    "    'RELIEF (standard units)', standard_units(data.column('RELIEF'))\n",
    "]).scatter(-1,0, fit_line=True, s=10)\n",
    "plots.xlim([-4, 4])\n",
    "plots.ylim([-4, 4])\n",
    "None"
   ]
  },
  {
   "cell_type": "markdown",
   "metadata": {},
   "source": [
    "## From the Correlation Coefficient to Questions"
   ]
  },
  {
   "cell_type": "markdown",
   "metadata": {},
   "source": [
    "/1/ Derive the r for UNEMP and RELIEF. How does it compare with the r we derived for GRAIN and RELIEF, and what does it mean?\n",
    "\n",
    "/2/ Would the r be useful when considering the relationship between POP, the population of each parish, and WEALTH, the value of real property, such as land and buildings, in the parish per capita?"
   ]
  }
 ],
 "metadata": {
  "kernelspec": {
   "display_name": "Python 3",
   "language": "python",
   "name": "python3"
  },
  "language_info": {
   "codemirror_mode": {
    "name": "ipython",
    "version": 3
   },
   "file_extension": ".py",
   "mimetype": "text/x-python",
   "name": "python",
   "nbconvert_exporter": "python",
   "pygments_lexer": "ipython3",
   "version": "3.5.0"
  }
 },
 "nbformat": 4,
 "nbformat_minor": 0
}
