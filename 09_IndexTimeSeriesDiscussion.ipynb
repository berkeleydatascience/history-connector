{
 "cells": [
  {
   "cell_type": "code",
   "execution_count": null,
   "metadata": {
    "collapsed": true
   },
   "outputs": [],
   "source": [
    "from datascience import Table\n",
    "%matplotlib inline\n",
    "import matplotlib.pyplot as plt\n",
    "import numpy as np\n",
    "plt.style.use('fivethirtyeight')\n",
    "\n",
    "import pandas as pd\n",
    "\n",
    "## Just for reference, since datasience is evolving rapidly\n",
    "import datascience as ds\n",
    "ds.__version__"
   ]
  },
  {
   "cell_type": "markdown",
   "metadata": {},
   "source": [
    "# Index Numbers and Time-Series\n",
    "\n",
    "A lot of material is covered in this discussion, and here is an outline\n",
    "/I/ Describe construction of indices: \n",
    "-Example of slave prices by region, age and gender: \n",
    "http://hsus.cambridge.org/HSUSWeb/table/continuedownload.do?id=Bb215-218&changeSeries=false&isTopmostOn=true\n",
    "\n",
    "-Describe Composite Index, important version of this is the CPI \n",
    "/1/ Basket of goods \n",
    "/2/ Base year \n",
    "/3/ WEIGHTS -- very hard part \n",
    "/4/ Calculation\n",
    "\n",
    "/II/ Index number problem: \n",
    "/1/ Which industries/goods/services included? \n",
    "/2/ Which weights assigned to each industry/good?\n",
    "\n",
    "See this problem in both kinds of common indices: \n",
    "/1/ Laspeyres: overstate price increases; cannot substitute \n",
    "/2/ Paasche: opposite effect, substitution exaggerated; quality of new goods exaggerated\n",
    "So, what about the CPI? Note that it has -- changed over time! A very historically-contingent measure but we see it as 'objective.'\n",
    "\n",
    "/III/ Your turn\n",
    "/1/ Some questions about indices\n",
    "/2/ Thinking about the final project"
   ]
  },
  {
   "cell_type": "markdown",
   "metadata": {},
   "source": [
    "## /I/ Why are indices used so much?\n",
    "\n",
    "Let's look at a version of the slave prices we are familiar with. This data comes from the #Historical Statistics of the US# The data are in a csv file, agegenderindex. \n",
    "\n",
    "Here's the web-site:\n",
    "http://hsus.cambridge.org/HSUSWeb/table/continuedownload.do?id=Bb215-218&changeSeries=false&isTopmostOn=true\n",
    "\n",
    "This is a much, much simpler presentation than our histograms from the Discussion 3, and we can look at those results briefly. Note that Gavin Wright and Richard Sutch focus on: /i/ males of prime work age, 18-30, and set their value to 100 /ii/ all the data are for year 1850 /iii/ Old South: Maryland, Virginia, and North and South Carolina; New South: Louisiana\n",
    "\n",
    "First, the table, then, the plot."
   ]
  },
  {
   "cell_type": "code",
   "execution_count": null,
   "metadata": {
    "collapsed": true
   },
   "outputs": [],
   "source": [
    "index = Table.read_table(\"https://github.com/data-8/history-connector/raw/gh-pages/agegenderindex.csv\")\n",
    "index"
   ]
  },
  {
   "cell_type": "code",
   "execution_count": null,
   "metadata": {
    "collapsed": true
   },
   "outputs": [],
   "source": [
    "index.select([\"age2\", \"old_south_m\", \"new_south_m\"]).plot(\"age2\", [\"old_south_m\", \"new_south_m\"], lw=1)"
   ]
  },
  {
   "cell_type": "code",
   "execution_count": null,
   "metadata": {
    "collapsed": true
   },
   "outputs": [],
   "source": [
    "#Note there's a problem in displayind the data, and here's part of the issue\n",
    "\n",
    "ageRange = []\n",
    "#forloop every string in the first column\n",
    "for i in index.column(0):\n",
    "    ageStart = 0\n",
    "    ageEnd = 0\n",
    "    count = 0\n",
    "    #get the start of age, which maybe the one or two digit of integer\n",
    "    while (i[count] != \"t\"):\n",
    "        ageStart = ageStart * 10 + int(i[count])\n",
    "        count += 1\n",
    "    #skipping \"to\" in the string\n",
    "    count += 2\n",
    "    while count < len(i):\n",
    "        ageEnd = ageEnd * 10 + int(i[count])\n",
    "        count +=1\n",
    "    #get the range\n",
    "    diff = ageEnd - ageStart\n",
    "    ageRange.append(diff)\n",
    "\n",
    "index.append_column (\"agerange\", ageRange)\n",
    "index\n",
    "\n",
    "#Thank you, Zhemin, for the code!\n"
   ]
  },
  {
   "cell_type": "markdown",
   "metadata": {},
   "source": [
    "## Questions for discussion\n",
    "\n",
    "/1/ Question -- and a big one, actually: how would you guys go about making an index-based plot? \n",
    "\n",
    "/2/ If you do a plot for women from the Old and the New South, what trends do you notice?\n"
   ]
  },
  {
   "cell_type": "code",
   "execution_count": null,
   "metadata": {
    "collapsed": true
   },
   "outputs": [],
   "source": [
    "#Code for plot showing WOMEN#\n",
    "\n",
    "index.....\n",
    "\n",
    "#Any other way to plot this?"
   ]
  },
  {
   "cell_type": "markdown",
   "metadata": {},
   "source": [
    "# /II/ Slave Prices and Moving Averages\n",
    "\n",
    "Historical Statistics also compiles a summary of research on slave prices, a topic we examined earlier. Here's that link:\n",
    "http://hsus.cambridge.org/HSUSWeb/search/searchTable.do?id=Bb209-214\n",
    "Before going further, consider the notes that Richard Sutch includes -- he \"visually estimated\" some values, what do you make of that statement?\n",
    "\n",
    "Here's his web-site, and you'll note one of the most famous articles of slavery, \"Capitalists Without Capital: The Burden of Slavery and the Impact of Emancipation,\" with Roger L. Ransom. Agricultural History 62 (Summer 1988).\n",
    "http://economics.ucr.edu/people/profemer/sutch.html\n",
    "\n",
    "A simple version appears as another csv file, slaveprices, and we will focus on the average price, and see how it changes over time and how we might describe the trends. As a spoiler, imposing a TREND LINE, as we had done on the relationship between unemployment and relief, is not exactly the best approach."
   ]
  },
  {
   "cell_type": "code",
   "execution_count": null,
   "metadata": {
    "collapsed": true
   },
   "outputs": [],
   "source": [
    "slaveprices = Table.read_table(\"https://github.com/data-8/history-connector/raw/gh-pages/slaveprices.csv\")\n",
    "slaveprices"
   ]
  },
  {
   "cell_type": "code",
   "execution_count": null,
   "metadata": {
    "collapsed": true
   },
   "outputs": [],
   "source": [
    "#To visualize the change in the average price before the Civil War, a plot is helpful:\n",
    "\n",
    "slaveprices.select([\"year\", \"average\"]).plot(\"year\", \"average\", lw=1)\n",
    "\n",
    "#John DeNero increased Size to 400 during last lecture, so you want to try changing lw -- impressions?"
   ]
  },
  {
   "cell_type": "markdown",
   "metadata": {},
   "source": [
    "## Moving Average\n",
    "\n",
    "As Pat Hundson notes, it is possible to impose a linear trend, Y = a + bX -- this should be familiar? The challange is find what looks like reasonable periodicity, and one approach is the MOVING AVERAGE.\n",
    "\n",
    "We will do a five year moving, or rolling average, and then you will have the opporunity to try other specifications. We will print out the value, so you get an intuition for the calculation.\n",
    "\n",
    "A resource recommended by our own Chris Holdgraf\n",
    "\n",
    "http://pandas.pydata.org/pandas-docs/stable/computation.html#window-functions\n",
    "\n",
    "Perhaps this may be useful for part of your final project?"
   ]
  },
  {
   "cell_type": "code",
   "execution_count": null,
   "metadata": {
    "collapsed": true
   },
   "outputs": [],
   "source": [
    "df= slaveprices.to_df()\n",
    "ave5= pd.rolling_mean(df [\"average\"], 5, center =True)\n",
    "ave5\n",
    "\n",
    "#What do you note on the print-out?"
   ]
  },
  {
   "cell_type": "code",
   "execution_count": null,
   "metadata": {
    "collapsed": true
   },
   "outputs": [],
   "source": [
    "#We can append these values to our table\n",
    "\n",
    "slaveprices....\n",
    "slaveprices"
   ]
  },
  {
   "cell_type": "code",
   "execution_count": null,
   "metadata": {
    "collapsed": true
   },
   "outputs": [],
   "source": [
    "#Visaually, you can notice the effect:\n",
    "\n",
    "slaveprices.plot (\"year\", [\"average\", \"5year\"])"
   ]
  },
  {
   "cell_type": "code",
   "execution_count": null,
   "metadata": {
    "collapsed": true
   },
   "outputs": [],
   "source": [
    "#Let's try a 3-year moving agerage:\n",
    "\n",
    "df= slaveprices.to_df()\n",
    "ave3= pd.rolling_mean(df [\"average\"], 3, center =True)\n",
    "slaveprices.append_column (\"3year\", ave3)\n",
    "slaveprices"
   ]
  },
  {
   "cell_type": "code",
   "execution_count": null,
   "metadata": {
    "collapsed": true
   },
   "outputs": [],
   "source": [
    "slaveprices.plot (\"year\", [\"average\", \"5year\", \"3year\"])"
   ]
  },
  {
   "cell_type": "markdown",
   "metadata": {},
   "source": [
    "## Question for discussion\n",
    "\n",
    "Try a different moving average, say, longer ones -- 7 years /common for business cycle/\n",
    "or 9 years /common for demographic data/ -- or shorter ones, 2 years? What do you see?"
   ]
  },
  {
   "cell_type": "markdown",
   "metadata": {},
   "source": [
    "## What do those dollar amounts mean?\n",
    "\n",
    "So, how do we make sense of the dollar values? We looked at the web-site which provides historical data on prices:\n",
    "\n",
    "https://www.measuringworth.com/\n",
    "\n",
    "Samuel Williamson's caluculation are commenly used, and note that he suggests no fewer then SEVEN measures of worth. We will look at the LABOR VALUE of slaves, and to do this we need another file, laborvalue.csv."
   ]
  },
  {
   "cell_type": "code",
   "execution_count": null,
   "metadata": {
    "collapsed": true
   },
   "outputs": [],
   "source": [
    "laborvalue = Table.read_table(\"https://github.com/data-8/history-connector/raw/gh-pages/laborvalue.csv\")\n",
    "laborvalue"
   ]
  },
  {
   "cell_type": "markdown",
   "metadata": {},
   "source": [
    "# /III/ Your turn\n",
    "\n",
    "/1/ Could you use the merged table to construct a variable that captures the real labor value for the average slave? How about for Engerman’s estimate, noting the limitations of the figures available to us. \n",
    "\n",
    "/2/ Let's close the discussion by looking to the future, namely let's talk a bit about the final project and what would be helpful."
   ]
  },
  {
   "cell_type": "code",
   "execution_count": null,
   "metadata": {
    "collapsed": true
   },
   "outputs": [],
   "source": []
  },
  {
   "cell_type": "markdown",
   "metadata": {},
   "source": [
    "https://www.kaggle.com/jpopham91/liberty-mutual-group-property-inspection-prediction/gini-scoring-simple-and-efficient"
   ]
  }
 ],
 "metadata": {
  "kernelspec": {
   "display_name": "Python 3",
   "language": "python",
   "name": "python3"
  },
  "language_info": {
   "codemirror_mode": {
    "name": "ipython",
    "version": 3
   },
   "file_extension": ".py",
   "mimetype": "text/x-python",
   "name": "python",
   "nbconvert_exporter": "python",
   "pygments_lexer": "ipython3",
   "version": "3.5.1"
  }
 },
 "nbformat": 4,
 "nbformat_minor": 0
}
